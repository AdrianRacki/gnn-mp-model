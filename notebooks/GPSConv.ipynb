{
 "cells": [
  {
   "cell_type": "code",
   "execution_count": 1,
   "metadata": {},
   "outputs": [
    {
     "name": "stderr",
     "output_type": "stream",
     "text": [
      "c:\\Users\\01121272\\Desktop\\Projects\\gnn-mp-model\\.venv\\Lib\\site-packages\\tqdm\\auto.py:21: TqdmWarning: IProgress not found. Please update jupyter and ipywidgets. See https://ipywidgets.readthedocs.io/en/stable/user_install.html\n",
      "  from .autonotebook import tqdm as notebook_tqdm\n"
     ]
    }
   ],
   "source": [
    "import matplotlib.pyplot as plt\n",
    "import numpy as np\n",
    "import pandas as pd\n",
    "import torch\n",
    "import torch.nn.functional as F\n",
    "from lightning.pytorch.callbacks import (\n",
    "    EarlyStopping,\n",
    "    LearningRateMonitor,\n",
    "    ModelCheckpoint,\n",
    ")\n",
    "from lightning.pytorch.loggers import CSVLogger\n",
    "from mango import scheduler, Tuner\n",
    "from sklearn.metrics import r2_score, root_mean_squared_error\n",
    "from torch.nn import (\n",
    "    BatchNorm1d,\n",
    "    L1Loss,\n",
    "    MSELoss,\n",
    "    Linear,\n",
    "    ModuleList,\n",
    "    ReLU,\n",
    "    Sequential,\n",
    ")\n",
    "from torch_geometric.nn import (\n",
    "    GINEConv,\n",
    "    GPSConv,\n",
    "    GraphNorm,\n",
    "    SAGPooling,\n",
    "    SetTransformerAggregation,\n",
    ")\n",
    "from rdkit import Chem\n",
    "from sklearn.feature_selection import r_regression"
   ]
  },
  {
   "cell_type": "code",
   "execution_count": 2,
   "metadata": {},
   "outputs": [
    {
     "data": {
      "text/html": [
       "<pre style=\"white-space:pre;overflow-x:auto;line-height:normal;font-family:Menlo,'DejaVu Sans Mono',consolas,'Courier New',monospace\"><span style=\"color: #7fbfbf; text-decoration-color: #7fbfbf\">[08/01/24 12:18:05] </span><span style=\"color: #000080; text-decoration-color: #000080\">INFO    </span> Registered line magic <span style=\"color: #008000; text-decoration-color: #008000\">'%reload_kedro'</span>                                   <a href=\"file://c:\\Users\\01121272\\Desktop\\Projects\\gnn-mp-model\\.venv\\Lib\\site-packages\\kedro\\ipython\\__init__.py\" target=\"_blank\"><span style=\"color: #7f7f7f; text-decoration-color: #7f7f7f\">__init__.py</span></a><span style=\"color: #7f7f7f; text-decoration-color: #7f7f7f\">:</span><a href=\"file://c:\\Users\\01121272\\Desktop\\Projects\\gnn-mp-model\\.venv\\Lib\\site-packages\\kedro\\ipython\\__init__.py#58\" target=\"_blank\"><span style=\"color: #7f7f7f; text-decoration-color: #7f7f7f\">58</span></a>\n",
       "</pre>\n"
      ],
      "text/plain": [
       "\u001b[2;36m[08/01/24 12:18:05]\u001b[0m\u001b[2;36m \u001b[0m\u001b[34mINFO    \u001b[0m Registered line magic \u001b[32m'%reload_kedro'\u001b[0m                                   \u001b]8;id=677071;file://c:\\Users\\01121272\\Desktop\\Projects\\gnn-mp-model\\.venv\\Lib\\site-packages\\kedro\\ipython\\__init__.py\u001b\\\u001b[2m__init__.py\u001b[0m\u001b]8;;\u001b\\\u001b[2m:\u001b[0m\u001b]8;id=209410;file://c:\\Users\\01121272\\Desktop\\Projects\\gnn-mp-model\\.venv\\Lib\\site-packages\\kedro\\ipython\\__init__.py#58\u001b\\\u001b[2m58\u001b[0m\u001b]8;;\u001b\\\n"
      ]
     },
     "metadata": {},
     "output_type": "display_data"
    },
    {
     "data": {
      "text/html": [
       "<pre style=\"white-space:pre;overflow-x:auto;line-height:normal;font-family:Menlo,'DejaVu Sans Mono',consolas,'Courier New',monospace\"><span style=\"color: #7fbfbf; text-decoration-color: #7fbfbf\">                    </span><span style=\"color: #000080; text-decoration-color: #000080\">INFO    </span> Registered line magic <span style=\"color: #008000; text-decoration-color: #008000\">'%load_node'</span>                                      <a href=\"file://c:\\Users\\01121272\\Desktop\\Projects\\gnn-mp-model\\.venv\\Lib\\site-packages\\kedro\\ipython\\__init__.py\" target=\"_blank\"><span style=\"color: #7f7f7f; text-decoration-color: #7f7f7f\">__init__.py</span></a><span style=\"color: #7f7f7f; text-decoration-color: #7f7f7f\">:</span><a href=\"file://c:\\Users\\01121272\\Desktop\\Projects\\gnn-mp-model\\.venv\\Lib\\site-packages\\kedro\\ipython\\__init__.py#60\" target=\"_blank\"><span style=\"color: #7f7f7f; text-decoration-color: #7f7f7f\">60</span></a>\n",
       "</pre>\n"
      ],
      "text/plain": [
       "\u001b[2;36m                   \u001b[0m\u001b[2;36m \u001b[0m\u001b[34mINFO    \u001b[0m Registered line magic \u001b[32m'%load_node'\u001b[0m                                      \u001b]8;id=635135;file://c:\\Users\\01121272\\Desktop\\Projects\\gnn-mp-model\\.venv\\Lib\\site-packages\\kedro\\ipython\\__init__.py\u001b\\\u001b[2m__init__.py\u001b[0m\u001b]8;;\u001b\\\u001b[2m:\u001b[0m\u001b]8;id=893083;file://c:\\Users\\01121272\\Desktop\\Projects\\gnn-mp-model\\.venv\\Lib\\site-packages\\kedro\\ipython\\__init__.py#60\u001b\\\u001b[2m60\u001b[0m\u001b]8;;\u001b\\\n"
      ]
     },
     "metadata": {},
     "output_type": "display_data"
    },
    {
     "data": {
      "text/html": [
       "<pre style=\"white-space:pre;overflow-x:auto;line-height:normal;font-family:Menlo,'DejaVu Sans Mono',consolas,'Courier New',monospace\"><span style=\"color: #7fbfbf; text-decoration-color: #7fbfbf\">                    </span><span style=\"color: #000080; text-decoration-color: #000080\">INFO    </span> Resolved project path as:                                              <a href=\"file://c:\\Users\\01121272\\Desktop\\Projects\\gnn-mp-model\\.venv\\Lib\\site-packages\\kedro\\ipython\\__init__.py\" target=\"_blank\"><span style=\"color: #7f7f7f; text-decoration-color: #7f7f7f\">__init__.py</span></a><span style=\"color: #7f7f7f; text-decoration-color: #7f7f7f\">:</span><a href=\"file://c:\\Users\\01121272\\Desktop\\Projects\\gnn-mp-model\\.venv\\Lib\\site-packages\\kedro\\ipython\\__init__.py#171\" target=\"_blank\"><span style=\"color: #7f7f7f; text-decoration-color: #7f7f7f\">171</span></a>\n",
       "<span style=\"color: #7fbfbf; text-decoration-color: #7fbfbf\">                    </span>         c:\\Users\\<span style=\"color: #008080; text-decoration-color: #008080; font-weight: bold\">01121272</span>\\Desktop\\Projects\\gnn-mp-model.                       <span style=\"color: #7f7f7f; text-decoration-color: #7f7f7f\">               </span>\n",
       "<span style=\"color: #7fbfbf; text-decoration-color: #7fbfbf\">                    </span>         To set a different path, run <span style=\"color: #008000; text-decoration-color: #008000\">'%reload_kedro &lt;project_root&gt;'</span>            <span style=\"color: #7f7f7f; text-decoration-color: #7f7f7f\">               </span>\n",
       "</pre>\n"
      ],
      "text/plain": [
       "\u001b[2;36m                   \u001b[0m\u001b[2;36m \u001b[0m\u001b[34mINFO    \u001b[0m Resolved project path as:                                              \u001b]8;id=581127;file://c:\\Users\\01121272\\Desktop\\Projects\\gnn-mp-model\\.venv\\Lib\\site-packages\\kedro\\ipython\\__init__.py\u001b\\\u001b[2m__init__.py\u001b[0m\u001b]8;;\u001b\\\u001b[2m:\u001b[0m\u001b]8;id=693300;file://c:\\Users\\01121272\\Desktop\\Projects\\gnn-mp-model\\.venv\\Lib\\site-packages\\kedro\\ipython\\__init__.py#171\u001b\\\u001b[2m171\u001b[0m\u001b]8;;\u001b\\\n",
       "\u001b[2;36m                    \u001b[0m         c:\\Users\\\u001b[1;36m01121272\u001b[0m\\Desktop\\Projects\\gnn-mp-model.                       \u001b[2m               \u001b[0m\n",
       "\u001b[2;36m                    \u001b[0m         To set a different path, run \u001b[32m'%reload_kedro \u001b[0m\u001b[32m<\u001b[0m\u001b[32mproject_root\u001b[0m\u001b[32m>\u001b[0m\u001b[32m'\u001b[0m            \u001b[2m               \u001b[0m\n"
      ]
     },
     "metadata": {},
     "output_type": "display_data"
    },
    {
     "data": {
      "text/html": [
       "<pre style=\"white-space:pre;overflow-x:auto;line-height:normal;font-family:Menlo,'DejaVu Sans Mono',consolas,'Courier New',monospace\"><span style=\"color: #7fbfbf; text-decoration-color: #7fbfbf\">[08/01/24 12:18:08] </span><span style=\"color: #000080; text-decoration-color: #000080\">INFO    </span> Registering new custom resolver: <span style=\"color: #008000; text-decoration-color: #008000\">'km.random_name'</span>                    <a href=\"file://c:\\Users\\01121272\\Desktop\\Projects\\gnn-mp-model\\.venv\\Lib\\site-packages\\kedro_mlflow\\framework\\hooks\\mlflow_hook.py\" target=\"_blank\"><span style=\"color: #7f7f7f; text-decoration-color: #7f7f7f\">mlflow_hook.py</span></a><span style=\"color: #7f7f7f; text-decoration-color: #7f7f7f\">:</span><a href=\"file://c:\\Users\\01121272\\Desktop\\Projects\\gnn-mp-model\\.venv\\Lib\\site-packages\\kedro_mlflow\\framework\\hooks\\mlflow_hook.py#65\" target=\"_blank\"><span style=\"color: #7f7f7f; text-decoration-color: #7f7f7f\">65</span></a>\n",
       "</pre>\n"
      ],
      "text/plain": [
       "\u001b[2;36m[08/01/24 12:18:08]\u001b[0m\u001b[2;36m \u001b[0m\u001b[34mINFO    \u001b[0m Registering new custom resolver: \u001b[32m'km.random_name'\u001b[0m                    \u001b]8;id=674848;file://c:\\Users\\01121272\\Desktop\\Projects\\gnn-mp-model\\.venv\\Lib\\site-packages\\kedro_mlflow\\framework\\hooks\\mlflow_hook.py\u001b\\\u001b[2mmlflow_hook.py\u001b[0m\u001b]8;;\u001b\\\u001b[2m:\u001b[0m\u001b]8;id=869908;file://c:\\Users\\01121272\\Desktop\\Projects\\gnn-mp-model\\.venv\\Lib\\site-packages\\kedro_mlflow\\framework\\hooks\\mlflow_hook.py#65\u001b\\\u001b[2m65\u001b[0m\u001b]8;;\u001b\\\n"
      ]
     },
     "metadata": {},
     "output_type": "display_data"
    },
    {
     "data": {
      "text/html": [
       "<pre style=\"white-space:pre;overflow-x:auto;line-height:normal;font-family:Menlo,'DejaVu Sans Mono',consolas,'Courier New',monospace\"><span style=\"color: #7fbfbf; text-decoration-color: #7fbfbf\">                    </span><span style=\"color: #000080; text-decoration-color: #000080\">INFO    </span> The <span style=\"color: #008000; text-decoration-color: #008000\">'tracking_uri'</span> key in mlflow.yml is relative            <a href=\"file://c:\\Users\\01121272\\Desktop\\Projects\\gnn-mp-model\\.venv\\Lib\\site-packages\\kedro_mlflow\\config\\kedro_mlflow_config.py\" target=\"_blank\"><span style=\"color: #7f7f7f; text-decoration-color: #7f7f7f\">kedro_mlflow_config.py</span></a><span style=\"color: #7f7f7f; text-decoration-color: #7f7f7f\">:</span><a href=\"file://c:\\Users\\01121272\\Desktop\\Projects\\gnn-mp-model\\.venv\\Lib\\site-packages\\kedro_mlflow\\config\\kedro_mlflow_config.py#260\" target=\"_blank\"><span style=\"color: #7f7f7f; text-decoration-color: #7f7f7f\">260</span></a>\n",
       "<span style=\"color: #7fbfbf; text-decoration-color: #7fbfbf\">                    </span>         <span style=\"font-weight: bold\">(</span><span style=\"color: #008000; text-decoration-color: #008000\">'server.mlflow_(tracking|registry)_uri = mlruns'</span><span style=\"font-weight: bold\">)</span>. It is   <span style=\"color: #7f7f7f; text-decoration-color: #7f7f7f\">                          </span>\n",
       "<span style=\"color: #7fbfbf; text-decoration-color: #7fbfbf\">                    </span>         converted to a valid uri:                                   <span style=\"color: #7f7f7f; text-decoration-color: #7f7f7f\">                          </span>\n",
       "<span style=\"color: #7fbfbf; text-decoration-color: #7fbfbf\">                    </span>         <span style=\"color: #008000; text-decoration-color: #008000\">'file:///C:/Users/01121272/Desktop/Projects/gnn-mp-model/ml</span> <span style=\"color: #7f7f7f; text-decoration-color: #7f7f7f\">                          </span>\n",
       "<span style=\"color: #7fbfbf; text-decoration-color: #7fbfbf\">                    </span>         <span style=\"color: #008000; text-decoration-color: #008000\">runs'</span>                                                       <span style=\"color: #7f7f7f; text-decoration-color: #7f7f7f\">                          </span>\n",
       "</pre>\n"
      ],
      "text/plain": [
       "\u001b[2;36m                   \u001b[0m\u001b[2;36m \u001b[0m\u001b[34mINFO    \u001b[0m The \u001b[32m'tracking_uri'\u001b[0m key in mlflow.yml is relative            \u001b]8;id=765512;file://c:\\Users\\01121272\\Desktop\\Projects\\gnn-mp-model\\.venv\\Lib\\site-packages\\kedro_mlflow\\config\\kedro_mlflow_config.py\u001b\\\u001b[2mkedro_mlflow_config.py\u001b[0m\u001b]8;;\u001b\\\u001b[2m:\u001b[0m\u001b]8;id=550357;file://c:\\Users\\01121272\\Desktop\\Projects\\gnn-mp-model\\.venv\\Lib\\site-packages\\kedro_mlflow\\config\\kedro_mlflow_config.py#260\u001b\\\u001b[2m260\u001b[0m\u001b]8;;\u001b\\\n",
       "\u001b[2;36m                    \u001b[0m         \u001b[1m(\u001b[0m\u001b[32m'server.mlflow_\u001b[0m\u001b[32m(\u001b[0m\u001b[32mtracking|registry\u001b[0m\u001b[32m)\u001b[0m\u001b[32m_uri = mlruns'\u001b[0m\u001b[1m)\u001b[0m. It is   \u001b[2m                          \u001b[0m\n",
       "\u001b[2;36m                    \u001b[0m         converted to a valid uri:                                   \u001b[2m                          \u001b[0m\n",
       "\u001b[2;36m                    \u001b[0m         \u001b[32m'file:///C:/Users/01121272/Desktop/Projects/gnn-mp-model/ml\u001b[0m \u001b[2m                          \u001b[0m\n",
       "\u001b[2;36m                    \u001b[0m         \u001b[32mruns'\u001b[0m                                                       \u001b[2m                          \u001b[0m\n"
      ]
     },
     "metadata": {},
     "output_type": "display_data"
    },
    {
     "data": {
      "text/html": [
       "<pre style=\"white-space:pre;overflow-x:auto;line-height:normal;font-family:Menlo,'DejaVu Sans Mono',consolas,'Courier New',monospace\"><span style=\"color: #7fbfbf; text-decoration-color: #7fbfbf\">[08/01/24 12:18:09] </span><span style=\"color: #000080; text-decoration-color: #000080\">INFO    </span> Kedro project GNN_MP_model                                             <a href=\"file://c:\\Users\\01121272\\Desktop\\Projects\\gnn-mp-model\\.venv\\Lib\\site-packages\\kedro\\ipython\\__init__.py\" target=\"_blank\"><span style=\"color: #7f7f7f; text-decoration-color: #7f7f7f\">__init__.py</span></a><span style=\"color: #7f7f7f; text-decoration-color: #7f7f7f\">:</span><a href=\"file://c:\\Users\\01121272\\Desktop\\Projects\\gnn-mp-model\\.venv\\Lib\\site-packages\\kedro\\ipython\\__init__.py#141\" target=\"_blank\"><span style=\"color: #7f7f7f; text-decoration-color: #7f7f7f\">141</span></a>\n",
       "</pre>\n"
      ],
      "text/plain": [
       "\u001b[2;36m[08/01/24 12:18:09]\u001b[0m\u001b[2;36m \u001b[0m\u001b[34mINFO    \u001b[0m Kedro project GNN_MP_model                                             \u001b]8;id=897617;file://c:\\Users\\01121272\\Desktop\\Projects\\gnn-mp-model\\.venv\\Lib\\site-packages\\kedro\\ipython\\__init__.py\u001b\\\u001b[2m__init__.py\u001b[0m\u001b]8;;\u001b\\\u001b[2m:\u001b[0m\u001b]8;id=315605;file://c:\\Users\\01121272\\Desktop\\Projects\\gnn-mp-model\\.venv\\Lib\\site-packages\\kedro\\ipython\\__init__.py#141\u001b\\\u001b[2m141\u001b[0m\u001b]8;;\u001b\\\n"
      ]
     },
     "metadata": {},
     "output_type": "display_data"
    },
    {
     "data": {
      "text/html": [
       "<pre style=\"white-space:pre;overflow-x:auto;line-height:normal;font-family:Menlo,'DejaVu Sans Mono',consolas,'Courier New',monospace\"><span style=\"color: #7fbfbf; text-decoration-color: #7fbfbf\">                    </span><span style=\"color: #000080; text-decoration-color: #000080\">INFO    </span> Defined global variable <span style=\"color: #008000; text-decoration-color: #008000\">'context'</span>, <span style=\"color: #008000; text-decoration-color: #008000\">'session'</span>, <span style=\"color: #008000; text-decoration-color: #008000\">'catalog'</span> and            <a href=\"file://c:\\Users\\01121272\\Desktop\\Projects\\gnn-mp-model\\.venv\\Lib\\site-packages\\kedro\\ipython\\__init__.py\" target=\"_blank\"><span style=\"color: #7f7f7f; text-decoration-color: #7f7f7f\">__init__.py</span></a><span style=\"color: #7f7f7f; text-decoration-color: #7f7f7f\">:</span><a href=\"file://c:\\Users\\01121272\\Desktop\\Projects\\gnn-mp-model\\.venv\\Lib\\site-packages\\kedro\\ipython\\__init__.py#142\" target=\"_blank\"><span style=\"color: #7f7f7f; text-decoration-color: #7f7f7f\">142</span></a>\n",
       "<span style=\"color: #7fbfbf; text-decoration-color: #7fbfbf\">                    </span>         <span style=\"color: #008000; text-decoration-color: #008000\">'pipelines'</span>                                                            <span style=\"color: #7f7f7f; text-decoration-color: #7f7f7f\">               </span>\n",
       "</pre>\n"
      ],
      "text/plain": [
       "\u001b[2;36m                   \u001b[0m\u001b[2;36m \u001b[0m\u001b[34mINFO    \u001b[0m Defined global variable \u001b[32m'context'\u001b[0m, \u001b[32m'session'\u001b[0m, \u001b[32m'catalog'\u001b[0m and            \u001b]8;id=840625;file://c:\\Users\\01121272\\Desktop\\Projects\\gnn-mp-model\\.venv\\Lib\\site-packages\\kedro\\ipython\\__init__.py\u001b\\\u001b[2m__init__.py\u001b[0m\u001b]8;;\u001b\\\u001b[2m:\u001b[0m\u001b]8;id=288582;file://c:\\Users\\01121272\\Desktop\\Projects\\gnn-mp-model\\.venv\\Lib\\site-packages\\kedro\\ipython\\__init__.py#142\u001b\\\u001b[2m142\u001b[0m\u001b]8;;\u001b\\\n",
       "\u001b[2;36m                    \u001b[0m         \u001b[32m'pipelines'\u001b[0m                                                            \u001b[2m               \u001b[0m\n"
      ]
     },
     "metadata": {},
     "output_type": "display_data"
    },
    {
     "data": {
      "text/html": [
       "<pre style=\"white-space:pre;overflow-x:auto;line-height:normal;font-family:Menlo,'DejaVu Sans Mono',consolas,'Courier New',monospace\"><span style=\"color: #7fbfbf; text-decoration-color: #7fbfbf\">[08/01/24 12:18:10] </span><span style=\"color: #000080; text-decoration-color: #000080\">INFO    </span> Registered line magic <span style=\"color: #008000; text-decoration-color: #008000\">'run_viz'</span>                                        <a href=\"file://c:\\Users\\01121272\\Desktop\\Projects\\gnn-mp-model\\.venv\\Lib\\site-packages\\kedro\\ipython\\__init__.py\" target=\"_blank\"><span style=\"color: #7f7f7f; text-decoration-color: #7f7f7f\">__init__.py</span></a><span style=\"color: #7f7f7f; text-decoration-color: #7f7f7f\">:</span><a href=\"file://c:\\Users\\01121272\\Desktop\\Projects\\gnn-mp-model\\.venv\\Lib\\site-packages\\kedro\\ipython\\__init__.py#148\" target=\"_blank\"><span style=\"color: #7f7f7f; text-decoration-color: #7f7f7f\">148</span></a>\n",
       "</pre>\n"
      ],
      "text/plain": [
       "\u001b[2;36m[08/01/24 12:18:10]\u001b[0m\u001b[2;36m \u001b[0m\u001b[34mINFO    \u001b[0m Registered line magic \u001b[32m'run_viz'\u001b[0m                                        \u001b]8;id=359858;file://c:\\Users\\01121272\\Desktop\\Projects\\gnn-mp-model\\.venv\\Lib\\site-packages\\kedro\\ipython\\__init__.py\u001b\\\u001b[2m__init__.py\u001b[0m\u001b]8;;\u001b\\\u001b[2m:\u001b[0m\u001b]8;id=958154;file://c:\\Users\\01121272\\Desktop\\Projects\\gnn-mp-model\\.venv\\Lib\\site-packages\\kedro\\ipython\\__init__.py#148\u001b\\\u001b[2m148\u001b[0m\u001b]8;;\u001b\\\n"
      ]
     },
     "metadata": {},
     "output_type": "display_data"
    }
   ],
   "source": [
    "%load_ext kedro.ipython"
   ]
  },
  {
   "cell_type": "code",
   "execution_count": 3,
   "metadata": {},
   "outputs": [
    {
     "data": {
      "text/html": [
       "<pre style=\"white-space:pre;overflow-x:auto;line-height:normal;font-family:Menlo,'DejaVu Sans Mono',consolas,'Courier New',monospace\"><span style=\"color: #7fbfbf; text-decoration-color: #7fbfbf\">                    </span><span style=\"color: #000080; text-decoration-color: #000080\">INFO    </span> Loading data from <span style=\"color: #ff8700; text-decoration-color: #ff8700\">merged_database</span> <span style=\"font-weight: bold\">(</span>CSVDataset<span style=\"font-weight: bold\">)</span><span style=\"color: #808000; text-decoration-color: #808000\">...</span>                  <a href=\"file://c:\\Users\\01121272\\Desktop\\Projects\\gnn-mp-model\\.venv\\Lib\\site-packages\\kedro\\io\\data_catalog.py\" target=\"_blank\"><span style=\"color: #7f7f7f; text-decoration-color: #7f7f7f\">data_catalog.py</span></a><span style=\"color: #7f7f7f; text-decoration-color: #7f7f7f\">:</span><a href=\"file://c:\\Users\\01121272\\Desktop\\Projects\\gnn-mp-model\\.venv\\Lib\\site-packages\\kedro\\io\\data_catalog.py#508\" target=\"_blank\"><span style=\"color: #7f7f7f; text-decoration-color: #7f7f7f\">508</span></a>\n",
       "</pre>\n"
      ],
      "text/plain": [
       "\u001b[2;36m                   \u001b[0m\u001b[2;36m \u001b[0m\u001b[34mINFO    \u001b[0m Loading data from \u001b[38;5;208mmerged_database\u001b[0m \u001b[1m(\u001b[0mCSVDataset\u001b[1m)\u001b[0m\u001b[33m...\u001b[0m                  \u001b]8;id=976087;file://c:\\Users\\01121272\\Desktop\\Projects\\gnn-mp-model\\.venv\\Lib\\site-packages\\kedro\\io\\data_catalog.py\u001b\\\u001b[2mdata_catalog.py\u001b[0m\u001b]8;;\u001b\\\u001b[2m:\u001b[0m\u001b]8;id=938787;file://c:\\Users\\01121272\\Desktop\\Projects\\gnn-mp-model\\.venv\\Lib\\site-packages\\kedro\\io\\data_catalog.py#508\u001b\\\u001b[2m508\u001b[0m\u001b]8;;\u001b\\\n"
      ]
     },
     "metadata": {},
     "output_type": "display_data"
    },
    {
     "data": {
      "text/html": [
       "<pre style=\"white-space:pre;overflow-x:auto;line-height:normal;font-family:Menlo,'DejaVu Sans Mono',consolas,'Courier New',monospace\"><span style=\"color: #7fbfbf; text-decoration-color: #7fbfbf\">                    </span><span style=\"color: #000080; text-decoration-color: #000080\">INFO    </span> Loading data from <span style=\"color: #ff8700; text-decoration-color: #ff8700\">random_train_dataloader</span> <span style=\"font-weight: bold\">(</span>GraphDataset<span style=\"font-weight: bold\">)</span><span style=\"color: #808000; text-decoration-color: #808000\">...</span>        <a href=\"file://c:\\Users\\01121272\\Desktop\\Projects\\gnn-mp-model\\.venv\\Lib\\site-packages\\kedro\\io\\data_catalog.py\" target=\"_blank\"><span style=\"color: #7f7f7f; text-decoration-color: #7f7f7f\">data_catalog.py</span></a><span style=\"color: #7f7f7f; text-decoration-color: #7f7f7f\">:</span><a href=\"file://c:\\Users\\01121272\\Desktop\\Projects\\gnn-mp-model\\.venv\\Lib\\site-packages\\kedro\\io\\data_catalog.py#508\" target=\"_blank\"><span style=\"color: #7f7f7f; text-decoration-color: #7f7f7f\">508</span></a>\n",
       "</pre>\n"
      ],
      "text/plain": [
       "\u001b[2;36m                   \u001b[0m\u001b[2;36m \u001b[0m\u001b[34mINFO    \u001b[0m Loading data from \u001b[38;5;208mrandom_train_dataloader\u001b[0m \u001b[1m(\u001b[0mGraphDataset\u001b[1m)\u001b[0m\u001b[33m...\u001b[0m        \u001b]8;id=857757;file://c:\\Users\\01121272\\Desktop\\Projects\\gnn-mp-model\\.venv\\Lib\\site-packages\\kedro\\io\\data_catalog.py\u001b\\\u001b[2mdata_catalog.py\u001b[0m\u001b]8;;\u001b\\\u001b[2m:\u001b[0m\u001b]8;id=566822;file://c:\\Users\\01121272\\Desktop\\Projects\\gnn-mp-model\\.venv\\Lib\\site-packages\\kedro\\io\\data_catalog.py#508\u001b\\\u001b[2m508\u001b[0m\u001b]8;;\u001b\\\n"
      ]
     },
     "metadata": {},
     "output_type": "display_data"
    },
    {
     "data": {
      "text/html": [
       "<pre style=\"white-space:pre;overflow-x:auto;line-height:normal;font-family:Menlo,'DejaVu Sans Mono',consolas,'Courier New',monospace\"><span style=\"color: #7fbfbf; text-decoration-color: #7fbfbf\">[08/01/24 12:18:11] </span><span style=\"color: #000080; text-decoration-color: #000080\">INFO    </span> Loading data from <span style=\"color: #ff8700; text-decoration-color: #ff8700\">random_test_dataloader</span> <span style=\"font-weight: bold\">(</span>GraphDataset<span style=\"font-weight: bold\">)</span><span style=\"color: #808000; text-decoration-color: #808000\">...</span>         <a href=\"file://c:\\Users\\01121272\\Desktop\\Projects\\gnn-mp-model\\.venv\\Lib\\site-packages\\kedro\\io\\data_catalog.py\" target=\"_blank\"><span style=\"color: #7f7f7f; text-decoration-color: #7f7f7f\">data_catalog.py</span></a><span style=\"color: #7f7f7f; text-decoration-color: #7f7f7f\">:</span><a href=\"file://c:\\Users\\01121272\\Desktop\\Projects\\gnn-mp-model\\.venv\\Lib\\site-packages\\kedro\\io\\data_catalog.py#508\" target=\"_blank\"><span style=\"color: #7f7f7f; text-decoration-color: #7f7f7f\">508</span></a>\n",
       "</pre>\n"
      ],
      "text/plain": [
       "\u001b[2;36m[08/01/24 12:18:11]\u001b[0m\u001b[2;36m \u001b[0m\u001b[34mINFO    \u001b[0m Loading data from \u001b[38;5;208mrandom_test_dataloader\u001b[0m \u001b[1m(\u001b[0mGraphDataset\u001b[1m)\u001b[0m\u001b[33m...\u001b[0m         \u001b]8;id=965642;file://c:\\Users\\01121272\\Desktop\\Projects\\gnn-mp-model\\.venv\\Lib\\site-packages\\kedro\\io\\data_catalog.py\u001b\\\u001b[2mdata_catalog.py\u001b[0m\u001b]8;;\u001b\\\u001b[2m:\u001b[0m\u001b]8;id=215670;file://c:\\Users\\01121272\\Desktop\\Projects\\gnn-mp-model\\.venv\\Lib\\site-packages\\kedro\\io\\data_catalog.py#508\u001b\\\u001b[2m508\u001b[0m\u001b]8;;\u001b\\\n"
      ]
     },
     "metadata": {},
     "output_type": "display_data"
    },
    {
     "data": {
      "text/html": [
       "<pre style=\"white-space:pre;overflow-x:auto;line-height:normal;font-family:Menlo,'DejaVu Sans Mono',consolas,'Courier New',monospace\"><span style=\"color: #7fbfbf; text-decoration-color: #7fbfbf\">                    </span><span style=\"color: #000080; text-decoration-color: #000080\">INFO    </span> Loading data from <span style=\"color: #ff8700; text-decoration-color: #ff8700\">predict_dataloader</span> <span style=\"font-weight: bold\">(</span>GraphDataset<span style=\"font-weight: bold\">)</span><span style=\"color: #808000; text-decoration-color: #808000\">...</span>             <a href=\"file://c:\\Users\\01121272\\Desktop\\Projects\\gnn-mp-model\\.venv\\Lib\\site-packages\\kedro\\io\\data_catalog.py\" target=\"_blank\"><span style=\"color: #7f7f7f; text-decoration-color: #7f7f7f\">data_catalog.py</span></a><span style=\"color: #7f7f7f; text-decoration-color: #7f7f7f\">:</span><a href=\"file://c:\\Users\\01121272\\Desktop\\Projects\\gnn-mp-model\\.venv\\Lib\\site-packages\\kedro\\io\\data_catalog.py#508\" target=\"_blank\"><span style=\"color: #7f7f7f; text-decoration-color: #7f7f7f\">508</span></a>\n",
       "</pre>\n"
      ],
      "text/plain": [
       "\u001b[2;36m                   \u001b[0m\u001b[2;36m \u001b[0m\u001b[34mINFO    \u001b[0m Loading data from \u001b[38;5;208mpredict_dataloader\u001b[0m \u001b[1m(\u001b[0mGraphDataset\u001b[1m)\u001b[0m\u001b[33m...\u001b[0m             \u001b]8;id=861680;file://c:\\Users\\01121272\\Desktop\\Projects\\gnn-mp-model\\.venv\\Lib\\site-packages\\kedro\\io\\data_catalog.py\u001b\\\u001b[2mdata_catalog.py\u001b[0m\u001b]8;;\u001b\\\u001b[2m:\u001b[0m\u001b]8;id=868694;file://c:\\Users\\01121272\\Desktop\\Projects\\gnn-mp-model\\.venv\\Lib\\site-packages\\kedro\\io\\data_catalog.py#508\u001b\\\u001b[2m508\u001b[0m\u001b]8;;\u001b\\\n"
      ]
     },
     "metadata": {},
     "output_type": "display_data"
    },
    {
     "data": {
      "text/html": [
       "<pre style=\"white-space:pre;overflow-x:auto;line-height:normal;font-family:Menlo,'DejaVu Sans Mono',consolas,'Courier New',monospace\"><span style=\"color: #7fbfbf; text-decoration-color: #7fbfbf\">[08/01/24 12:18:12] </span><span style=\"color: #000080; text-decoration-color: #000080\">INFO    </span> Loading data from <span style=\"color: #ff8700; text-decoration-color: #ff8700\">sys_train_dataloader</span> <span style=\"font-weight: bold\">(</span>GraphDataset<span style=\"font-weight: bold\">)</span><span style=\"color: #808000; text-decoration-color: #808000\">...</span>           <a href=\"file://c:\\Users\\01121272\\Desktop\\Projects\\gnn-mp-model\\.venv\\Lib\\site-packages\\kedro\\io\\data_catalog.py\" target=\"_blank\"><span style=\"color: #7f7f7f; text-decoration-color: #7f7f7f\">data_catalog.py</span></a><span style=\"color: #7f7f7f; text-decoration-color: #7f7f7f\">:</span><a href=\"file://c:\\Users\\01121272\\Desktop\\Projects\\gnn-mp-model\\.venv\\Lib\\site-packages\\kedro\\io\\data_catalog.py#508\" target=\"_blank\"><span style=\"color: #7f7f7f; text-decoration-color: #7f7f7f\">508</span></a>\n",
       "</pre>\n"
      ],
      "text/plain": [
       "\u001b[2;36m[08/01/24 12:18:12]\u001b[0m\u001b[2;36m \u001b[0m\u001b[34mINFO    \u001b[0m Loading data from \u001b[38;5;208msys_train_dataloader\u001b[0m \u001b[1m(\u001b[0mGraphDataset\u001b[1m)\u001b[0m\u001b[33m...\u001b[0m           \u001b]8;id=285205;file://c:\\Users\\01121272\\Desktop\\Projects\\gnn-mp-model\\.venv\\Lib\\site-packages\\kedro\\io\\data_catalog.py\u001b\\\u001b[2mdata_catalog.py\u001b[0m\u001b]8;;\u001b\\\u001b[2m:\u001b[0m\u001b]8;id=293070;file://c:\\Users\\01121272\\Desktop\\Projects\\gnn-mp-model\\.venv\\Lib\\site-packages\\kedro\\io\\data_catalog.py#508\u001b\\\u001b[2m508\u001b[0m\u001b]8;;\u001b\\\n"
      ]
     },
     "metadata": {},
     "output_type": "display_data"
    },
    {
     "data": {
      "text/html": [
       "<pre style=\"white-space:pre;overflow-x:auto;line-height:normal;font-family:Menlo,'DejaVu Sans Mono',consolas,'Courier New',monospace\"><span style=\"color: #7fbfbf; text-decoration-color: #7fbfbf\">[08/01/24 12:18:13] </span><span style=\"color: #000080; text-decoration-color: #000080\">INFO    </span> Loading data from <span style=\"color: #ff8700; text-decoration-color: #ff8700\">sys_test_dataloader</span> <span style=\"font-weight: bold\">(</span>GraphDataset<span style=\"font-weight: bold\">)</span><span style=\"color: #808000; text-decoration-color: #808000\">...</span>            <a href=\"file://c:\\Users\\01121272\\Desktop\\Projects\\gnn-mp-model\\.venv\\Lib\\site-packages\\kedro\\io\\data_catalog.py\" target=\"_blank\"><span style=\"color: #7f7f7f; text-decoration-color: #7f7f7f\">data_catalog.py</span></a><span style=\"color: #7f7f7f; text-decoration-color: #7f7f7f\">:</span><a href=\"file://c:\\Users\\01121272\\Desktop\\Projects\\gnn-mp-model\\.venv\\Lib\\site-packages\\kedro\\io\\data_catalog.py#508\" target=\"_blank\"><span style=\"color: #7f7f7f; text-decoration-color: #7f7f7f\">508</span></a>\n",
       "</pre>\n"
      ],
      "text/plain": [
       "\u001b[2;36m[08/01/24 12:18:13]\u001b[0m\u001b[2;36m \u001b[0m\u001b[34mINFO    \u001b[0m Loading data from \u001b[38;5;208msys_test_dataloader\u001b[0m \u001b[1m(\u001b[0mGraphDataset\u001b[1m)\u001b[0m\u001b[33m...\u001b[0m            \u001b]8;id=119355;file://c:\\Users\\01121272\\Desktop\\Projects\\gnn-mp-model\\.venv\\Lib\\site-packages\\kedro\\io\\data_catalog.py\u001b\\\u001b[2mdata_catalog.py\u001b[0m\u001b]8;;\u001b\\\u001b[2m:\u001b[0m\u001b]8;id=768616;file://c:\\Users\\01121272\\Desktop\\Projects\\gnn-mp-model\\.venv\\Lib\\site-packages\\kedro\\io\\data_catalog.py#508\u001b\\\u001b[2m508\u001b[0m\u001b]8;;\u001b\\\n"
      ]
     },
     "metadata": {},
     "output_type": "display_data"
    }
   ],
   "source": [
    "merged_df = catalog.load(\"merged_database\")\n",
    "train_dataloader = catalog.load(\"random_train_dataloader\")\n",
    "test_dataloader = catalog.load(\"random_test_dataloader\")\n",
    "predict_dataloader = catalog.load('predict_dataloader')\n",
    "strain_dataloader = catalog.load(\"sys_train_dataloader\")\n",
    "stest_dataloader = catalog.load(\"sys_test_dataloader\")"
   ]
  },
  {
   "cell_type": "code",
   "execution_count": 4,
   "metadata": {},
   "outputs": [],
   "source": [
    "class GNN(torch.nn.Module):\n",
    "    def __init__(self, hidden_size: int, dense_size: int, num_layers:int, pooling: bool):  # noqa: PLR0913\n",
    "        # Loading params\n",
    "        super().__init__()\n",
    "        self.num_layers = num_layers\n",
    "        self.pooling = pooling\n",
    "        node_dim = 9\n",
    "        edge_dim = 4\n",
    "        pe_dim = 8\n",
    "        # gf_dim = 6 # not used\n",
    "        pool_rate = 0.75\n",
    "        # Initial embeddings\n",
    "        self.node_emb = Linear(pe_dim+node_dim, hidden_size)\n",
    "        self.pe_lin = Linear(30, pe_dim)\n",
    "        self.pe_norm = BatchNorm1d(30)\n",
    "        self.edge_emb = Linear(edge_dim, hidden_size)\n",
    "        self.aggr = SetTransformerAggregation(hidden_size)\n",
    "        # PNA\n",
    "        self.gps_list = ModuleList([])\n",
    "        self.gn_list = ModuleList([])\n",
    "        self.aggr_list = ModuleList([])\n",
    "        self.pool_list = ModuleList([])\n",
    "        # Initial layers\n",
    "        for _ in range(self.num_layers):\n",
    "            nn = Sequential(\n",
    "                Linear(hidden_size, hidden_size),\n",
    "                ReLU(),\n",
    "                Linear(hidden_size, hidden_size))\n",
    "            self.gps_list.append(GPSConv(hidden_size, GINEConv(nn, edge_dim=hidden_size), heads=4, dropout=0.2))\n",
    "            self.gn_list.append(GraphNorm(hidden_size))\n",
    "            self.aggr_list.append(SetTransformerAggregation(hidden_size))\n",
    "            self.pool_list.append(SAGPooling(hidden_size, pool_rate))\n",
    "\n",
    "        # Linear layers\n",
    "        self.linear1 = Linear(hidden_size, dense_size)\n",
    "        self.linear2 = Linear(dense_size, int(dense_size / 2))\n",
    "        self.linear3 = Linear(int(dense_size / 2), int(dense_size / 4))\n",
    "        self.linear4 = Linear(int(dense_size / 4), 1)\n",
    "\n",
    "    def forward(self, x, pe, edge_attr, edge_index, batch_index, gf):  # noqa: PLR0913\n",
    "        # Initial embeddings\n",
    "        x_pe = self.pe_norm(pe)\n",
    "        x = torch.cat((x, self.pe_lin(x_pe)), 1)\n",
    "        x = self.node_emb(x)\n",
    "        edge_attr = self.edge_emb(edge_attr)\n",
    "        global_representation = []\n",
    "        global_representation.append(self.aggr(x, batch_index))\n",
    "        ### Internal convolutions\n",
    "        for i in range(self.num_layers):\n",
    "            x = self.gps_list[i](x, edge_index, batch_index, edge_attr=edge_attr)\n",
    "            x = self.gn_list[i](x, batch_index)\n",
    "            if self.pooling is True:\n",
    "                x, edge_index, edge_attr, batch_index, _, _ = self.pool_list[i](\n",
    "                x, edge_index, edge_attr, batch_index\n",
    "            )\n",
    "            global_representation.append(self.aggr_list[i](x, batch_index))\n",
    "        ### Output block\n",
    "        x = sum(global_representation)\n",
    "        # x = torch.cat((x, gf), 1)\n",
    "        x = torch.relu(self.linear1(x))\n",
    "        x = F.dropout(x, p=0.2, training=self.training)\n",
    "        x = torch.relu(self.linear2(x))\n",
    "        x = F.dropout(x, p=0.2, training=self.training)\n",
    "        x = torch.relu(self.linear3(x))\n",
    "        x = F.dropout(x, p=0.2, training=self.training)\n",
    "        x = self.linear4(x)\n",
    "        return x"
   ]
  },
  {
   "cell_type": "code",
   "execution_count": 5,
   "metadata": {},
   "outputs": [],
   "source": [
    "import lightning as L\n",
    "\n",
    "\n",
    "class GNN_L(L.LightningModule):\n",
    "    def __init__(self, params):\n",
    "        super().__init__()\n",
    "        self.model = GNN(params[\"hidden_size\"], params[\"dense_size\"], params[\"num_layers\"], params[\"pooling\"])\n",
    "        self.lr = params[\"lr\"]\n",
    "        self.weight_decay = params[\"weight_decay\"]\n",
    "        self.gamma = params[\"gamma\"]\n",
    "        self.loss_fn = L1Loss()\n",
    "        self.save_hyperparameters(params)\n",
    "\n",
    "    def forward(self, x, pe, edge_attr, edge_index, batch_index, gf):  # noqa: PLR0913\n",
    "        return self.model(x.float(), pe, edge_attr.float(), edge_index, batch_index, gf)\n",
    "\n",
    "    def training_step(self, batch, batch_index):\n",
    "        preds = self(batch.x.float(), batch.pe, batch.edge_attr.float(), batch.edge_index, batch.batch, batch.gf.float()).squeeze()\n",
    "        target = batch.y.float()\n",
    "        loss = self.loss_fn(preds, target)\n",
    "        r2 = r2_score(target.numpy(), preds.detach().numpy())\n",
    "        rmse = root_mean_squared_error(target.numpy(), preds.detach().numpy())\n",
    "        self.log(\"r2\", r2)\n",
    "        self.log(\"rmse\", rmse)\n",
    "        self.log(\"mae\", loss)\n",
    "        return loss\n",
    "\n",
    "    def validation_step(self, batch, batch_index):\n",
    "        preds = self(batch.x.float(), batch.pe, batch.edge_attr.float(), batch.edge_index, batch.batch, batch.gf.float()).squeeze()\n",
    "        target = batch.y.float()\n",
    "        val_loss = self.loss_fn(preds, target)\n",
    "        val_r2 = r2_score(target.numpy(), preds.detach().numpy())\n",
    "        val_rmse = root_mean_squared_error(target.numpy(), preds.detach().numpy())\n",
    "        self.log(\"val_mae\", val_loss)\n",
    "        self.log(\"val_r2\", val_r2)\n",
    "        self.log(\"val_rmse\", val_rmse)\n",
    "    def test_step(self, batch, batch_index, dataloader_idx=0):\n",
    "        preds = self(batch.x.float(), batch.pe, batch.edge_attr.float(), batch.edge_index, batch.batch, batch.gf.float()).squeeze()\n",
    "        target = batch.y.float()\n",
    "        test_mae = self.loss_fn(preds, target)\n",
    "        test_r2 = r2_score(target.numpy(), preds.detach().numpy())\n",
    "        self.log(\"test_mae\", test_mae)\n",
    "        self.log(\"test_r2\", test_r2)\n",
    "    def predict_step(self, batch, batch_idx, dataloader_idx=0):\n",
    "        preds = [self(batch.x.float(), batch.pe, batch.edge_attr.float(), batch.edge_index, batch.batch, batch.gf.float()).squeeze(), batch.smiles, batch.y]\n",
    "        return preds\n",
    "    def configure_optimizers(self):\n",
    "        optimizer = torch.optim.Adam(\n",
    "            self.parameters(),\n",
    "            lr=self.lr,\n",
    "            weight_decay = self.weight_decay)\n",
    "        scheduler = torch.optim.lr_scheduler.ExponentialLR(  # noqa: F811\n",
    "            optimizer, gamma=self.gamma\n",
    "        )\n",
    "        return [optimizer], [{\"scheduler\": scheduler, \"interval\": \"epoch\"}]"
   ]
  },
  {
   "cell_type": "code",
   "execution_count": 6,
   "metadata": {},
   "outputs": [],
   "source": [
    "# Trainer\n",
    "\n",
    "def train_model(params):\n",
    "    filename = \"GPS_Main_Model_ensemble\"\n",
    "    L.seed_everything(47)\n",
    "    model = GNN_L(params)\n",
    "    early_stopping = EarlyStopping(\"val_mae\", patience=40, mode=\"min\", strict=False)\n",
    "    lr_monitor = LearningRateMonitor(logging_interval=\"epoch\")\n",
    "    checkpoint_callback = ModelCheckpoint(filename=\"{epoch}-{val_mae:.2f}-{val_rmse:.2f}\",\n",
    "                                          monitor=\"val_mae\",\n",
    "                                          save_top_k=2,\n",
    "                                          mode=\"min\")\n",
    "\n",
    "    logger = CSVLogger(save_dir=\"logs\", name=filename)\n",
    "    trainer = L.Trainer(\n",
    "        max_epochs=40,\n",
    "        callbacks=[early_stopping, lr_monitor, checkpoint_callback],\n",
    "        log_every_n_steps=20,\n",
    "        logger=logger,\n",
    "        deterministic=True,\n",
    "        accumulate_grad_batches=1\n",
    "    )\n",
    "    # Model pretraining\n",
    "    trainer.fit(model=model, train_dataloaders=train_dataloader, val_dataloaders=test_dataloader)\n",
    "    return model, trainer"
   ]
  },
  {
   "cell_type": "code",
   "execution_count": null,
   "metadata": {},
   "outputs": [],
   "source": [
    "params = {\n",
    "    \"lr\": 0.001,\n",
    "    \"weight_decay\": 1e-05,\n",
    "    \"gamma\": 0.95,\n",
    "    \"hidden_size\": 32,\n",
    "    \"dense_size\": 64,\n",
    "    \"num_layers\": 5,\n",
    "    \"pooling\": False,\n",
    "    \"gf_incl\": False,\n",
    "    \"random_state\": 47\n",
    "}\n",
    "model, trainer = train_model(params)"
   ]
  },
  {
   "cell_type": "code",
   "execution_count": 9,
   "metadata": {},
   "outputs": [],
   "source": [
    "def predict_on_df(model, predict_dataloader):\n",
    "    preds = []\n",
    "    for batch in predict_dataloader:\n",
    "        model.eval()\n",
    "        result = model.predict_step(batch, batch.batch)\n",
    "        preds.append(result)\n",
    "    preds_list = []\n",
    "    target_list = []\n",
    "    smiles_list = []\n",
    "    for item in preds:\n",
    "        preds_list.append(float(item[0]))\n",
    "        target_list.append(float(item[2]))\n",
    "        smiles_list.append(item[1][0])\n",
    "    df = pd.DataFrame(data=[preds_list, target_list, smiles_list]).transpose()\n",
    "    df.columns = [\"preds\", \"target\", \"smiles\"]\n",
    "    df[\"error\"] = abs(df[\"preds\"]- df[\"target\"]).astype(float)\n",
    "    return df\n",
    "\n",
    "def add_cation_anion_smiles(df):\n",
    "    cation_list = []\n",
    "    anion_list = []\n",
    "    for _, row in df.iterrows():\n",
    "        smiles_list = row[\"smiles\"].split(\".\")\n",
    "        if \"+\" in smiles_list[0]:\n",
    "            cation_list.append(smiles_list[0])\n",
    "            anion_list.append(smiles_list[1])\n",
    "        else:\n",
    "            cation_list.append(smiles_list[1])\n",
    "            anion_list.append(smiles_list[0])\n",
    "\n",
    "    df[\"cation_smiles\"] = cation_list\n",
    "    df[\"anion_smiles\"] = anion_list\n",
    "    return df"
   ]
  },
  {
   "cell_type": "code",
   "execution_count": null,
   "metadata": {},
   "outputs": [],
   "source": [
    "def print_metrics(model):\n",
    "    loaders = [predict_dataloader]\n",
    "    L.seed_everything(42)\n",
    "    for loader in loaders:\n",
    "        df = predict_on_df(model, loader)\n",
    "        mae = df[\"error\"].mean()\n",
    "        r2 = r2_score(df[\"target\"], df[\"preds\"])\n",
    "        results = {\n",
    "            \"mae\": mae,\n",
    "            \"r2\": r2\n",
    "        }\n",
    "        print(results)"
   ]
  },
  {
   "cell_type": "code",
   "execution_count": 22,
   "metadata": {},
   "outputs": [],
   "source": [
    "model_ckpt = GNN_L.load_from_checkpoint(\"model_base.ckpt\")"
   ]
  },
  {
   "cell_type": "code",
   "execution_count": 33,
   "metadata": {},
   "outputs": [
    {
     "data": {
      "text/html": [
       "<pre style=\"white-space:pre;overflow-x:auto;line-height:normal;font-family:Menlo,'DejaVu Sans Mono',consolas,'Courier New',monospace\"></pre>\n"
      ],
      "text/plain": []
     },
     "metadata": {},
     "output_type": "display_data"
    },
    {
     "data": {
      "text/html": [
       "<div>\n",
       "<style scoped>\n",
       "    .dataframe tbody tr th:only-of-type {\n",
       "        vertical-align: middle;\n",
       "    }\n",
       "\n",
       "    .dataframe tbody tr th {\n",
       "        vertical-align: top;\n",
       "    }\n",
       "\n",
       "    .dataframe thead th {\n",
       "        text-align: right;\n",
       "    }\n",
       "</style>\n",
       "<table border=\"1\" class=\"dataframe\">\n",
       "  <thead>\n",
       "    <tr style=\"text-align: right;\">\n",
       "      <th></th>\n",
       "      <th>preds</th>\n",
       "      <th>target</th>\n",
       "      <th>smiles</th>\n",
       "      <th>error</th>\n",
       "      <th>ens_preds</th>\n",
       "      <th>ens_error</th>\n",
       "    </tr>\n",
       "  </thead>\n",
       "  <tbody>\n",
       "    <tr>\n",
       "      <th>0</th>\n",
       "      <td>148.178467</td>\n",
       "      <td>85.0</td>\n",
       "      <td>O=S(=O)([O-])O.c1c[nH+]c[nH]1</td>\n",
       "      <td>63.178467</td>\n",
       "      <td>128.019174</td>\n",
       "      <td>43.019174</td>\n",
       "    </tr>\n",
       "    <tr>\n",
       "      <th>1</th>\n",
       "      <td>119.084305</td>\n",
       "      <td>188.0</td>\n",
       "      <td>CS(=O)(=O)[O-].c1c[nH+]c[nH]1</td>\n",
       "      <td>68.915695</td>\n",
       "      <td>105.190880</td>\n",
       "      <td>82.80912</td>\n",
       "    </tr>\n",
       "    <tr>\n",
       "      <th>2</th>\n",
       "      <td>116.022095</td>\n",
       "      <td>122.900002</td>\n",
       "      <td>O=S(=O)(O)C(F)(F)F.c1c[nH+]c[nH]1</td>\n",
       "      <td>6.877907</td>\n",
       "      <td>113.471214</td>\n",
       "      <td>9.428787</td>\n",
       "    </tr>\n",
       "    <tr>\n",
       "      <th>3</th>\n",
       "      <td>87.695374</td>\n",
       "      <td>73.0</td>\n",
       "      <td>O=S(=O)([N-]S(=O)(=O)C(F)(F)F)C(F)(F)F.c1c[nH+...</td>\n",
       "      <td>14.695374</td>\n",
       "      <td>89.675325</td>\n",
       "      <td>16.675325</td>\n",
       "    </tr>\n",
       "    <tr>\n",
       "      <th>4</th>\n",
       "      <td>145.290253</td>\n",
       "      <td>131.199997</td>\n",
       "      <td>F[B-](F)(F)F.c1c[nH+]c[nH]1</td>\n",
       "      <td>14.090256</td>\n",
       "      <td>116.373698</td>\n",
       "      <td>14.826299</td>\n",
       "    </tr>\n",
       "    <tr>\n",
       "      <th>...</th>\n",
       "      <td>...</td>\n",
       "      <td>...</td>\n",
       "      <td>...</td>\n",
       "      <td>...</td>\n",
       "      <td>...</td>\n",
       "      <td>...</td>\n",
       "    </tr>\n",
       "    <tr>\n",
       "      <th>2775</th>\n",
       "      <td>66.270844</td>\n",
       "      <td>72.949997</td>\n",
       "      <td>C[N+](C)(C)CCO.O=[N+]([O-])[O-]</td>\n",
       "      <td>6.679153</td>\n",
       "      <td>62.525629</td>\n",
       "      <td>10.424368</td>\n",
       "    </tr>\n",
       "    <tr>\n",
       "      <th>2776</th>\n",
       "      <td>43.413563</td>\n",
       "      <td>43.75</td>\n",
       "      <td>CC(=O)[O-].CCCC[NH3+]</td>\n",
       "      <td>0.336437</td>\n",
       "      <td>51.797799</td>\n",
       "      <td>8.047799</td>\n",
       "    </tr>\n",
       "    <tr>\n",
       "      <th>2777</th>\n",
       "      <td>83.193886</td>\n",
       "      <td>75.849998</td>\n",
       "      <td>CC(=O)[O-].CN1CCCN2CCC[NH+]=C12</td>\n",
       "      <td>7.343887</td>\n",
       "      <td>68.735954</td>\n",
       "      <td>7.114044</td>\n",
       "    </tr>\n",
       "    <tr>\n",
       "      <th>2778</th>\n",
       "      <td>8.348602</td>\n",
       "      <td>45.450001</td>\n",
       "      <td>CCCC[N+]1(C)CCCC1.O=S(=O)([O-])C(F)(F)C(F)F</td>\n",
       "      <td>37.101398</td>\n",
       "      <td>18.863777</td>\n",
       "      <td>26.586223</td>\n",
       "    </tr>\n",
       "    <tr>\n",
       "      <th>2779</th>\n",
       "      <td>74.072235</td>\n",
       "      <td>52.599998</td>\n",
       "      <td>C=C[n+]1ccn(CC(=O)OCC)c1.[Cl-]</td>\n",
       "      <td>21.472237</td>\n",
       "      <td>83.762561</td>\n",
       "      <td>31.162563</td>\n",
       "    </tr>\n",
       "  </tbody>\n",
       "</table>\n",
       "<p>2780 rows × 6 columns</p>\n",
       "</div>"
      ],
      "text/plain": [
       "\n",
       "           preds      target  \\\n",
       "\u001b[1;36m0\u001b[0m     \u001b[1;36m148.178467\u001b[0m        \u001b[1;36m85.0\u001b[0m   \n",
       "\u001b[1;36m1\u001b[0m     \u001b[1;36m119.084305\u001b[0m       \u001b[1;36m188.0\u001b[0m   \n",
       "\u001b[1;36m2\u001b[0m     \u001b[1;36m116.022095\u001b[0m  \u001b[1;36m122.900002\u001b[0m   \n",
       "\u001b[1;36m3\u001b[0m      \u001b[1;36m87.695374\u001b[0m        \u001b[1;36m73.0\u001b[0m   \n",
       "\u001b[1;36m4\u001b[0m     \u001b[1;36m145.290253\u001b[0m  \u001b[1;36m131.199997\u001b[0m   \n",
       "\u001b[33m...\u001b[0m          \u001b[33m...\u001b[0m         \u001b[33m...\u001b[0m   \n",
       "\u001b[1;36m2775\u001b[0m   \u001b[1;36m66.270844\u001b[0m   \u001b[1;36m72.949997\u001b[0m   \n",
       "\u001b[1;36m2776\u001b[0m   \u001b[1;36m43.413563\u001b[0m       \u001b[1;36m43.75\u001b[0m   \n",
       "\u001b[1;36m2777\u001b[0m   \u001b[1;36m83.193886\u001b[0m   \u001b[1;36m75.849998\u001b[0m   \n",
       "\u001b[1;36m2778\u001b[0m    \u001b[1;36m8.348602\u001b[0m   \u001b[1;36m45.450001\u001b[0m   \n",
       "\u001b[1;36m2779\u001b[0m   \u001b[1;36m74.072235\u001b[0m   \u001b[1;36m52.599998\u001b[0m   \n",
       "\n",
       "                                                 smiles      error  \\\n",
       "\u001b[1;36m0\u001b[0m                         \u001b[33mO\u001b[0m=\u001b[1;35mS\u001b[0m\u001b[1m(\u001b[0m=O\u001b[1m)\u001b[0m\u001b[1m(\u001b[0m\u001b[1m[\u001b[0mO-\u001b[1m]\u001b[0m\u001b[1m)\u001b[0mO.c1c\u001b[1m[\u001b[0mnH+\u001b[1m]\u001b[0mc\u001b[1m[\u001b[0mnH\u001b[1m]\u001b[0m\u001b[1;36m1\u001b[0m  \u001b[1;36m63.178467\u001b[0m   \n",
       "\u001b[1;36m1\u001b[0m                         \u001b[1;35mCS\u001b[0m\u001b[1m(\u001b[0m=O\u001b[1m)\u001b[0m\u001b[1m(\u001b[0m=O\u001b[1m)\u001b[0m\u001b[1m[\u001b[0mO-\u001b[1m]\u001b[0m.c1c\u001b[1m[\u001b[0mnH+\u001b[1m]\u001b[0mc\u001b[1m[\u001b[0mnH\u001b[1m]\u001b[0m\u001b[1;36m1\u001b[0m  \u001b[1;36m68.915695\u001b[0m   \n",
       "\u001b[1;36m2\u001b[0m                     \u001b[33mO\u001b[0m=\u001b[1;35mS\u001b[0m\u001b[1m(\u001b[0m=O\u001b[1m)\u001b[0m\u001b[1m(\u001b[0mO\u001b[1m)\u001b[0m\u001b[1;35mC\u001b[0m\u001b[1m(\u001b[0mF\u001b[1m)\u001b[0m\u001b[1m(\u001b[0mF\u001b[1m)\u001b[0mF.c1c\u001b[1m[\u001b[0mnH+\u001b[1m]\u001b[0mc\u001b[1m[\u001b[0mnH\u001b[1m]\u001b[0m\u001b[1;36m1\u001b[0m   \u001b[1;36m6.877907\u001b[0m   \n",
       "\u001b[1;36m3\u001b[0m     \u001b[33mO\u001b[0m=\u001b[1;35mS\u001b[0m\u001b[1m(\u001b[0m=O\u001b[1m)\u001b[0m\u001b[1m(\u001b[0m\u001b[1m[\u001b[0mN-\u001b[1m]\u001b[0m\u001b[1;35mS\u001b[0m\u001b[1m(\u001b[0m=O\u001b[1m)\u001b[0m\u001b[1m(\u001b[0m=O\u001b[1m)\u001b[0m\u001b[1;35mC\u001b[0m\u001b[1m(\u001b[0mF\u001b[1m)\u001b[0m\u001b[1m(\u001b[0mF\u001b[1m)\u001b[0mF\u001b[1m)\u001b[0m\u001b[1;35mC\u001b[0m\u001b[1m(\u001b[0mF\u001b[1m)\u001b[0m\u001b[1m(\u001b[0mF\u001b[1m)\u001b[0mF.c1c\u001b[1m[\u001b[0mnH+\u001b[33m...\u001b[0m  \u001b[1;36m14.695374\u001b[0m   \n",
       "\u001b[1;36m4\u001b[0m                           F\u001b[1m[\u001b[0mB-\u001b[1m]\u001b[0m\u001b[1m(\u001b[0mF\u001b[1m)\u001b[0m\u001b[1m(\u001b[0mF\u001b[1m)\u001b[0mF.c1c\u001b[1m[\u001b[0mnH+\u001b[1m]\u001b[0mc\u001b[1m[\u001b[0mnH\u001b[1m]\u001b[0m\u001b[1;36m1\u001b[0m  \u001b[1;36m14.090256\u001b[0m   \n",
       "\u001b[33m...\u001b[0m                                                 \u001b[33m...\u001b[0m        \u001b[33m...\u001b[0m   \n",
       "\u001b[1;36m2775\u001b[0m                    C\u001b[1m[\u001b[0mN+\u001b[1m]\u001b[0m\u001b[1m(\u001b[0mC\u001b[1m)\u001b[0m\u001b[1m(\u001b[0mC\u001b[1m)\u001b[0mCCO.\u001b[33mO\u001b[0m=\u001b[1m[\u001b[0mN+\u001b[1m]\u001b[0m\u001b[1m(\u001b[0m\u001b[1m[\u001b[0mO-\u001b[1m]\u001b[0m\u001b[1m)\u001b[0m\u001b[1m[\u001b[0mO-\u001b[1m]\u001b[0m   \u001b[1;36m6.679153\u001b[0m   \n",
       "\u001b[1;36m2776\u001b[0m                              \u001b[1;35mCC\u001b[0m\u001b[1m(\u001b[0m=O\u001b[1m)\u001b[0m\u001b[1m[\u001b[0mO-\u001b[1m]\u001b[0m.CCCC\u001b[1m[\u001b[0mNH3+\u001b[1m]\u001b[0m   \u001b[1;36m0.336437\u001b[0m   \n",
       "\u001b[1;36m2777\u001b[0m                    \u001b[1;35mCC\u001b[0m\u001b[1m(\u001b[0m=O\u001b[1m)\u001b[0m\u001b[1m[\u001b[0mO-\u001b[1m]\u001b[0m.CN1CCCN2CCC\u001b[1m[\u001b[0mNH+\u001b[1m]\u001b[0m=C12   \u001b[1;36m7.343887\u001b[0m   \n",
       "\u001b[1;36m2778\u001b[0m        CCCC\u001b[1m[\u001b[0mN+\u001b[1m]\u001b[0m\u001b[1;35m1\u001b[0m\u001b[1m(\u001b[0mC\u001b[1m)\u001b[0mCCCC1.\u001b[33mO\u001b[0m=\u001b[1;35mS\u001b[0m\u001b[1m(\u001b[0m=O\u001b[1m)\u001b[0m\u001b[1m(\u001b[0m\u001b[1m[\u001b[0mO-\u001b[1m]\u001b[0m\u001b[1m)\u001b[0m\u001b[1;35mC\u001b[0m\u001b[1m(\u001b[0mF\u001b[1m)\u001b[0m\u001b[1m(\u001b[0mF\u001b[1m)\u001b[0m\u001b[1;35mC\u001b[0m\u001b[1m(\u001b[0mF\u001b[1m)\u001b[0mF  \u001b[1;36m37.101398\u001b[0m   \n",
       "\u001b[1;36m2779\u001b[0m                     \u001b[33mC\u001b[0m=\u001b[35mC\u001b[0m\u001b[1m[\u001b[0mn+\u001b[1m]\u001b[0m\u001b[1;35m1ccn\u001b[0m\u001b[1m(\u001b[0m\u001b[1;35mCC\u001b[0m\u001b[1m(\u001b[0m=O\u001b[1m)\u001b[0mOCC\u001b[1m)\u001b[0mc1.\u001b[1m[\u001b[0mCl-\u001b[1m]\u001b[0m  \u001b[1;36m21.472237\u001b[0m   \n",
       "\n",
       "       ens_preds  ens_error  \n",
       "\u001b[1;36m0\u001b[0m     \u001b[1;36m128.019174\u001b[0m  \u001b[1;36m43.019174\u001b[0m  \n",
       "\u001b[1;36m1\u001b[0m     \u001b[1;36m105.190880\u001b[0m   \u001b[1;36m82.80912\u001b[0m  \n",
       "\u001b[1;36m2\u001b[0m     \u001b[1;36m113.471214\u001b[0m   \u001b[1;36m9.428787\u001b[0m  \n",
       "\u001b[1;36m3\u001b[0m      \u001b[1;36m89.675325\u001b[0m  \u001b[1;36m16.675325\u001b[0m  \n",
       "\u001b[1;36m4\u001b[0m     \u001b[1;36m116.373698\u001b[0m  \u001b[1;36m14.826299\u001b[0m  \n",
       "\u001b[33m...\u001b[0m          \u001b[33m...\u001b[0m        \u001b[33m...\u001b[0m  \n",
       "\u001b[1;36m2775\u001b[0m   \u001b[1;36m62.525629\u001b[0m  \u001b[1;36m10.424368\u001b[0m  \n",
       "\u001b[1;36m2776\u001b[0m   \u001b[1;36m51.797799\u001b[0m   \u001b[1;36m8.047799\u001b[0m  \n",
       "\u001b[1;36m2777\u001b[0m   \u001b[1;36m68.735954\u001b[0m   \u001b[1;36m7.114044\u001b[0m  \n",
       "\u001b[1;36m2778\u001b[0m   \u001b[1;36m18.863777\u001b[0m  \u001b[1;36m26.586223\u001b[0m  \n",
       "\u001b[1;36m2779\u001b[0m   \u001b[1;36m83.762561\u001b[0m  \u001b[1;36m31.162563\u001b[0m  \n",
       "\n",
       "\u001b[1m[\u001b[0m\u001b[1;36m2780\u001b[0m rows x \u001b[1;36m6\u001b[0m columns\u001b[1m]\u001b[0m"
      ]
     },
     "execution_count": 33,
     "metadata": {},
     "output_type": "execute_result"
    }
   ],
   "source": [
    "df"
   ]
  },
  {
   "cell_type": "code",
   "execution_count": 34,
   "metadata": {},
   "outputs": [
    {
     "data": {
      "text/html": [
       "<pre style=\"white-space:pre;overflow-x:auto;line-height:normal;font-family:Menlo,'DejaVu Sans Mono',consolas,'Courier New',monospace\"></pre>\n"
      ],
      "text/plain": []
     },
     "metadata": {},
     "output_type": "display_data"
    },
    {
     "data": {
      "text/plain": [
       "\u001b[1m<\u001b[0m\u001b[1;95mmatplotlib.collections.PathCollection\u001b[0m\u001b[39m object at \u001b[0m\u001b[1;36m0x000001D9FD6B3290\u001b[0m\u001b[1m>\u001b[0m"
      ]
     },
     "execution_count": 34,
     "metadata": {},
     "output_type": "execute_result"
    },
    {
     "data": {
      "text/html": [
       "<pre style=\"white-space:pre;overflow-x:auto;line-height:normal;font-family:Menlo,'DejaVu Sans Mono',consolas,'Courier New',monospace\"></pre>\n"
      ],
      "text/plain": []
     },
     "metadata": {},
     "output_type": "display_data"
    },
    {
     "data": {
      "image/png": "[encoded data removed]",
      "text/plain": [
       "\u001b[1m<\u001b[0m\u001b[1;95mFigure\u001b[0m\u001b[39m size 64\u001b[0m\u001b[1;36m0x480\u001b[0m\u001b[39m with \u001b[0m\u001b[1;36m1\u001b[0m\u001b[39m Axes\u001b[0m\u001b[1m>\u001b[0m"
      ]
     },
     "metadata": {},
     "output_type": "display_data"
    }
   ],
   "source": [
    "plt.scatter(df[\"preds\"], df[\"target\"])"
   ]
  }
 ],
 "metadata": {
  "kernelspec": {
   "display_name": ".venv",
   "language": "python",
   "name": "python3"
  },
  "language_info": {
   "codemirror_mode": {
    "name": "ipython",
    "version": 3
   },
   "file_extension": ".py",
   "mimetype": "text/x-python",
   "name": "python",
   "nbconvert_exporter": "python",
   "pygments_lexer": "ipython3",
   "version": "3.11.9"
  }
 },
 "nbformat": 4,
 "nbformat_minor": 2
}
