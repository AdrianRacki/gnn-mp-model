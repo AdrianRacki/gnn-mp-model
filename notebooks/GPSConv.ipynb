{
 "cells": [
  {
   "cell_type": "code",
   "execution_count": 1,
   "metadata": {},
   "outputs": [
    {
     "name": "stderr",
     "output_type": "stream",
     "text": [
      "c:\\Users\\01121272\\Desktop\\Projects\\gnn-mp-model\\.venv\\Lib\\site-packages\\tqdm\\auto.py:21: TqdmWarning: IProgress not found. Please update jupyter and ipywidgets. See https://ipywidgets.readthedocs.io/en/stable/user_install.html\n",
      "  from .autonotebook import tqdm as notebook_tqdm\n"
     ]
    }
   ],
   "source": [
    "import matplotlib.pyplot as plt\n",
    "import numpy as np\n",
    "import pandas as pd\n",
    "import torch\n",
    "import torch.nn.functional as F\n",
    "from lightning.pytorch.callbacks import (\n",
    "    EarlyStopping,\n",
    "    LearningRateMonitor,\n",
    "    ModelCheckpoint,\n",
    ")\n",
    "from lightning.pytorch.loggers import CSVLogger\n",
    "from sklearn.metrics import r2_score, root_mean_squared_error\n",
    "from torch.nn import (\n",
    "    BatchNorm1d,\n",
    "    L1Loss,\n",
    "    Linear,\n",
    "    ModuleList,\n",
    "    ReLU,\n",
    "    Sequential,\n",
    "    Tanh,\n",
    "    LeakyReLU,\n",
    ")\n",
    "from torch_geometric.nn import (\n",
    "    GINEConv,\n",
    "    GPSConv,\n",
    "    GraphNorm,\n",
    "    SAGPooling,\n",
    "    SetTransformerAggregation,\n",
    ")\n",
    "from rdkit import Chem\n",
    "from sklearn.feature_selection import r_regression"
   ]
  },
  {
   "cell_type": "markdown",
   "metadata": {},
   "source": [
    "### Data preparation"
   ]
  },
  {
   "cell_type": "code",
   "execution_count": 2,
   "metadata": {},
   "outputs": [
    {
     "data": {
      "text/html": [
       "<pre style=\"white-space:pre;overflow-x:auto;line-height:normal;font-family:Menlo,'DejaVu Sans Mono',consolas,'Courier New',monospace\"><span style=\"color: #7fbfbf; text-decoration-color: #7fbfbf\">[09/05/24 11:02:15] </span><span style=\"color: #000080; text-decoration-color: #000080\">INFO    </span> Registered line magic <span style=\"color: #008000; text-decoration-color: #008000\">'%reload_kedro'</span>                                   <a href=\"file://c:\\Users\\01121272\\Desktop\\Projects\\gnn-mp-model\\.venv\\Lib\\site-packages\\kedro\\ipython\\__init__.py\" target=\"_blank\"><span style=\"color: #7f7f7f; text-decoration-color: #7f7f7f\">__init__.py</span></a><span style=\"color: #7f7f7f; text-decoration-color: #7f7f7f\">:</span><a href=\"file://c:\\Users\\01121272\\Desktop\\Projects\\gnn-mp-model\\.venv\\Lib\\site-packages\\kedro\\ipython\\__init__.py#58\" target=\"_blank\"><span style=\"color: #7f7f7f; text-decoration-color: #7f7f7f\">58</span></a>\n",
       "</pre>\n"
      ],
      "text/plain": [
       "\u001b[2;36m[09/05/24 11:02:15]\u001b[0m\u001b[2;36m \u001b[0m\u001b[34mINFO    \u001b[0m Registered line magic \u001b[32m'%reload_kedro'\u001b[0m                                   \u001b]8;id=22899;file://c:\\Users\\01121272\\Desktop\\Projects\\gnn-mp-model\\.venv\\Lib\\site-packages\\kedro\\ipython\\__init__.py\u001b\\\u001b[2m__init__.py\u001b[0m\u001b]8;;\u001b\\\u001b[2m:\u001b[0m\u001b]8;id=197862;file://c:\\Users\\01121272\\Desktop\\Projects\\gnn-mp-model\\.venv\\Lib\\site-packages\\kedro\\ipython\\__init__.py#58\u001b\\\u001b[2m58\u001b[0m\u001b]8;;\u001b\\\n"
      ]
     },
     "metadata": {},
     "output_type": "display_data"
    },
    {
     "data": {
      "text/html": [
       "<pre style=\"white-space:pre;overflow-x:auto;line-height:normal;font-family:Menlo,'DejaVu Sans Mono',consolas,'Courier New',monospace\"><span style=\"color: #7fbfbf; text-decoration-color: #7fbfbf\">                    </span><span style=\"color: #000080; text-decoration-color: #000080\">INFO    </span> Registered line magic <span style=\"color: #008000; text-decoration-color: #008000\">'%load_node'</span>                                      <a href=\"file://c:\\Users\\01121272\\Desktop\\Projects\\gnn-mp-model\\.venv\\Lib\\site-packages\\kedro\\ipython\\__init__.py\" target=\"_blank\"><span style=\"color: #7f7f7f; text-decoration-color: #7f7f7f\">__init__.py</span></a><span style=\"color: #7f7f7f; text-decoration-color: #7f7f7f\">:</span><a href=\"file://c:\\Users\\01121272\\Desktop\\Projects\\gnn-mp-model\\.venv\\Lib\\site-packages\\kedro\\ipython\\__init__.py#60\" target=\"_blank\"><span style=\"color: #7f7f7f; text-decoration-color: #7f7f7f\">60</span></a>\n",
       "</pre>\n"
      ],
      "text/plain": [
       "\u001b[2;36m                   \u001b[0m\u001b[2;36m \u001b[0m\u001b[34mINFO    \u001b[0m Registered line magic \u001b[32m'%load_node'\u001b[0m                                      \u001b]8;id=849018;file://c:\\Users\\01121272\\Desktop\\Projects\\gnn-mp-model\\.venv\\Lib\\site-packages\\kedro\\ipython\\__init__.py\u001b\\\u001b[2m__init__.py\u001b[0m\u001b]8;;\u001b\\\u001b[2m:\u001b[0m\u001b]8;id=347294;file://c:\\Users\\01121272\\Desktop\\Projects\\gnn-mp-model\\.venv\\Lib\\site-packages\\kedro\\ipython\\__init__.py#60\u001b\\\u001b[2m60\u001b[0m\u001b]8;;\u001b\\\n"
      ]
     },
     "metadata": {},
     "output_type": "display_data"
    },
    {
     "data": {
      "text/html": [
       "<pre style=\"white-space:pre;overflow-x:auto;line-height:normal;font-family:Menlo,'DejaVu Sans Mono',consolas,'Courier New',monospace\"><span style=\"color: #7fbfbf; text-decoration-color: #7fbfbf\">                    </span><span style=\"color: #000080; text-decoration-color: #000080\">INFO    </span> Resolved project path as:                                              <a href=\"file://c:\\Users\\01121272\\Desktop\\Projects\\gnn-mp-model\\.venv\\Lib\\site-packages\\kedro\\ipython\\__init__.py\" target=\"_blank\"><span style=\"color: #7f7f7f; text-decoration-color: #7f7f7f\">__init__.py</span></a><span style=\"color: #7f7f7f; text-decoration-color: #7f7f7f\">:</span><a href=\"file://c:\\Users\\01121272\\Desktop\\Projects\\gnn-mp-model\\.venv\\Lib\\site-packages\\kedro\\ipython\\__init__.py#171\" target=\"_blank\"><span style=\"color: #7f7f7f; text-decoration-color: #7f7f7f\">171</span></a>\n",
       "<span style=\"color: #7fbfbf; text-decoration-color: #7fbfbf\">                    </span>         c:\\Users\\<span style=\"color: #008080; text-decoration-color: #008080; font-weight: bold\">01121272</span>\\Desktop\\Projects\\gnn-mp-model.                       <span style=\"color: #7f7f7f; text-decoration-color: #7f7f7f\">               </span>\n",
       "<span style=\"color: #7fbfbf; text-decoration-color: #7fbfbf\">                    </span>         To set a different path, run <span style=\"color: #008000; text-decoration-color: #008000\">'%reload_kedro &lt;project_root&gt;'</span>            <span style=\"color: #7f7f7f; text-decoration-color: #7f7f7f\">               </span>\n",
       "</pre>\n"
      ],
      "text/plain": [
       "\u001b[2;36m                   \u001b[0m\u001b[2;36m \u001b[0m\u001b[34mINFO    \u001b[0m Resolved project path as:                                              \u001b]8;id=587660;file://c:\\Users\\01121272\\Desktop\\Projects\\gnn-mp-model\\.venv\\Lib\\site-packages\\kedro\\ipython\\__init__.py\u001b\\\u001b[2m__init__.py\u001b[0m\u001b]8;;\u001b\\\u001b[2m:\u001b[0m\u001b]8;id=457468;file://c:\\Users\\01121272\\Desktop\\Projects\\gnn-mp-model\\.venv\\Lib\\site-packages\\kedro\\ipython\\__init__.py#171\u001b\\\u001b[2m171\u001b[0m\u001b]8;;\u001b\\\n",
       "\u001b[2;36m                    \u001b[0m         c:\\Users\\\u001b[1;36m01121272\u001b[0m\\Desktop\\Projects\\gnn-mp-model.                       \u001b[2m               \u001b[0m\n",
       "\u001b[2;36m                    \u001b[0m         To set a different path, run \u001b[32m'%reload_kedro \u001b[0m\u001b[32m<\u001b[0m\u001b[32mproject_root\u001b[0m\u001b[32m>\u001b[0m\u001b[32m'\u001b[0m            \u001b[2m               \u001b[0m\n"
      ]
     },
     "metadata": {},
     "output_type": "display_data"
    },
    {
     "data": {
      "text/html": [
       "<pre style=\"white-space:pre;overflow-x:auto;line-height:normal;font-family:Menlo,'DejaVu Sans Mono',consolas,'Courier New',monospace\"><span style=\"color: #7fbfbf; text-decoration-color: #7fbfbf\">[09/05/24 11:02:20] </span><span style=\"color: #000080; text-decoration-color: #000080\">INFO    </span> Registering new custom resolver: <span style=\"color: #008000; text-decoration-color: #008000\">'km.random_name'</span>                    <a href=\"file://c:\\Users\\01121272\\Desktop\\Projects\\gnn-mp-model\\.venv\\Lib\\site-packages\\kedro_mlflow\\framework\\hooks\\mlflow_hook.py\" target=\"_blank\"><span style=\"color: #7f7f7f; text-decoration-color: #7f7f7f\">mlflow_hook.py</span></a><span style=\"color: #7f7f7f; text-decoration-color: #7f7f7f\">:</span><a href=\"file://c:\\Users\\01121272\\Desktop\\Projects\\gnn-mp-model\\.venv\\Lib\\site-packages\\kedro_mlflow\\framework\\hooks\\mlflow_hook.py#65\" target=\"_blank\"><span style=\"color: #7f7f7f; text-decoration-color: #7f7f7f\">65</span></a>\n",
       "</pre>\n"
      ],
      "text/plain": [
       "\u001b[2;36m[09/05/24 11:02:20]\u001b[0m\u001b[2;36m \u001b[0m\u001b[34mINFO    \u001b[0m Registering new custom resolver: \u001b[32m'km.random_name'\u001b[0m                    \u001b]8;id=488732;file://c:\\Users\\01121272\\Desktop\\Projects\\gnn-mp-model\\.venv\\Lib\\site-packages\\kedro_mlflow\\framework\\hooks\\mlflow_hook.py\u001b\\\u001b[2mmlflow_hook.py\u001b[0m\u001b]8;;\u001b\\\u001b[2m:\u001b[0m\u001b]8;id=234779;file://c:\\Users\\01121272\\Desktop\\Projects\\gnn-mp-model\\.venv\\Lib\\site-packages\\kedro_mlflow\\framework\\hooks\\mlflow_hook.py#65\u001b\\\u001b[2m65\u001b[0m\u001b]8;;\u001b\\\n"
      ]
     },
     "metadata": {},
     "output_type": "display_data"
    },
    {
     "data": {
      "text/html": [
       "<pre style=\"white-space:pre;overflow-x:auto;line-height:normal;font-family:Menlo,'DejaVu Sans Mono',consolas,'Courier New',monospace\"><span style=\"color: #7fbfbf; text-decoration-color: #7fbfbf\">                    </span><span style=\"color: #000080; text-decoration-color: #000080\">INFO    </span> The <span style=\"color: #008000; text-decoration-color: #008000\">'tracking_uri'</span> key in mlflow.yml is relative            <a href=\"file://c:\\Users\\01121272\\Desktop\\Projects\\gnn-mp-model\\.venv\\Lib\\site-packages\\kedro_mlflow\\config\\kedro_mlflow_config.py\" target=\"_blank\"><span style=\"color: #7f7f7f; text-decoration-color: #7f7f7f\">kedro_mlflow_config.py</span></a><span style=\"color: #7f7f7f; text-decoration-color: #7f7f7f\">:</span><a href=\"file://c:\\Users\\01121272\\Desktop\\Projects\\gnn-mp-model\\.venv\\Lib\\site-packages\\kedro_mlflow\\config\\kedro_mlflow_config.py#260\" target=\"_blank\"><span style=\"color: #7f7f7f; text-decoration-color: #7f7f7f\">260</span></a>\n",
       "<span style=\"color: #7fbfbf; text-decoration-color: #7fbfbf\">                    </span>         <span style=\"font-weight: bold\">(</span><span style=\"color: #008000; text-decoration-color: #008000\">'server.mlflow_(tracking|registry)_uri = mlruns'</span><span style=\"font-weight: bold\">)</span>. It is   <span style=\"color: #7f7f7f; text-decoration-color: #7f7f7f\">                          </span>\n",
       "<span style=\"color: #7fbfbf; text-decoration-color: #7fbfbf\">                    </span>         converted to a valid uri:                                   <span style=\"color: #7f7f7f; text-decoration-color: #7f7f7f\">                          </span>\n",
       "<span style=\"color: #7fbfbf; text-decoration-color: #7fbfbf\">                    </span>         <span style=\"color: #008000; text-decoration-color: #008000\">'file:///C:/Users/01121272/Desktop/Projects/gnn-mp-model/ml</span> <span style=\"color: #7f7f7f; text-decoration-color: #7f7f7f\">                          </span>\n",
       "<span style=\"color: #7fbfbf; text-decoration-color: #7fbfbf\">                    </span>         <span style=\"color: #008000; text-decoration-color: #008000\">runs'</span>                                                       <span style=\"color: #7f7f7f; text-decoration-color: #7f7f7f\">                          </span>\n",
       "</pre>\n"
      ],
      "text/plain": [
       "\u001b[2;36m                   \u001b[0m\u001b[2;36m \u001b[0m\u001b[34mINFO    \u001b[0m The \u001b[32m'tracking_uri'\u001b[0m key in mlflow.yml is relative            \u001b]8;id=430565;file://c:\\Users\\01121272\\Desktop\\Projects\\gnn-mp-model\\.venv\\Lib\\site-packages\\kedro_mlflow\\config\\kedro_mlflow_config.py\u001b\\\u001b[2mkedro_mlflow_config.py\u001b[0m\u001b]8;;\u001b\\\u001b[2m:\u001b[0m\u001b]8;id=337648;file://c:\\Users\\01121272\\Desktop\\Projects\\gnn-mp-model\\.venv\\Lib\\site-packages\\kedro_mlflow\\config\\kedro_mlflow_config.py#260\u001b\\\u001b[2m260\u001b[0m\u001b]8;;\u001b\\\n",
       "\u001b[2;36m                    \u001b[0m         \u001b[1m(\u001b[0m\u001b[32m'server.mlflow_\u001b[0m\u001b[32m(\u001b[0m\u001b[32mtracking|registry\u001b[0m\u001b[32m)\u001b[0m\u001b[32m_uri = mlruns'\u001b[0m\u001b[1m)\u001b[0m. It is   \u001b[2m                          \u001b[0m\n",
       "\u001b[2;36m                    \u001b[0m         converted to a valid uri:                                   \u001b[2m                          \u001b[0m\n",
       "\u001b[2;36m                    \u001b[0m         \u001b[32m'file:///C:/Users/01121272/Desktop/Projects/gnn-mp-model/ml\u001b[0m \u001b[2m                          \u001b[0m\n",
       "\u001b[2;36m                    \u001b[0m         \u001b[32mruns'\u001b[0m                                                       \u001b[2m                          \u001b[0m\n"
      ]
     },
     "metadata": {},
     "output_type": "display_data"
    },
    {
     "data": {
      "text/html": [
       "<pre style=\"white-space:pre;overflow-x:auto;line-height:normal;font-family:Menlo,'DejaVu Sans Mono',consolas,'Courier New',monospace\"><span style=\"color: #7fbfbf; text-decoration-color: #7fbfbf\">[09/05/24 11:02:21] </span><span style=\"color: #000080; text-decoration-color: #000080\">INFO    </span> Kedro project GNN_MP_model                                             <a href=\"file://c:\\Users\\01121272\\Desktop\\Projects\\gnn-mp-model\\.venv\\Lib\\site-packages\\kedro\\ipython\\__init__.py\" target=\"_blank\"><span style=\"color: #7f7f7f; text-decoration-color: #7f7f7f\">__init__.py</span></a><span style=\"color: #7f7f7f; text-decoration-color: #7f7f7f\">:</span><a href=\"file://c:\\Users\\01121272\\Desktop\\Projects\\gnn-mp-model\\.venv\\Lib\\site-packages\\kedro\\ipython\\__init__.py#141\" target=\"_blank\"><span style=\"color: #7f7f7f; text-decoration-color: #7f7f7f\">141</span></a>\n",
       "</pre>\n"
      ],
      "text/plain": [
       "\u001b[2;36m[09/05/24 11:02:21]\u001b[0m\u001b[2;36m \u001b[0m\u001b[34mINFO    \u001b[0m Kedro project GNN_MP_model                                             \u001b]8;id=838799;file://c:\\Users\\01121272\\Desktop\\Projects\\gnn-mp-model\\.venv\\Lib\\site-packages\\kedro\\ipython\\__init__.py\u001b\\\u001b[2m__init__.py\u001b[0m\u001b]8;;\u001b\\\u001b[2m:\u001b[0m\u001b]8;id=387485;file://c:\\Users\\01121272\\Desktop\\Projects\\gnn-mp-model\\.venv\\Lib\\site-packages\\kedro\\ipython\\__init__.py#141\u001b\\\u001b[2m141\u001b[0m\u001b]8;;\u001b\\\n"
      ]
     },
     "metadata": {},
     "output_type": "display_data"
    },
    {
     "data": {
      "text/html": [
       "<pre style=\"white-space:pre;overflow-x:auto;line-height:normal;font-family:Menlo,'DejaVu Sans Mono',consolas,'Courier New',monospace\"><span style=\"color: #7fbfbf; text-decoration-color: #7fbfbf\">                    </span><span style=\"color: #000080; text-decoration-color: #000080\">INFO    </span> Defined global variable <span style=\"color: #008000; text-decoration-color: #008000\">'context'</span>, <span style=\"color: #008000; text-decoration-color: #008000\">'session'</span>, <span style=\"color: #008000; text-decoration-color: #008000\">'catalog'</span> and            <a href=\"file://c:\\Users\\01121272\\Desktop\\Projects\\gnn-mp-model\\.venv\\Lib\\site-packages\\kedro\\ipython\\__init__.py\" target=\"_blank\"><span style=\"color: #7f7f7f; text-decoration-color: #7f7f7f\">__init__.py</span></a><span style=\"color: #7f7f7f; text-decoration-color: #7f7f7f\">:</span><a href=\"file://c:\\Users\\01121272\\Desktop\\Projects\\gnn-mp-model\\.venv\\Lib\\site-packages\\kedro\\ipython\\__init__.py#142\" target=\"_blank\"><span style=\"color: #7f7f7f; text-decoration-color: #7f7f7f\">142</span></a>\n",
       "<span style=\"color: #7fbfbf; text-decoration-color: #7fbfbf\">                    </span>         <span style=\"color: #008000; text-decoration-color: #008000\">'pipelines'</span>                                                            <span style=\"color: #7f7f7f; text-decoration-color: #7f7f7f\">               </span>\n",
       "</pre>\n"
      ],
      "text/plain": [
       "\u001b[2;36m                   \u001b[0m\u001b[2;36m \u001b[0m\u001b[34mINFO    \u001b[0m Defined global variable \u001b[32m'context'\u001b[0m, \u001b[32m'session'\u001b[0m, \u001b[32m'catalog'\u001b[0m and            \u001b]8;id=701391;file://c:\\Users\\01121272\\Desktop\\Projects\\gnn-mp-model\\.venv\\Lib\\site-packages\\kedro\\ipython\\__init__.py\u001b\\\u001b[2m__init__.py\u001b[0m\u001b]8;;\u001b\\\u001b[2m:\u001b[0m\u001b]8;id=848428;file://c:\\Users\\01121272\\Desktop\\Projects\\gnn-mp-model\\.venv\\Lib\\site-packages\\kedro\\ipython\\__init__.py#142\u001b\\\u001b[2m142\u001b[0m\u001b]8;;\u001b\\\n",
       "\u001b[2;36m                    \u001b[0m         \u001b[32m'pipelines'\u001b[0m                                                            \u001b[2m               \u001b[0m\n"
      ]
     },
     "metadata": {},
     "output_type": "display_data"
    },
    {
     "data": {
      "text/html": [
       "<pre style=\"white-space:pre;overflow-x:auto;line-height:normal;font-family:Menlo,'DejaVu Sans Mono',consolas,'Courier New',monospace\"><span style=\"color: #7fbfbf; text-decoration-color: #7fbfbf\">[09/05/24 11:02:23] </span><span style=\"color: #000080; text-decoration-color: #000080\">INFO    </span> Registered line magic <span style=\"color: #008000; text-decoration-color: #008000\">'run_viz'</span>                                        <a href=\"file://c:\\Users\\01121272\\Desktop\\Projects\\gnn-mp-model\\.venv\\Lib\\site-packages\\kedro\\ipython\\__init__.py\" target=\"_blank\"><span style=\"color: #7f7f7f; text-decoration-color: #7f7f7f\">__init__.py</span></a><span style=\"color: #7f7f7f; text-decoration-color: #7f7f7f\">:</span><a href=\"file://c:\\Users\\01121272\\Desktop\\Projects\\gnn-mp-model\\.venv\\Lib\\site-packages\\kedro\\ipython\\__init__.py#148\" target=\"_blank\"><span style=\"color: #7f7f7f; text-decoration-color: #7f7f7f\">148</span></a>\n",
       "</pre>\n"
      ],
      "text/plain": [
       "\u001b[2;36m[09/05/24 11:02:23]\u001b[0m\u001b[2;36m \u001b[0m\u001b[34mINFO    \u001b[0m Registered line magic \u001b[32m'run_viz'\u001b[0m                                        \u001b]8;id=916359;file://c:\\Users\\01121272\\Desktop\\Projects\\gnn-mp-model\\.venv\\Lib\\site-packages\\kedro\\ipython\\__init__.py\u001b\\\u001b[2m__init__.py\u001b[0m\u001b]8;;\u001b\\\u001b[2m:\u001b[0m\u001b]8;id=626263;file://c:\\Users\\01121272\\Desktop\\Projects\\gnn-mp-model\\.venv\\Lib\\site-packages\\kedro\\ipython\\__init__.py#148\u001b\\\u001b[2m148\u001b[0m\u001b]8;;\u001b\\\n"
      ]
     },
     "metadata": {},
     "output_type": "display_data"
    }
   ],
   "source": [
    "%load_ext kedro.ipython"
   ]
  },
  {
   "cell_type": "code",
   "execution_count": 7,
   "metadata": {},
   "outputs": [
    {
     "data": {
      "text/html": [
       "<pre style=\"white-space:pre;overflow-x:auto;line-height:normal;font-family:Menlo,'DejaVu Sans Mono',consolas,'Courier New',monospace\"><span style=\"color: #7fbfbf; text-decoration-color: #7fbfbf\">[09/05/24 11:03:47] </span><span style=\"color: #000080; text-decoration-color: #000080\">INFO    </span> Loading data from <span style=\"color: #ff8700; text-decoration-color: #ff8700\">merged_database</span> <span style=\"font-weight: bold\">(</span>CSVDataset<span style=\"font-weight: bold\">)</span><span style=\"color: #808000; text-decoration-color: #808000\">...</span>                  <a href=\"file://c:\\Users\\01121272\\Desktop\\Projects\\gnn-mp-model\\.venv\\Lib\\site-packages\\kedro\\io\\data_catalog.py\" target=\"_blank\"><span style=\"color: #7f7f7f; text-decoration-color: #7f7f7f\">data_catalog.py</span></a><span style=\"color: #7f7f7f; text-decoration-color: #7f7f7f\">:</span><a href=\"file://c:\\Users\\01121272\\Desktop\\Projects\\gnn-mp-model\\.venv\\Lib\\site-packages\\kedro\\io\\data_catalog.py#508\" target=\"_blank\"><span style=\"color: #7f7f7f; text-decoration-color: #7f7f7f\">508</span></a>\n",
       "</pre>\n"
      ],
      "text/plain": [
       "\u001b[2;36m[09/05/24 11:03:47]\u001b[0m\u001b[2;36m \u001b[0m\u001b[34mINFO    \u001b[0m Loading data from \u001b[38;5;208mmerged_database\u001b[0m \u001b[1m(\u001b[0mCSVDataset\u001b[1m)\u001b[0m\u001b[33m...\u001b[0m                  \u001b]8;id=757753;file://c:\\Users\\01121272\\Desktop\\Projects\\gnn-mp-model\\.venv\\Lib\\site-packages\\kedro\\io\\data_catalog.py\u001b\\\u001b[2mdata_catalog.py\u001b[0m\u001b]8;;\u001b\\\u001b[2m:\u001b[0m\u001b]8;id=377009;file://c:\\Users\\01121272\\Desktop\\Projects\\gnn-mp-model\\.venv\\Lib\\site-packages\\kedro\\io\\data_catalog.py#508\u001b\\\u001b[2m508\u001b[0m\u001b]8;;\u001b\\\n"
      ]
     },
     "metadata": {},
     "output_type": "display_data"
    },
    {
     "data": {
      "text/html": [
       "<pre style=\"white-space:pre;overflow-x:auto;line-height:normal;font-family:Menlo,'DejaVu Sans Mono',consolas,'Courier New',monospace\"><span style=\"color: #7fbfbf; text-decoration-color: #7fbfbf\">                    </span><span style=\"color: #000080; text-decoration-color: #000080\">INFO    </span> Loading data from <span style=\"color: #ff8700; text-decoration-color: #ff8700\">random_train_dataloader</span> <span style=\"font-weight: bold\">(</span>GraphDataset<span style=\"font-weight: bold\">)</span><span style=\"color: #808000; text-decoration-color: #808000\">...</span>        <a href=\"file://c:\\Users\\01121272\\Desktop\\Projects\\gnn-mp-model\\.venv\\Lib\\site-packages\\kedro\\io\\data_catalog.py\" target=\"_blank\"><span style=\"color: #7f7f7f; text-decoration-color: #7f7f7f\">data_catalog.py</span></a><span style=\"color: #7f7f7f; text-decoration-color: #7f7f7f\">:</span><a href=\"file://c:\\Users\\01121272\\Desktop\\Projects\\gnn-mp-model\\.venv\\Lib\\site-packages\\kedro\\io\\data_catalog.py#508\" target=\"_blank\"><span style=\"color: #7f7f7f; text-decoration-color: #7f7f7f\">508</span></a>\n",
       "</pre>\n"
      ],
      "text/plain": [
       "\u001b[2;36m                   \u001b[0m\u001b[2;36m \u001b[0m\u001b[34mINFO    \u001b[0m Loading data from \u001b[38;5;208mrandom_train_dataloader\u001b[0m \u001b[1m(\u001b[0mGraphDataset\u001b[1m)\u001b[0m\u001b[33m...\u001b[0m        \u001b]8;id=451985;file://c:\\Users\\01121272\\Desktop\\Projects\\gnn-mp-model\\.venv\\Lib\\site-packages\\kedro\\io\\data_catalog.py\u001b\\\u001b[2mdata_catalog.py\u001b[0m\u001b]8;;\u001b\\\u001b[2m:\u001b[0m\u001b]8;id=493717;file://c:\\Users\\01121272\\Desktop\\Projects\\gnn-mp-model\\.venv\\Lib\\site-packages\\kedro\\io\\data_catalog.py#508\u001b\\\u001b[2m508\u001b[0m\u001b]8;;\u001b\\\n"
      ]
     },
     "metadata": {},
     "output_type": "display_data"
    },
    {
     "data": {
      "text/html": [
       "<pre style=\"white-space:pre;overflow-x:auto;line-height:normal;font-family:Menlo,'DejaVu Sans Mono',consolas,'Courier New',monospace\"><span style=\"color: #7fbfbf; text-decoration-color: #7fbfbf\">[09/05/24 11:03:48] </span><span style=\"color: #000080; text-decoration-color: #000080\">INFO    </span> Loading data from <span style=\"color: #ff8700; text-decoration-color: #ff8700\">random_test_dataloader</span> <span style=\"font-weight: bold\">(</span>GraphDataset<span style=\"font-weight: bold\">)</span><span style=\"color: #808000; text-decoration-color: #808000\">...</span>         <a href=\"file://c:\\Users\\01121272\\Desktop\\Projects\\gnn-mp-model\\.venv\\Lib\\site-packages\\kedro\\io\\data_catalog.py\" target=\"_blank\"><span style=\"color: #7f7f7f; text-decoration-color: #7f7f7f\">data_catalog.py</span></a><span style=\"color: #7f7f7f; text-decoration-color: #7f7f7f\">:</span><a href=\"file://c:\\Users\\01121272\\Desktop\\Projects\\gnn-mp-model\\.venv\\Lib\\site-packages\\kedro\\io\\data_catalog.py#508\" target=\"_blank\"><span style=\"color: #7f7f7f; text-decoration-color: #7f7f7f\">508</span></a>\n",
       "</pre>\n"
      ],
      "text/plain": [
       "\u001b[2;36m[09/05/24 11:03:48]\u001b[0m\u001b[2;36m \u001b[0m\u001b[34mINFO    \u001b[0m Loading data from \u001b[38;5;208mrandom_test_dataloader\u001b[0m \u001b[1m(\u001b[0mGraphDataset\u001b[1m)\u001b[0m\u001b[33m...\u001b[0m         \u001b]8;id=29741;file://c:\\Users\\01121272\\Desktop\\Projects\\gnn-mp-model\\.venv\\Lib\\site-packages\\kedro\\io\\data_catalog.py\u001b\\\u001b[2mdata_catalog.py\u001b[0m\u001b]8;;\u001b\\\u001b[2m:\u001b[0m\u001b]8;id=856814;file://c:\\Users\\01121272\\Desktop\\Projects\\gnn-mp-model\\.venv\\Lib\\site-packages\\kedro\\io\\data_catalog.py#508\u001b\\\u001b[2m508\u001b[0m\u001b]8;;\u001b\\\n"
      ]
     },
     "metadata": {},
     "output_type": "display_data"
    },
    {
     "data": {
      "text/html": [
       "<pre style=\"white-space:pre;overflow-x:auto;line-height:normal;font-family:Menlo,'DejaVu Sans Mono',consolas,'Courier New',monospace\"><span style=\"color: #7fbfbf; text-decoration-color: #7fbfbf\">                    </span><span style=\"color: #000080; text-decoration-color: #000080\">INFO    </span> Loading data from <span style=\"color: #ff8700; text-decoration-color: #ff8700\">predict_dataloader</span> <span style=\"font-weight: bold\">(</span>GraphDataset<span style=\"font-weight: bold\">)</span><span style=\"color: #808000; text-decoration-color: #808000\">...</span>             <a href=\"file://c:\\Users\\01121272\\Desktop\\Projects\\gnn-mp-model\\.venv\\Lib\\site-packages\\kedro\\io\\data_catalog.py\" target=\"_blank\"><span style=\"color: #7f7f7f; text-decoration-color: #7f7f7f\">data_catalog.py</span></a><span style=\"color: #7f7f7f; text-decoration-color: #7f7f7f\">:</span><a href=\"file://c:\\Users\\01121272\\Desktop\\Projects\\gnn-mp-model\\.venv\\Lib\\site-packages\\kedro\\io\\data_catalog.py#508\" target=\"_blank\"><span style=\"color: #7f7f7f; text-decoration-color: #7f7f7f\">508</span></a>\n",
       "</pre>\n"
      ],
      "text/plain": [
       "\u001b[2;36m                   \u001b[0m\u001b[2;36m \u001b[0m\u001b[34mINFO    \u001b[0m Loading data from \u001b[38;5;208mpredict_dataloader\u001b[0m \u001b[1m(\u001b[0mGraphDataset\u001b[1m)\u001b[0m\u001b[33m...\u001b[0m             \u001b]8;id=441122;file://c:\\Users\\01121272\\Desktop\\Projects\\gnn-mp-model\\.venv\\Lib\\site-packages\\kedro\\io\\data_catalog.py\u001b\\\u001b[2mdata_catalog.py\u001b[0m\u001b]8;;\u001b\\\u001b[2m:\u001b[0m\u001b]8;id=966591;file://c:\\Users\\01121272\\Desktop\\Projects\\gnn-mp-model\\.venv\\Lib\\site-packages\\kedro\\io\\data_catalog.py#508\u001b\\\u001b[2m508\u001b[0m\u001b]8;;\u001b\\\n"
      ]
     },
     "metadata": {},
     "output_type": "display_data"
    }
   ],
   "source": [
    "merged_df = catalog.load(\"merged_database\")\n",
    "train_dataloader = catalog.load(\"random_train_dataloader\")\n",
    "test_dataloader = catalog.load(\"random_test_dataloader\")\n",
    "predict_dataloader = catalog.load('predict_dataloader')"
   ]
  },
  {
   "cell_type": "markdown",
   "metadata": {},
   "source": [
    "### Model defenition"
   ]
  },
  {
   "cell_type": "code",
   "execution_count": 27,
   "metadata": {},
   "outputs": [],
   "source": [
    "class GNN(torch.nn.Module):\n",
    "    def __init__(self, hidden_size: int, dense_size: int, num_layers:int, pooling: bool):  # noqa: PLR0913\n",
    "        # Loading params\n",
    "        super().__init__()\n",
    "        self.num_layers = num_layers\n",
    "        self.pooling = pooling\n",
    "        node_dim = 9\n",
    "        edge_dim = 4\n",
    "        pe_dim = 8\n",
    "        gf_dim = 6\n",
    "        pool_rate = 0.75\n",
    "        # Initial embeddings\n",
    "        self.node_emb = Linear(pe_dim+node_dim, hidden_size)\n",
    "        self.pe_lin = Linear(30, pe_dim)\n",
    "        self.pe_norm = BatchNorm1d(30)\n",
    "        self.edge_emb = Linear(edge_dim, hidden_size)\n",
    "        self.aggr = SetTransformerAggregation(hidden_size)\n",
    "        # PNA\n",
    "        self.gps_list = ModuleList([])\n",
    "        self.gn_list = ModuleList([])\n",
    "        self.aggr_list = ModuleList([])\n",
    "        self.pool_list = ModuleList([])\n",
    "        # Initial layers\n",
    "        for _ in range(self.num_layers):\n",
    "            nn = Sequential(\n",
    "                Linear(hidden_size, hidden_size),\n",
    "                LeakyReLU(),\n",
    "                Linear(hidden_size, hidden_size))\n",
    "            self.gps_list.append(GPSConv(hidden_size, GINEConv(nn, edge_dim=hidden_size), heads=4, dropout=0.2))\n",
    "            self.gn_list.append(GraphNorm(hidden_size))\n",
    "            self.aggr_list.append(SetTransformerAggregation(hidden_size))\n",
    "            self.pool_list.append(SAGPooling(hidden_size, pool_rate))\n",
    "\n",
    "        # Linear layers\n",
    "        self.linear1 = Linear(hidden_size, dense_size)\n",
    "        self.linear2 = Linear(dense_size, int(dense_size / 2))\n",
    "        self.linear3 = Linear(int(dense_size / 2), int(dense_size / 4))\n",
    "        self.linear4 = Linear(int(dense_size / 4), 1)\n",
    "\n",
    "    def forward(self, x, edge_index, pe, edge_attr, batch_index, gf):  # noqa: PLR0913\n",
    "        # Initial embeddings\n",
    "        x_pe = self.pe_norm(pe)\n",
    "        x = torch.cat((x, self.pe_lin(x_pe)), 1)\n",
    "        x = self.node_emb(x)\n",
    "        edge_attr = self.edge_emb(edge_attr)\n",
    "        global_representation = []\n",
    "        global_representation.append(self.aggr(x, batch_index))\n",
    "        ### Internal convolutions\n",
    "        for i in range(self.num_layers):\n",
    "            x = self.gps_list[i](x, edge_index, batch_index, edge_attr=edge_attr)\n",
    "            x = self.gn_list[i](x, batch_index)\n",
    "            if self.pooling is True:\n",
    "                x, edge_index, edge_attr, batch_index, _, _ = self.pool_list[i](\n",
    "                x, edge_index, edge_attr, batch_index\n",
    "            )\n",
    "            global_representation.append(self.aggr_list[i](x, batch_index))\n",
    "        ### Output block\n",
    "        x = sum(global_representation)\n",
    "        # x = torch.cat((x, gf), 1)\n",
    "        x = F.leaky_relu(self.linear1(x))\n",
    "        x = F.dropout(x, p=0.2, training=self.training)\n",
    "        x = F.leaky_relu(self.linear2(x))\n",
    "        x = F.dropout(x, p=0.2, training=self.training)\n",
    "        x = F.leaky_relu(self.linear3(x))\n",
    "        x = F.dropout(x, p=0.2, training=self.training)\n",
    "        x = self.linear4(x)\n",
    "        return x"
   ]
  },
  {
   "cell_type": "code",
   "execution_count": 13,
   "metadata": {},
   "outputs": [],
   "source": [
    "import lightning as L\n",
    "\n",
    "\n",
    "class GNN_L(L.LightningModule):\n",
    "    def __init__(self, params):\n",
    "        super().__init__()\n",
    "        self.model = GNN(params[\"hidden_size\"], params[\"dense_size\"], params[\"num_layers\"], params[\"pooling\"])\n",
    "        self.lr = params[\"lr\"]\n",
    "        self.weight_decay = params[\"weight_decay\"]\n",
    "        self.gamma = params[\"gamma\"]\n",
    "        self.loss_fn = L1Loss()\n",
    "        self.save_hyperparameters(params)\n",
    "\n",
    "    def forward(self, x, edge_index, pe, edge_attr,  batch_index, gf):  # noqa: PLR0913\n",
    "        return self.model(x.float(), edge_index, pe, edge_attr.float(),  batch_index, gf)\n",
    "\n",
    "    def training_step(self, batch, batch_index):\n",
    "        preds = self(batch.x.float(), batch.edge_index, batch.pe, batch.edge_attr.float(), batch.batch, batch.gf.float()).squeeze()\n",
    "        target = batch.y.float()\n",
    "        loss = self.loss_fn(preds, target)\n",
    "        r2 = r2_score(target.numpy(), preds.detach().numpy())\n",
    "        rmse = root_mean_squared_error(target.numpy(), preds.detach().numpy())\n",
    "        self.log(\"r2\", r2)\n",
    "        self.log(\"rmse\", rmse)\n",
    "        self.log(\"mae\", loss)\n",
    "        return loss\n",
    "\n",
    "    def validation_step(self, batch, batch_index):\n",
    "        preds = self(batch.x.float(), batch.edge_index, batch.pe, batch.edge_attr.float(), batch.batch, batch.gf.float()).squeeze()\n",
    "        target = batch.y.float()\n",
    "        val_loss = self.loss_fn(preds, target)\n",
    "        val_r2 = r2_score(target.numpy(), preds.detach().numpy())\n",
    "        val_rmse = root_mean_squared_error(target.numpy(), preds.detach().numpy())\n",
    "        self.log(\"val_mae\", val_loss)\n",
    "        self.log(\"val_r2\", val_r2)\n",
    "        self.log(\"val_rmse\", val_rmse)\n",
    "    def test_step(self, batch, batch_index, dataloader_idx=0):\n",
    "        preds = self(batch.x.float(), batch.edge_index, batch.pe, batch.edge_attr.float(), batch.batch, batch.gf.float()).squeeze()\n",
    "        target = batch.y.float()\n",
    "        test_mae = self.loss_fn(preds, target)\n",
    "        test_r2 = r2_score(target.numpy(), preds.detach().numpy())\n",
    "        self.log(\"test_mae\", test_mae)\n",
    "        self.log(\"test_r2\", test_r2)\n",
    "    def predict_step(self, batch, batch_idx, dataloader_idx=0):\n",
    "        preds = [self(batch.x.float(), batch.edge_index, batch.pe, batch.edge_attr.float(), batch.batch, batch.gf.float()).squeeze(), batch.smiles, batch.y]\n",
    "        return preds\n",
    "    def configure_optimizers(self):\n",
    "        optimizer = torch.optim.Adam(\n",
    "            self.parameters(),\n",
    "            lr=self.lr,\n",
    "            weight_decay = self.weight_decay)\n",
    "        scheduler = torch.optim.lr_scheduler.ExponentialLR(  # noqa: F811\n",
    "            optimizer, gamma=self.gamma\n",
    "        )\n",
    "        return [optimizer], [{\"scheduler\": scheduler, \"interval\": \"epoch\"}]"
   ]
  },
  {
   "cell_type": "markdown",
   "metadata": {},
   "source": [
    "### Training"
   ]
  },
  {
   "cell_type": "code",
   "execution_count": 14,
   "metadata": {},
   "outputs": [],
   "source": [
    "# Trainer\n",
    "\n",
    "def train_model(params):\n",
    "    filename = \"GPS_Main_Model_lrelu\"\n",
    "    L.seed_everything(42)\n",
    "    model = GNN_L(params)\n",
    "    early_stopping = EarlyStopping(\"val_mae\", patience=10, mode=\"min\", strict=False)\n",
    "    lr_monitor = LearningRateMonitor(logging_interval=\"epoch\")\n",
    "    checkpoint_callback = ModelCheckpoint(filename=\"{epoch}-{val_mae:.2f}-{val_rmse:.2f}\",\n",
    "                                          monitor=\"val_mae\",\n",
    "                                          save_top_k=2,\n",
    "                                          mode=\"min\")\n",
    "\n",
    "    logger = CSVLogger(save_dir=\"logs\", name=filename)\n",
    "    trainer = L.Trainer(\n",
    "        max_epochs=250,\n",
    "        callbacks=[early_stopping, lr_monitor, checkpoint_callback],\n",
    "        log_every_n_steps=20,\n",
    "        logger=logger,\n",
    "        deterministic=True,\n",
    "        accumulate_grad_batches=1\n",
    "    )\n",
    "    # Model pretraining\n",
    "    trainer.fit(model=model, train_dataloaders=train_dataloader, val_dataloaders=test_dataloader)\n",
    "    return model, trainer"
   ]
  },
  {
   "cell_type": "code",
   "execution_count": 39,
   "metadata": {},
   "outputs": [
    {
     "name": "stderr",
     "output_type": "stream",
     "text": [
      "Seed set to 42\n"
     ]
    },
    {
     "data": {
      "text/html": [
       "<pre style=\"white-space:pre;overflow-x:auto;line-height:normal;font-family:Menlo,'DejaVu Sans Mono',consolas,'Courier New',monospace\"><span style=\"color: #7fbfbf; text-decoration-color: #7fbfbf\">[08/30/24 09:49:07] </span><span style=\"color: #000080; text-decoration-color: #000080\">INFO    </span> GPU available: <span style=\"color: #ff0000; text-decoration-color: #ff0000; font-style: italic\">False</span>, used: <span style=\"color: #ff0000; text-decoration-color: #ff0000; font-style: italic\">False</span>                                      <a href=\"file://c:\\Users\\01121272\\Desktop\\Projects\\gnn-mp-model\\.venv\\Lib\\site-packages\\lightning_utilities\\core\\rank_zero.py\" target=\"_blank\"><span style=\"color: #7f7f7f; text-decoration-color: #7f7f7f\">rank_zero.py</span></a><span style=\"color: #7f7f7f; text-decoration-color: #7f7f7f\">:</span><a href=\"file://c:\\Users\\01121272\\Desktop\\Projects\\gnn-mp-model\\.venv\\Lib\\site-packages\\lightning_utilities\\core\\rank_zero.py#63\" target=\"_blank\"><span style=\"color: #7f7f7f; text-decoration-color: #7f7f7f\">63</span></a>\n",
       "</pre>\n"
      ],
      "text/plain": [
       "\u001b[2;36m[08/30/24 09:49:07]\u001b[0m\u001b[2;36m \u001b[0m\u001b[34mINFO    \u001b[0m GPU available: \u001b[3;91mFalse\u001b[0m, used: \u001b[3;91mFalse\u001b[0m                                      \u001b]8;id=288389;file://c:\\Users\\01121272\\Desktop\\Projects\\gnn-mp-model\\.venv\\Lib\\site-packages\\lightning_utilities\\core\\rank_zero.py\u001b\\\u001b[2mrank_zero.py\u001b[0m\u001b]8;;\u001b\\\u001b[2m:\u001b[0m\u001b]8;id=256787;file://c:\\Users\\01121272\\Desktop\\Projects\\gnn-mp-model\\.venv\\Lib\\site-packages\\lightning_utilities\\core\\rank_zero.py#63\u001b\\\u001b[2m63\u001b[0m\u001b]8;;\u001b\\\n"
      ]
     },
     "metadata": {},
     "output_type": "display_data"
    },
    {
     "data": {
      "text/html": [
       "<pre style=\"white-space:pre;overflow-x:auto;line-height:normal;font-family:Menlo,'DejaVu Sans Mono',consolas,'Courier New',monospace\"><span style=\"color: #7fbfbf; text-decoration-color: #7fbfbf\">                    </span><span style=\"color: #000080; text-decoration-color: #000080\">INFO    </span> TPU available: <span style=\"color: #ff0000; text-decoration-color: #ff0000; font-style: italic\">False</span>, using: <span style=\"color: #008080; text-decoration-color: #008080; font-weight: bold\">0</span> TPU cores                               <a href=\"file://c:\\Users\\01121272\\Desktop\\Projects\\gnn-mp-model\\.venv\\Lib\\site-packages\\lightning_utilities\\core\\rank_zero.py\" target=\"_blank\"><span style=\"color: #7f7f7f; text-decoration-color: #7f7f7f\">rank_zero.py</span></a><span style=\"color: #7f7f7f; text-decoration-color: #7f7f7f\">:</span><a href=\"file://c:\\Users\\01121272\\Desktop\\Projects\\gnn-mp-model\\.venv\\Lib\\site-packages\\lightning_utilities\\core\\rank_zero.py#63\" target=\"_blank\"><span style=\"color: #7f7f7f; text-decoration-color: #7f7f7f\">63</span></a>\n",
       "</pre>\n"
      ],
      "text/plain": [
       "\u001b[2;36m                   \u001b[0m\u001b[2;36m \u001b[0m\u001b[34mINFO    \u001b[0m TPU available: \u001b[3;91mFalse\u001b[0m, using: \u001b[1;36m0\u001b[0m TPU cores                               \u001b]8;id=709570;file://c:\\Users\\01121272\\Desktop\\Projects\\gnn-mp-model\\.venv\\Lib\\site-packages\\lightning_utilities\\core\\rank_zero.py\u001b\\\u001b[2mrank_zero.py\u001b[0m\u001b]8;;\u001b\\\u001b[2m:\u001b[0m\u001b]8;id=776646;file://c:\\Users\\01121272\\Desktop\\Projects\\gnn-mp-model\\.venv\\Lib\\site-packages\\lightning_utilities\\core\\rank_zero.py#63\u001b\\\u001b[2m63\u001b[0m\u001b]8;;\u001b\\\n"
      ]
     },
     "metadata": {},
     "output_type": "display_data"
    },
    {
     "data": {
      "text/html": [
       "<pre style=\"white-space:pre;overflow-x:auto;line-height:normal;font-family:Menlo,'DejaVu Sans Mono',consolas,'Courier New',monospace\"><span style=\"color: #7fbfbf; text-decoration-color: #7fbfbf\">                    </span><span style=\"color: #000080; text-decoration-color: #000080\">INFO    </span> HPU available: <span style=\"color: #ff0000; text-decoration-color: #ff0000; font-style: italic\">False</span>, using: <span style=\"color: #008080; text-decoration-color: #008080; font-weight: bold\">0</span> HPUs                                    <a href=\"file://c:\\Users\\01121272\\Desktop\\Projects\\gnn-mp-model\\.venv\\Lib\\site-packages\\lightning_utilities\\core\\rank_zero.py\" target=\"_blank\"><span style=\"color: #7f7f7f; text-decoration-color: #7f7f7f\">rank_zero.py</span></a><span style=\"color: #7f7f7f; text-decoration-color: #7f7f7f\">:</span><a href=\"file://c:\\Users\\01121272\\Desktop\\Projects\\gnn-mp-model\\.venv\\Lib\\site-packages\\lightning_utilities\\core\\rank_zero.py#63\" target=\"_blank\"><span style=\"color: #7f7f7f; text-decoration-color: #7f7f7f\">63</span></a>\n",
       "</pre>\n"
      ],
      "text/plain": [
       "\u001b[2;36m                   \u001b[0m\u001b[2;36m \u001b[0m\u001b[34mINFO    \u001b[0m HPU available: \u001b[3;91mFalse\u001b[0m, using: \u001b[1;36m0\u001b[0m HPUs                                    \u001b]8;id=442417;file://c:\\Users\\01121272\\Desktop\\Projects\\gnn-mp-model\\.venv\\Lib\\site-packages\\lightning_utilities\\core\\rank_zero.py\u001b\\\u001b[2mrank_zero.py\u001b[0m\u001b]8;;\u001b\\\u001b[2m:\u001b[0m\u001b]8;id=33326;file://c:\\Users\\01121272\\Desktop\\Projects\\gnn-mp-model\\.venv\\Lib\\site-packages\\lightning_utilities\\core\\rank_zero.py#63\u001b\\\u001b[2m63\u001b[0m\u001b]8;;\u001b\\\n"
      ]
     },
     "metadata": {},
     "output_type": "display_data"
    },
    {
     "name": "stderr",
     "output_type": "stream",
     "text": [
      "\n",
      "  | Name    | Type   | Params | Mode \n",
      "-------------------------------------------\n",
      "0 | model   | GNN    | 167 K  | train\n",
      "1 | loss_fn | L1Loss | 0      | train\n",
      "-------------------------------------------\n",
      "167 K     Trainable params\n",
      "0         Non-trainable params\n",
      "167 K     Total params\n",
      "0.668     Total estimated model params size (MB)\n"
     ]
    },
    {
     "name": "stdout",
     "output_type": "stream",
     "text": [
      "Epoch 44: 100%|██████████| 72/72 [00:25<00:00,  2.83it/s, v_num=6]         \n"
     ]
    }
   ],
   "source": [
    "params = {\n",
    "    \"lr\": 0.0005,\n",
    "    \"weight_decay\": 0.01,\n",
    "    \"gamma\": 0.98,\n",
    "    \"hidden_size\": 32,\n",
    "    \"dense_size\": 64,\n",
    "    \"num_layers\": 5,\n",
    "    \"pooling\": False,\n",
    "    \"gf_incl\": False,\n",
    "    \"random_state\": 42\n",
    "}\n",
    "model, trainer = train_model(params)"
   ]
  },
  {
   "cell_type": "code",
   "execution_count": 15,
   "metadata": {},
   "outputs": [],
   "source": [
    "def predict_on_df(model, predict_dataloader):\n",
    "    preds = []\n",
    "    for batch in predict_dataloader:\n",
    "        model.eval()\n",
    "        result = model.predict_step(batch, batch.batch)\n",
    "        preds.append(result)\n",
    "    preds_list = []\n",
    "    target_list = []\n",
    "    smiles_list = []\n",
    "    for item in preds:\n",
    "        preds_list.append(float(item[0]))\n",
    "        target_list.append(float(item[2]))\n",
    "        smiles_list.append(item[1][0])\n",
    "    df = pd.DataFrame(data=[preds_list, target_list, smiles_list]).transpose()\n",
    "    df.columns = [\"preds\", \"target\", \"smiles\"]\n",
    "    df[\"error\"] = abs(df[\"preds\"]- df[\"target\"]).astype(float)\n",
    "    return df\n",
    "\n",
    "def add_cation_anion_smiles(df):\n",
    "    cation_list = []\n",
    "    anion_list = []\n",
    "    for _, row in df.iterrows():\n",
    "        smiles_list = row[\"smiles\"].split(\".\")\n",
    "        if \"+\" in smiles_list[0]:\n",
    "            cation_list.append(smiles_list[0])\n",
    "            anion_list.append(smiles_list[1])\n",
    "        else:\n",
    "            cation_list.append(smiles_list[1])\n",
    "            anion_list.append(smiles_list[0])\n",
    "\n",
    "    df[\"cation_smiles\"] = cation_list\n",
    "    df[\"anion_smiles\"] = anion_list\n",
    "    return df"
   ]
  },
  {
   "cell_type": "code",
   "execution_count": 19,
   "metadata": {},
   "outputs": [],
   "source": [
    "def print_metrics(model):\n",
    "    loaders = [test_dataloader, train_dataloader, predict_dataloader]\n",
    "    L.seed_everything(42)\n",
    "    for loader in loaders:\n",
    "        df = predict_on_df(model, loader)\n",
    "        mae = df[\"error\"].mean()\n",
    "        r2 = r2_score(df[\"target\"], df[\"preds\"])\n",
    "        results = {\n",
    "            \"mae\": mae,\n",
    "            \"r2\": r2\n",
    "        }\n",
    "        print(results)"
   ]
  },
  {
   "cell_type": "code",
   "execution_count": 28,
   "metadata": {},
   "outputs": [],
   "source": [
    "model_ckpt = GNN_L.load_from_checkpoint(\"no_pool_no_gf_model.ckpt\")\n",
    "df = predict_on_df(model_ckpt, test_dataloader)"
   ]
  },
  {
   "cell_type": "code",
   "execution_count": 30,
   "metadata": {},
   "outputs": [
    {
     "data": {
      "text/html": [
       "<pre style=\"white-space:pre;overflow-x:auto;line-height:normal;font-family:Menlo,'DejaVu Sans Mono',consolas,'Courier New',monospace\"></pre>\n"
      ],
      "text/plain": []
     },
     "metadata": {},
     "output_type": "display_data"
    },
    {
     "data": {
      "text/html": [
       "<div>\n",
       "<style scoped>\n",
       "    .dataframe tbody tr th:only-of-type {\n",
       "        vertical-align: middle;\n",
       "    }\n",
       "\n",
       "    .dataframe tbody tr th {\n",
       "        vertical-align: top;\n",
       "    }\n",
       "\n",
       "    .dataframe thead th {\n",
       "        text-align: right;\n",
       "    }\n",
       "</style>\n",
       "<table border=\"1\" class=\"dataframe\">\n",
       "  <thead>\n",
       "    <tr style=\"text-align: right;\">\n",
       "      <th></th>\n",
       "      <th>preds</th>\n",
       "      <th>target</th>\n",
       "      <th>smiles</th>\n",
       "      <th>error</th>\n",
       "    </tr>\n",
       "  </thead>\n",
       "  <tbody>\n",
       "    <tr>\n",
       "      <th>0</th>\n",
       "      <td>146.894348</td>\n",
       "      <td>63.0</td>\n",
       "      <td>[Br-].c1ccc(Cn2cc[n+](Cc3ccccc3)c2)cc1</td>\n",
       "      <td>83.894348</td>\n",
       "    </tr>\n",
       "    <tr>\n",
       "      <th>1</th>\n",
       "      <td>63.122913</td>\n",
       "      <td>77.0</td>\n",
       "      <td>CCCCCCCCCCCCCC[n+]1ccc(C)cc1.[Br-]</td>\n",
       "      <td>13.877087</td>\n",
       "    </tr>\n",
       "    <tr>\n",
       "      <th>2</th>\n",
       "      <td>102.091141</td>\n",
       "      <td>95.0</td>\n",
       "      <td>Cn1cc[n+](CC(=O)N2C(=O)OC[C@@H]2c2ccccc2)c1.F[...</td>\n",
       "      <td>7.091141</td>\n",
       "    </tr>\n",
       "    <tr>\n",
       "      <th>3</th>\n",
       "      <td>23.686235</td>\n",
       "      <td>28.0</td>\n",
       "      <td>CCCCn1c[n+](CCC(F)(F)C(F)(F)C(F)(F)C(F)(F)C(F)...</td>\n",
       "      <td>4.313765</td>\n",
       "    </tr>\n",
       "    <tr>\n",
       "      <th>4</th>\n",
       "      <td>41.212498</td>\n",
       "      <td>48.0</td>\n",
       "      <td>CCCCCCCCC[n+]1cccnc1.F[B-](F)(F)F</td>\n",
       "      <td>6.787502</td>\n",
       "    </tr>\n",
       "    <tr>\n",
       "      <th>...</th>\n",
       "      <td>...</td>\n",
       "      <td>...</td>\n",
       "      <td>...</td>\n",
       "      <td>...</td>\n",
       "    </tr>\n",
       "    <tr>\n",
       "      <th>253</th>\n",
       "      <td>21.957129</td>\n",
       "      <td>48.0</td>\n",
       "      <td>CCc1cc[n+](CC#N)cc1.O=S(=O)([N-]S(=O)(=O)C(F)(...</td>\n",
       "      <td>26.042871</td>\n",
       "    </tr>\n",
       "    <tr>\n",
       "      <th>254</th>\n",
       "      <td>83.079636</td>\n",
       "      <td>79.0</td>\n",
       "      <td>CCCCCCCC[n+]1cccc(C)c1.[Cl-]</td>\n",
       "      <td>4.079636</td>\n",
       "    </tr>\n",
       "    <tr>\n",
       "      <th>255</th>\n",
       "      <td>200.992157</td>\n",
       "      <td>211.0</td>\n",
       "      <td>CCCCCCCC[N+](C)(C)C12CC3CC(CC(C3)C1)C2.[Br-]</td>\n",
       "      <td>10.007843</td>\n",
       "    </tr>\n",
       "    <tr>\n",
       "      <th>256</th>\n",
       "      <td>193.172699</td>\n",
       "      <td>161.0</td>\n",
       "      <td>N#Cc1n(O)cc(Br)[n+]1O.[Br-]</td>\n",
       "      <td>32.172699</td>\n",
       "    </tr>\n",
       "    <tr>\n",
       "      <th>257</th>\n",
       "      <td>103.176483</td>\n",
       "      <td>102.0</td>\n",
       "      <td>O=C(O[N+](=O)[O-])c1nn[n-]n1.[NH3+]n1cnnc1</td>\n",
       "      <td>1.176483</td>\n",
       "    </tr>\n",
       "  </tbody>\n",
       "</table>\n",
       "<p>258 rows × 4 columns</p>\n",
       "</div>"
      ],
      "text/plain": [
       "\n",
       "          preds target                                             smiles  \\\n",
       "\u001b[1;36m0\u001b[0m    \u001b[1;36m146.894348\u001b[0m   \u001b[1;36m63.0\u001b[0m             \u001b[1m[\u001b[0mBr-\u001b[1m]\u001b[0m\u001b[1;35m.c1ccc\u001b[0m\u001b[1m(\u001b[0mCn2cc\u001b[1m[\u001b[0mn+\u001b[1m]\u001b[0m\u001b[1m(\u001b[0mCc3ccccc3\u001b[1m)\u001b[0mc2\u001b[1m)\u001b[0mcc1   \n",
       "\u001b[1;36m1\u001b[0m     \u001b[1;36m63.122913\u001b[0m   \u001b[1;36m77.0\u001b[0m                 CCCCCCCCCCCCCC\u001b[1m[\u001b[0mn+\u001b[1m]\u001b[0m\u001b[1;35m1ccc\u001b[0m\u001b[1m(\u001b[0mC\u001b[1m)\u001b[0mcc1.\u001b[1m[\u001b[0mBr-\u001b[1m]\u001b[0m   \n",
       "\u001b[1;36m2\u001b[0m    \u001b[1;36m102.091141\u001b[0m   \u001b[1;36m95.0\u001b[0m  Cn1cc\u001b[1m[\u001b[0mn+\u001b[1m]\u001b[0m\u001b[1m(\u001b[0m\u001b[1;35mCC\u001b[0m\u001b[1m(\u001b[0m=O\u001b[1m)\u001b[0m\u001b[1;35mN2C\u001b[0m\u001b[1m(\u001b[0m=O\u001b[1m)\u001b[0mOC\u001b[1m[\u001b[0mC@@H\u001b[1m]\u001b[0m2c2ccccc2\u001b[1m)\u001b[0mc1.F\u001b[1m[\u001b[0m\u001b[33m...\u001b[0m   \n",
       "\u001b[1;36m3\u001b[0m     \u001b[1;36m23.686235\u001b[0m   \u001b[1;36m28.0\u001b[0m  CCCCn1c\u001b[1m[\u001b[0mn+\u001b[1m]\u001b[0m\u001b[1m(\u001b[0m\u001b[1;35mCCC\u001b[0m\u001b[1m(\u001b[0mF\u001b[1m)\u001b[0m\u001b[1m(\u001b[0mF\u001b[1m)\u001b[0m\u001b[1;35mC\u001b[0m\u001b[1m(\u001b[0mF\u001b[1m)\u001b[0m\u001b[1m(\u001b[0mF\u001b[1m)\u001b[0m\u001b[1;35mC\u001b[0m\u001b[1m(\u001b[0mF\u001b[1m)\u001b[0m\u001b[1m(\u001b[0mF\u001b[1m)\u001b[0m\u001b[1;35mC\u001b[0m\u001b[1m(\u001b[0mF\u001b[1m)\u001b[0m\u001b[1m(\u001b[0mF\u001b[1m)\u001b[0m\u001b[1;35mC\u001b[0m\u001b[1m(\u001b[0mF\u001b[1m)\u001b[0m\u001b[33m...\u001b[0m   \n",
       "\u001b[1;36m4\u001b[0m     \u001b[1;36m41.212498\u001b[0m   \u001b[1;36m48.0\u001b[0m                  CCCCCCCCC\u001b[1m[\u001b[0mn+\u001b[1m]\u001b[0m1cccnc1.F\u001b[1m[\u001b[0mB-\u001b[1m]\u001b[0m\u001b[1m(\u001b[0mF\u001b[1m)\u001b[0m\u001b[1m(\u001b[0mF\u001b[1m)\u001b[0mF   \n",
       "..          \u001b[33m...\u001b[0m    \u001b[33m...\u001b[0m                                                \u001b[33m...\u001b[0m   \n",
       "\u001b[1;36m253\u001b[0m   \u001b[1;36m21.957129\u001b[0m   \u001b[1;36m48.0\u001b[0m  CCc1cc\u001b[1m[\u001b[0mn+\u001b[1m]\u001b[0m\u001b[1m(\u001b[0mCC#N\u001b[1m)\u001b[0mcc1.\u001b[33mO\u001b[0m=\u001b[1;35mS\u001b[0m\u001b[1m(\u001b[0m=O\u001b[1m)\u001b[0m\u001b[1m(\u001b[0m\u001b[1m[\u001b[0mN-\u001b[1m]\u001b[0m\u001b[1;35mS\u001b[0m\u001b[1m(\u001b[0m=O\u001b[1m)\u001b[0m\u001b[1m(\u001b[0m=O\u001b[1m)\u001b[0m\u001b[1;35mC\u001b[0m\u001b[1m(\u001b[0mF\u001b[1m)\u001b[0m\u001b[1m(\u001b[0m\u001b[33m...\u001b[0m   \n",
       "\u001b[1;36m254\u001b[0m   \u001b[1;36m83.079636\u001b[0m   \u001b[1;36m79.0\u001b[0m                       CCCCCCCC\u001b[1m[\u001b[0mn+\u001b[1m]\u001b[0m\u001b[1;35m1cccc\u001b[0m\u001b[1m(\u001b[0mC\u001b[1m)\u001b[0mc1.\u001b[1m[\u001b[0mCl-\u001b[1m]\u001b[0m   \n",
       "\u001b[1;36m255\u001b[0m  \u001b[1;36m200.992157\u001b[0m  \u001b[1;36m211.0\u001b[0m       CCCCCCCC\u001b[1m[\u001b[0mN+\u001b[1m]\u001b[0m\u001b[1m(\u001b[0mC\u001b[1m)\u001b[0m\u001b[1m(\u001b[0mC\u001b[1m)\u001b[0m\u001b[1;35mC12CC3CC\u001b[0m\u001b[1m(\u001b[0m\u001b[1;35mCC\u001b[0m\u001b[1m(\u001b[0mC3\u001b[1m)\u001b[0mC1\u001b[1m)\u001b[0mC2.\u001b[1m[\u001b[0mBr-\u001b[1m]\u001b[0m   \n",
       "\u001b[1;36m256\u001b[0m  \u001b[1;36m193.172699\u001b[0m  \u001b[1;36m161.0\u001b[0m                        N#\u001b[1;35mCc1n\u001b[0m\u001b[1m(\u001b[0mO\u001b[1m)\u001b[0m\u001b[1;35mcc\u001b[0m\u001b[1m(\u001b[0mBr\u001b[1m)\u001b[0m\u001b[1m[\u001b[0mn+\u001b[1m]\u001b[0m1O.\u001b[1m[\u001b[0mBr-\u001b[1m]\u001b[0m   \n",
       "\u001b[1;36m257\u001b[0m  \u001b[1;36m103.176483\u001b[0m  \u001b[1;36m102.0\u001b[0m         \u001b[33mO\u001b[0m=\u001b[1;35mC\u001b[0m\u001b[1m(\u001b[0mO\u001b[1m[\u001b[0mN+\u001b[1m]\u001b[0m\u001b[1m(\u001b[0m=O\u001b[1m)\u001b[0m\u001b[1m[\u001b[0mO-\u001b[1m]\u001b[0m\u001b[1m)\u001b[0mc1nn\u001b[1m[\u001b[0mn-\u001b[1m]\u001b[0mn1.\u001b[1m[\u001b[0mNH3+\u001b[1m]\u001b[0mn1cnnc1   \n",
       "\n",
       "         error  \n",
       "\u001b[1;36m0\u001b[0m    \u001b[1;36m83.894348\u001b[0m  \n",
       "\u001b[1;36m1\u001b[0m    \u001b[1;36m13.877087\u001b[0m  \n",
       "\u001b[1;36m2\u001b[0m     \u001b[1;36m7.091141\u001b[0m  \n",
       "\u001b[1;36m3\u001b[0m     \u001b[1;36m4.313765\u001b[0m  \n",
       "\u001b[1;36m4\u001b[0m     \u001b[1;36m6.787502\u001b[0m  \n",
       "..         \u001b[33m...\u001b[0m  \n",
       "\u001b[1;36m253\u001b[0m  \u001b[1;36m26.042871\u001b[0m  \n",
       "\u001b[1;36m254\u001b[0m   \u001b[1;36m4.079636\u001b[0m  \n",
       "\u001b[1;36m255\u001b[0m  \u001b[1;36m10.007843\u001b[0m  \n",
       "\u001b[1;36m256\u001b[0m  \u001b[1;36m32.172699\u001b[0m  \n",
       "\u001b[1;36m257\u001b[0m   \u001b[1;36m1.176483\u001b[0m  \n",
       "\n",
       "\u001b[1m[\u001b[0m\u001b[1;36m258\u001b[0m rows x \u001b[1;36m4\u001b[0m columns\u001b[1m]\u001b[0m"
      ]
     },
     "execution_count": 30,
     "metadata": {},
     "output_type": "execute_result"
    }
   ],
   "source": [
    "df"
   ]
  },
  {
   "cell_type": "code",
   "execution_count": 18,
   "metadata": {},
   "outputs": [
    {
     "name": "stdout",
     "output_type": "stream",
     "text": [
      "Epoch 0:  48%|████▊     | 44/92 [26:44<29:10,  0.03it/s, v_num=2]\n"
     ]
    }
   ],
   "source": [
    "df = predict_on_df(model_ckpt, predict_dataloader)"
   ]
  },
  {
   "cell_type": "code",
   "execution_count": 20,
   "metadata": {},
   "outputs": [],
   "source": [
    "df = add_cation_anion_smiles(df)"
   ]
  },
  {
   "cell_type": "code",
   "execution_count": 22,
   "metadata": {},
   "outputs": [],
   "source": [
    "df.to_csv(\"full_model_all_results_explainer.csv\")"
   ]
  },
  {
   "cell_type": "code",
   "execution_count": 99,
   "metadata": {},
   "outputs": [],
   "source": [
    "df = df.where(df[\"target\"] < 250).dropna()  # noqa: PLR2004\n",
    "df = df.where(df[\"target\"] > -30).dropna()  # noqa: PLR2004"
   ]
  },
  {
   "cell_type": "markdown",
   "metadata": {},
   "source": [
    "### GNNExplainer"
   ]
  },
  {
   "cell_type": "code",
   "execution_count": 155,
   "metadata": {},
   "outputs": [],
   "source": [
    "def search_for_graph(smiles):\n",
    "    for batch in predict_dataloader:\n",
    "        curr_smiles = batch[0].smiles\n",
    "        if curr_smiles == smiles:\n",
    "            return batch[0]"
   ]
  },
  {
   "cell_type": "code",
   "execution_count": 217,
   "metadata": {},
   "outputs": [],
   "source": [
    "smiles = \"CC[n+]1ccn(C)c1.F[B-](F)(F)F\"\n",
    "data = search_for_graph(smiles)"
   ]
  },
  {
   "cell_type": "code",
   "execution_count": 218,
   "metadata": {},
   "outputs": [
    {
     "data": {
      "text/html": [
       "<pre style=\"white-space:pre;overflow-x:auto;line-height:normal;font-family:Menlo,'DejaVu Sans Mono',consolas,'Courier New',monospace\"></pre>\n"
      ],
      "text/plain": []
     },
     "metadata": {},
     "output_type": "display_data"
    },
    {
     "data": {
      "text/plain": [
       "\u001b[1;35mData\u001b[0m\u001b[1m(\u001b[0m\u001b[33mx\u001b[0m=\u001b[1m[\u001b[0m\u001b[1;36m13\u001b[0m, \u001b[1;36m9\u001b[0m\u001b[1m]\u001b[0m, \u001b[33medge_index\u001b[0m=\u001b[1m[\u001b[0m\u001b[1;36m2\u001b[0m, \u001b[1;36m24\u001b[0m\u001b[1m]\u001b[0m, \u001b[33medge_attr\u001b[0m=\u001b[1m[\u001b[0m\u001b[1;36m24\u001b[0m, \u001b[1;36m4\u001b[0m\u001b[1m]\u001b[0m, \u001b[33msmiles\u001b[0m=\u001b[32m'CC\u001b[0m\u001b[32m[\u001b[0m\u001b[32mn+\u001b[0m\u001b[32m]\u001b[0m\u001b[32m1ccn\u001b[0m\u001b[32m(\u001b[0m\u001b[32mC\u001b[0m\u001b[32m)\u001b[0m\u001b[32mc1.F\u001b[0m\u001b[32m[\u001b[0m\u001b[32mB-\u001b[0m\u001b[32m]\u001b[0m\u001b[32m(\u001b[0m\u001b[32mF\u001b[0m\u001b[32m)\u001b[0m\u001b[32m(\u001b[0m\u001b[32mF\u001b[0m\u001b[32m)\u001b[0m\u001b[32mF'\u001b[0m, \u001b[33my\u001b[0m=\u001b[1m[\u001b[0m\u001b[1;36m1\u001b[0m\u001b[1m]\u001b[0m, \u001b[33mpe\u001b[0m=\u001b[1m[\u001b[0m\u001b[1;36m13\u001b[0m, \u001b[1;36m30\u001b[0m\u001b[1m]\u001b[0m, \u001b[33mgf\u001b[0m=\u001b[1m[\u001b[0m\u001b[1;36m1\u001b[0m, \u001b[1;36m6\u001b[0m\u001b[1m]\u001b[0m\u001b[1m)\u001b[0m"
      ]
     },
     "execution_count": 218,
     "metadata": {},
     "output_type": "execute_result"
    }
   ],
   "source": [
    "data"
   ]
  },
  {
   "cell_type": "code",
   "execution_count": 158,
   "metadata": {},
   "outputs": [],
   "source": [
    "model = GNN_L.load_from_checkpoint(\"best_model_explainer.ckpt\")"
   ]
  },
  {
   "cell_type": "code",
   "execution_count": 219,
   "metadata": {},
   "outputs": [],
   "source": [
    "from torch_geometric.explain import Explainer, GNNExplainer\n",
    "\n",
    "explainer = Explainer(\n",
    "    model=model,\n",
    "    algorithm=GNNExplainer(epochs=200),\n",
    "    explanation_type='model',\n",
    "    node_mask_type='attributes',\n",
    "    edge_mask_type='object',\n",
    "    model_config=dict(\n",
    "        mode='regression',\n",
    "        task_level='graph',\n",
    "        return_type='raw',\n",
    "    ),\n",
    ")"
   ]
  },
  {
   "cell_type": "code",
   "execution_count": 174,
   "metadata": {},
   "outputs": [
    {
     "data": {
      "text/html": [
       "<pre style=\"white-space:pre;overflow-x:auto;line-height:normal;font-family:Menlo,'DejaVu Sans Mono',consolas,'Courier New',monospace\"></pre>\n"
      ],
      "text/plain": []
     },
     "metadata": {},
     "output_type": "display_data"
    },
    {
     "data": {
      "text/plain": [
       "\u001b[1;35mData\u001b[0m\u001b[1m(\u001b[0m\u001b[33mx\u001b[0m=\u001b[1m[\u001b[0m\u001b[1;36m10\u001b[0m, \u001b[1;36m9\u001b[0m\u001b[1m]\u001b[0m, \u001b[33medge_index\u001b[0m=\u001b[1m[\u001b[0m\u001b[1;36m2\u001b[0m, \u001b[1;36m18\u001b[0m\u001b[1m]\u001b[0m, \u001b[33medge_attr\u001b[0m=\u001b[1m[\u001b[0m\u001b[1;36m18\u001b[0m, \u001b[1;36m4\u001b[0m\u001b[1m]\u001b[0m, \u001b[33msmiles\u001b[0m=\u001b[32m'CCC\u001b[0m\u001b[32m[\u001b[0m\u001b[32mn+\u001b[0m\u001b[32m]\u001b[0m\u001b[32m1ccccc1.\u001b[0m\u001b[32m[\u001b[0m\u001b[32mBr-\u001b[0m\u001b[32m]\u001b[0m\u001b[32m'\u001b[0m, \u001b[33my\u001b[0m=\u001b[1m[\u001b[0m\u001b[1;36m1\u001b[0m\u001b[1m]\u001b[0m, \u001b[33mpe\u001b[0m=\u001b[1m[\u001b[0m\u001b[1;36m10\u001b[0m, \u001b[1;36m30\u001b[0m\u001b[1m]\u001b[0m, \u001b[33mgf\u001b[0m=\u001b[1m[\u001b[0m\u001b[1;36m1\u001b[0m, \u001b[1;36m6\u001b[0m\u001b[1m]\u001b[0m\u001b[1m)\u001b[0m"
      ]
     },
     "execution_count": 174,
     "metadata": {},
     "output_type": "execute_result"
    }
   ],
   "source": [
    "data"
   ]
  },
  {
   "cell_type": "code",
   "execution_count": 220,
   "metadata": {},
   "outputs": [],
   "source": [
    "additional_args = {\n",
    "    'pe': data.pe,\n",
    "    'edge_attr': data.edge_attr.float(),\n",
    "    'batch_index': data.batch,\n",
    "    'gf': data.gf.float()\n",
    "}\n",
    "explanation = explainer(x = data.x.float(),edge_index=data.edge_index, target=data.y, index=None, **additional_args)"
   ]
  },
  {
   "cell_type": "code",
   "execution_count": 176,
   "metadata": {},
   "outputs": [],
   "source": [
    "path = 'feature_importance.png'\n",
    "explanation.visualize_feature_importance(path)\n"
   ]
  },
  {
   "cell_type": "markdown",
   "metadata": {},
   "source": [
    "### Graph drawing"
   ]
  },
  {
   "cell_type": "code",
   "execution_count": 177,
   "metadata": {},
   "outputs": [],
   "source": [
    "import networkx as nx\n",
    "from rdkit import Chem\n",
    "from rdkit.Chem import rdmolops\n",
    "def smiles_to_networkx(smiles):\n",
    "    # Convert SMILES to an RDKit molecule object\n",
    "\n",
    "    mol = Chem.MolFromSmiles(smiles)\n",
    "\n",
    "    # Convert RDKit molecule to NetworkX graph\n",
    "    G = nx.Graph()\n",
    "\n",
    "    # Add nodes (atoms)\n",
    "    for atom in mol.GetAtoms():\n",
    "        G.add_node(atom.GetIdx(), element=atom.GetSymbol())\n",
    "\n",
    "    # Add edges (bonds)\n",
    "    for bond in mol.GetBonds():\n",
    "        G.add_edge(bond.GetBeginAtomIdx(), bond.GetEndAtomIdx(), bond_type=bond.GetBondType())\n",
    "\n",
    "    return G\n"
   ]
  },
  {
   "cell_type": "code",
   "execution_count": 221,
   "metadata": {},
   "outputs": [],
   "source": [
    "smiles = 'CC[n+]1ccn(C)c1.F[B-](F)(F)F'\n",
    "G = smiles_to_networkx(smiles)"
   ]
  },
  {
   "cell_type": "code",
   "execution_count": 222,
   "metadata": {},
   "outputs": [],
   "source": [
    "node_color = []\n",
    "for row in explanation.node_mask:\n",
    "    node_color.append(float(sum(row)))\n",
    "edge_color = []\n",
    "for i in range(0,len(explanation.edge_mask),2):\n",
    "    edge_color.append(float(explanation.edge_mask[i]) + float(explanation.edge_mask[i + 1]))"
   ]
  },
  {
   "cell_type": "code",
   "execution_count": 235,
   "metadata": {},
   "outputs": [
    {
     "data": {
      "text/html": [
       "<pre style=\"white-space:pre;overflow-x:auto;line-height:normal;font-family:Menlo,'DejaVu Sans Mono',consolas,'Courier New',monospace\"></pre>\n"
      ],
      "text/plain": []
     },
     "metadata": {},
     "output_type": "display_data"
    },
    {
     "data": {
      "image/png": "[encoded data removed]",
      "text/plain": [
       "\u001b[1m<\u001b[0m\u001b[1;95mFigure\u001b[0m\u001b[39m size 64\u001b[0m\u001b[1;36m0x480\u001b[0m\u001b[39m with \u001b[0m\u001b[1;36m1\u001b[0m\u001b[39m Axes\u001b[0m\u001b[1m>\u001b[0m"
      ]
     },
     "metadata": {},
     "output_type": "display_data"
    }
   ],
   "source": [
    "pos = nx.spring_layout(G)\n",
    "\n",
    "nx.draw(G, pos, node_color=node_color, edge_color=edge_color, node_size=700, cmap=plt.cm.Reds, edge_cmap= plt.cm.Reds)\n"
   ]
  },
  {
   "cell_type": "code",
   "execution_count": null,
   "metadata": {},
   "outputs": [],
   "source": [
    "df.loc[df[\"smiles\"]==\"CS(=O)(=O)[O-].c1c[nH+]c[nH]1\"]"
   ]
  }
 ],
 "metadata": {
  "kernelspec": {
   "display_name": ".venv",
   "language": "python",
   "name": "python3"
  },
  "language_info": {
   "codemirror_mode": {
    "name": "ipython",
    "version": 3
   },
   "file_extension": ".py",
   "mimetype": "text/x-python",
   "name": "python",
   "nbconvert_exporter": "python",
   "pygments_lexer": "ipython3",
   "version": "3.11.9"
  }
 },
 "nbformat": 4,
 "nbformat_minor": 2
}
