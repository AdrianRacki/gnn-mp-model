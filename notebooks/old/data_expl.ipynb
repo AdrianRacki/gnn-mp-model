{
 "cells": [
  {
   "cell_type": "code",
   "execution_count": 1,
   "metadata": {},
   "outputs": [],
   "source": [
    "import pandas as pd\n",
    "import numpy as np"
   ]
  },
  {
   "cell_type": "code",
   "execution_count": 2,
   "metadata": {},
   "outputs": [
    {
     "data": {
      "text/html": [
       "<pre style=\"white-space:pre;overflow-x:auto;line-height:normal;font-family:Menlo,'DejaVu Sans Mono',consolas,'Courier New',monospace\"><span style=\"color: #7fbfbf; text-decoration-color: #7fbfbf\">[07/22/24 13:09:54] </span><span style=\"color: #000080; text-decoration-color: #000080\">INFO    </span> Registered line magic <span style=\"color: #008000; text-decoration-color: #008000\">'%reload_kedro'</span>                                   <a href=\"file://c:\\Users\\01121272\\Desktop\\Projects\\gnn-mp-model\\.venv\\Lib\\site-packages\\kedro\\ipython\\__init__.py\" target=\"_blank\"><span style=\"color: #7f7f7f; text-decoration-color: #7f7f7f\">__init__.py</span></a><span style=\"color: #7f7f7f; text-decoration-color: #7f7f7f\">:</span><a href=\"file://c:\\Users\\01121272\\Desktop\\Projects\\gnn-mp-model\\.venv\\Lib\\site-packages\\kedro\\ipython\\__init__.py#58\" target=\"_blank\"><span style=\"color: #7f7f7f; text-decoration-color: #7f7f7f\">58</span></a>\n",
       "</pre>\n"
      ],
      "text/plain": [
       "\u001b[2;36m[07/22/24 13:09:54]\u001b[0m\u001b[2;36m \u001b[0m\u001b[34mINFO    \u001b[0m Registered line magic \u001b[32m'%reload_kedro'\u001b[0m                                   \u001b]8;id=44744;file://c:\\Users\\01121272\\Desktop\\Projects\\gnn-mp-model\\.venv\\Lib\\site-packages\\kedro\\ipython\\__init__.py\u001b\\\u001b[2m__init__.py\u001b[0m\u001b]8;;\u001b\\\u001b[2m:\u001b[0m\u001b]8;id=925478;file://c:\\Users\\01121272\\Desktop\\Projects\\gnn-mp-model\\.venv\\Lib\\site-packages\\kedro\\ipython\\__init__.py#58\u001b\\\u001b[2m58\u001b[0m\u001b]8;;\u001b\\\n"
      ]
     },
     "metadata": {},
     "output_type": "display_data"
    },
    {
     "data": {
      "text/html": [
       "<pre style=\"white-space:pre;overflow-x:auto;line-height:normal;font-family:Menlo,'DejaVu Sans Mono',consolas,'Courier New',monospace\"><span style=\"color: #7fbfbf; text-decoration-color: #7fbfbf\">                    </span><span style=\"color: #000080; text-decoration-color: #000080\">INFO    </span> Registered line magic <span style=\"color: #008000; text-decoration-color: #008000\">'%load_node'</span>                                      <a href=\"file://c:\\Users\\01121272\\Desktop\\Projects\\gnn-mp-model\\.venv\\Lib\\site-packages\\kedro\\ipython\\__init__.py\" target=\"_blank\"><span style=\"color: #7f7f7f; text-decoration-color: #7f7f7f\">__init__.py</span></a><span style=\"color: #7f7f7f; text-decoration-color: #7f7f7f\">:</span><a href=\"file://c:\\Users\\01121272\\Desktop\\Projects\\gnn-mp-model\\.venv\\Lib\\site-packages\\kedro\\ipython\\__init__.py#60\" target=\"_blank\"><span style=\"color: #7f7f7f; text-decoration-color: #7f7f7f\">60</span></a>\n",
       "</pre>\n"
      ],
      "text/plain": [
       "\u001b[2;36m                   \u001b[0m\u001b[2;36m \u001b[0m\u001b[34mINFO    \u001b[0m Registered line magic \u001b[32m'%load_node'\u001b[0m                                      \u001b]8;id=454923;file://c:\\Users\\01121272\\Desktop\\Projects\\gnn-mp-model\\.venv\\Lib\\site-packages\\kedro\\ipython\\__init__.py\u001b\\\u001b[2m__init__.py\u001b[0m\u001b]8;;\u001b\\\u001b[2m:\u001b[0m\u001b]8;id=476069;file://c:\\Users\\01121272\\Desktop\\Projects\\gnn-mp-model\\.venv\\Lib\\site-packages\\kedro\\ipython\\__init__.py#60\u001b\\\u001b[2m60\u001b[0m\u001b]8;;\u001b\\\n"
      ]
     },
     "metadata": {},
     "output_type": "display_data"
    },
    {
     "data": {
      "text/html": [
       "<pre style=\"white-space:pre;overflow-x:auto;line-height:normal;font-family:Menlo,'DejaVu Sans Mono',consolas,'Courier New',monospace\"><span style=\"color: #7fbfbf; text-decoration-color: #7fbfbf\">                    </span><span style=\"color: #000080; text-decoration-color: #000080\">INFO    </span> Resolved project path as:                                              <a href=\"file://c:\\Users\\01121272\\Desktop\\Projects\\gnn-mp-model\\.venv\\Lib\\site-packages\\kedro\\ipython\\__init__.py\" target=\"_blank\"><span style=\"color: #7f7f7f; text-decoration-color: #7f7f7f\">__init__.py</span></a><span style=\"color: #7f7f7f; text-decoration-color: #7f7f7f\">:</span><a href=\"file://c:\\Users\\01121272\\Desktop\\Projects\\gnn-mp-model\\.venv\\Lib\\site-packages\\kedro\\ipython\\__init__.py#171\" target=\"_blank\"><span style=\"color: #7f7f7f; text-decoration-color: #7f7f7f\">171</span></a>\n",
       "<span style=\"color: #7fbfbf; text-decoration-color: #7fbfbf\">                    </span>         c:\\Users\\<span style=\"color: #008080; text-decoration-color: #008080; font-weight: bold\">01121272</span>\\Desktop\\Projects\\gnn-mp-model.                       <span style=\"color: #7f7f7f; text-decoration-color: #7f7f7f\">               </span>\n",
       "<span style=\"color: #7fbfbf; text-decoration-color: #7fbfbf\">                    </span>         To set a different path, run <span style=\"color: #008000; text-decoration-color: #008000\">'%reload_kedro &lt;project_root&gt;'</span>            <span style=\"color: #7f7f7f; text-decoration-color: #7f7f7f\">               </span>\n",
       "</pre>\n"
      ],
      "text/plain": [
       "\u001b[2;36m                   \u001b[0m\u001b[2;36m \u001b[0m\u001b[34mINFO    \u001b[0m Resolved project path as:                                              \u001b]8;id=374725;file://c:\\Users\\01121272\\Desktop\\Projects\\gnn-mp-model\\.venv\\Lib\\site-packages\\kedro\\ipython\\__init__.py\u001b\\\u001b[2m__init__.py\u001b[0m\u001b]8;;\u001b\\\u001b[2m:\u001b[0m\u001b]8;id=346522;file://c:\\Users\\01121272\\Desktop\\Projects\\gnn-mp-model\\.venv\\Lib\\site-packages\\kedro\\ipython\\__init__.py#171\u001b\\\u001b[2m171\u001b[0m\u001b]8;;\u001b\\\n",
       "\u001b[2;36m                    \u001b[0m         c:\\Users\\\u001b[1;36m01121272\u001b[0m\\Desktop\\Projects\\gnn-mp-model.                       \u001b[2m               \u001b[0m\n",
       "\u001b[2;36m                    \u001b[0m         To set a different path, run \u001b[32m'%reload_kedro \u001b[0m\u001b[32m<\u001b[0m\u001b[32mproject_root\u001b[0m\u001b[32m>\u001b[0m\u001b[32m'\u001b[0m            \u001b[2m               \u001b[0m\n"
      ]
     },
     "metadata": {},
     "output_type": "display_data"
    },
    {
     "data": {
      "text/html": [
       "<pre style=\"white-space:pre;overflow-x:auto;line-height:normal;font-family:Menlo,'DejaVu Sans Mono',consolas,'Courier New',monospace\"><span style=\"color: #7fbfbf; text-decoration-color: #7fbfbf\">[07/22/24 13:10:00] </span><span style=\"color: #000080; text-decoration-color: #000080\">INFO    </span> Registering new custom resolver: <span style=\"color: #008000; text-decoration-color: #008000\">'km.random_name'</span>                    <a href=\"file://c:\\Users\\01121272\\Desktop\\Projects\\gnn-mp-model\\.venv\\Lib\\site-packages\\kedro_mlflow\\framework\\hooks\\mlflow_hook.py\" target=\"_blank\"><span style=\"color: #7f7f7f; text-decoration-color: #7f7f7f\">mlflow_hook.py</span></a><span style=\"color: #7f7f7f; text-decoration-color: #7f7f7f\">:</span><a href=\"file://c:\\Users\\01121272\\Desktop\\Projects\\gnn-mp-model\\.venv\\Lib\\site-packages\\kedro_mlflow\\framework\\hooks\\mlflow_hook.py#65\" target=\"_blank\"><span style=\"color: #7f7f7f; text-decoration-color: #7f7f7f\">65</span></a>\n",
       "</pre>\n"
      ],
      "text/plain": [
       "\u001b[2;36m[07/22/24 13:10:00]\u001b[0m\u001b[2;36m \u001b[0m\u001b[34mINFO    \u001b[0m Registering new custom resolver: \u001b[32m'km.random_name'\u001b[0m                    \u001b]8;id=908099;file://c:\\Users\\01121272\\Desktop\\Projects\\gnn-mp-model\\.venv\\Lib\\site-packages\\kedro_mlflow\\framework\\hooks\\mlflow_hook.py\u001b\\\u001b[2mmlflow_hook.py\u001b[0m\u001b]8;;\u001b\\\u001b[2m:\u001b[0m\u001b]8;id=758502;file://c:\\Users\\01121272\\Desktop\\Projects\\gnn-mp-model\\.venv\\Lib\\site-packages\\kedro_mlflow\\framework\\hooks\\mlflow_hook.py#65\u001b\\\u001b[2m65\u001b[0m\u001b]8;;\u001b\\\n"
      ]
     },
     "metadata": {},
     "output_type": "display_data"
    },
    {
     "data": {
      "text/html": [
       "<pre style=\"white-space:pre;overflow-x:auto;line-height:normal;font-family:Menlo,'DejaVu Sans Mono',consolas,'Courier New',monospace\"><span style=\"color: #7fbfbf; text-decoration-color: #7fbfbf\">                    </span><span style=\"color: #000080; text-decoration-color: #000080\">INFO    </span> The <span style=\"color: #008000; text-decoration-color: #008000\">'tracking_uri'</span> key in mlflow.yml is relative            <a href=\"file://c:\\Users\\01121272\\Desktop\\Projects\\gnn-mp-model\\.venv\\Lib\\site-packages\\kedro_mlflow\\config\\kedro_mlflow_config.py\" target=\"_blank\"><span style=\"color: #7f7f7f; text-decoration-color: #7f7f7f\">kedro_mlflow_config.py</span></a><span style=\"color: #7f7f7f; text-decoration-color: #7f7f7f\">:</span><a href=\"file://c:\\Users\\01121272\\Desktop\\Projects\\gnn-mp-model\\.venv\\Lib\\site-packages\\kedro_mlflow\\config\\kedro_mlflow_config.py#260\" target=\"_blank\"><span style=\"color: #7f7f7f; text-decoration-color: #7f7f7f\">260</span></a>\n",
       "<span style=\"color: #7fbfbf; text-decoration-color: #7fbfbf\">                    </span>         <span style=\"font-weight: bold\">(</span><span style=\"color: #008000; text-decoration-color: #008000\">'server.mlflow_(tracking|registry)_uri = mlruns'</span><span style=\"font-weight: bold\">)</span>. It is   <span style=\"color: #7f7f7f; text-decoration-color: #7f7f7f\">                          </span>\n",
       "<span style=\"color: #7fbfbf; text-decoration-color: #7fbfbf\">                    </span>         converted to a valid uri:                                   <span style=\"color: #7f7f7f; text-decoration-color: #7f7f7f\">                          </span>\n",
       "<span style=\"color: #7fbfbf; text-decoration-color: #7fbfbf\">                    </span>         <span style=\"color: #008000; text-decoration-color: #008000\">'file:///C:/Users/01121272/Desktop/Projects/gnn-mp-model/ml</span> <span style=\"color: #7f7f7f; text-decoration-color: #7f7f7f\">                          </span>\n",
       "<span style=\"color: #7fbfbf; text-decoration-color: #7fbfbf\">                    </span>         <span style=\"color: #008000; text-decoration-color: #008000\">runs'</span>                                                       <span style=\"color: #7f7f7f; text-decoration-color: #7f7f7f\">                          </span>\n",
       "</pre>\n"
      ],
      "text/plain": [
       "\u001b[2;36m                   \u001b[0m\u001b[2;36m \u001b[0m\u001b[34mINFO    \u001b[0m The \u001b[32m'tracking_uri'\u001b[0m key in mlflow.yml is relative            \u001b]8;id=943278;file://c:\\Users\\01121272\\Desktop\\Projects\\gnn-mp-model\\.venv\\Lib\\site-packages\\kedro_mlflow\\config\\kedro_mlflow_config.py\u001b\\\u001b[2mkedro_mlflow_config.py\u001b[0m\u001b]8;;\u001b\\\u001b[2m:\u001b[0m\u001b]8;id=4882;file://c:\\Users\\01121272\\Desktop\\Projects\\gnn-mp-model\\.venv\\Lib\\site-packages\\kedro_mlflow\\config\\kedro_mlflow_config.py#260\u001b\\\u001b[2m260\u001b[0m\u001b]8;;\u001b\\\n",
       "\u001b[2;36m                    \u001b[0m         \u001b[1m(\u001b[0m\u001b[32m'server.mlflow_\u001b[0m\u001b[32m(\u001b[0m\u001b[32mtracking|registry\u001b[0m\u001b[32m)\u001b[0m\u001b[32m_uri = mlruns'\u001b[0m\u001b[1m)\u001b[0m. It is   \u001b[2m                          \u001b[0m\n",
       "\u001b[2;36m                    \u001b[0m         converted to a valid uri:                                   \u001b[2m                          \u001b[0m\n",
       "\u001b[2;36m                    \u001b[0m         \u001b[32m'file:///C:/Users/01121272/Desktop/Projects/gnn-mp-model/ml\u001b[0m \u001b[2m                          \u001b[0m\n",
       "\u001b[2;36m                    \u001b[0m         \u001b[32mruns'\u001b[0m                                                       \u001b[2m                          \u001b[0m\n"
      ]
     },
     "metadata": {},
     "output_type": "display_data"
    },
    {
     "data": {
      "text/html": [
       "<pre style=\"white-space:pre;overflow-x:auto;line-height:normal;font-family:Menlo,'DejaVu Sans Mono',consolas,'Courier New',monospace\"><span style=\"color: #7fbfbf; text-decoration-color: #7fbfbf\">[07/22/24 13:10:12] </span><span style=\"color: #000080; text-decoration-color: #000080\">INFO    </span> Kedro project GNN_MP_model                                             <a href=\"file://c:\\Users\\01121272\\Desktop\\Projects\\gnn-mp-model\\.venv\\Lib\\site-packages\\kedro\\ipython\\__init__.py\" target=\"_blank\"><span style=\"color: #7f7f7f; text-decoration-color: #7f7f7f\">__init__.py</span></a><span style=\"color: #7f7f7f; text-decoration-color: #7f7f7f\">:</span><a href=\"file://c:\\Users\\01121272\\Desktop\\Projects\\gnn-mp-model\\.venv\\Lib\\site-packages\\kedro\\ipython\\__init__.py#141\" target=\"_blank\"><span style=\"color: #7f7f7f; text-decoration-color: #7f7f7f\">141</span></a>\n",
       "</pre>\n"
      ],
      "text/plain": [
       "\u001b[2;36m[07/22/24 13:10:12]\u001b[0m\u001b[2;36m \u001b[0m\u001b[34mINFO    \u001b[0m Kedro project GNN_MP_model                                             \u001b]8;id=898065;file://c:\\Users\\01121272\\Desktop\\Projects\\gnn-mp-model\\.venv\\Lib\\site-packages\\kedro\\ipython\\__init__.py\u001b\\\u001b[2m__init__.py\u001b[0m\u001b]8;;\u001b\\\u001b[2m:\u001b[0m\u001b]8;id=750368;file://c:\\Users\\01121272\\Desktop\\Projects\\gnn-mp-model\\.venv\\Lib\\site-packages\\kedro\\ipython\\__init__.py#141\u001b\\\u001b[2m141\u001b[0m\u001b]8;;\u001b\\\n"
      ]
     },
     "metadata": {},
     "output_type": "display_data"
    },
    {
     "data": {
      "text/html": [
       "<pre style=\"white-space:pre;overflow-x:auto;line-height:normal;font-family:Menlo,'DejaVu Sans Mono',consolas,'Courier New',monospace\"><span style=\"color: #7fbfbf; text-decoration-color: #7fbfbf\">                    </span><span style=\"color: #000080; text-decoration-color: #000080\">INFO    </span> Defined global variable <span style=\"color: #008000; text-decoration-color: #008000\">'context'</span>, <span style=\"color: #008000; text-decoration-color: #008000\">'session'</span>, <span style=\"color: #008000; text-decoration-color: #008000\">'catalog'</span> and            <a href=\"file://c:\\Users\\01121272\\Desktop\\Projects\\gnn-mp-model\\.venv\\Lib\\site-packages\\kedro\\ipython\\__init__.py\" target=\"_blank\"><span style=\"color: #7f7f7f; text-decoration-color: #7f7f7f\">__init__.py</span></a><span style=\"color: #7f7f7f; text-decoration-color: #7f7f7f\">:</span><a href=\"file://c:\\Users\\01121272\\Desktop\\Projects\\gnn-mp-model\\.venv\\Lib\\site-packages\\kedro\\ipython\\__init__.py#142\" target=\"_blank\"><span style=\"color: #7f7f7f; text-decoration-color: #7f7f7f\">142</span></a>\n",
       "<span style=\"color: #7fbfbf; text-decoration-color: #7fbfbf\">                    </span>         <span style=\"color: #008000; text-decoration-color: #008000\">'pipelines'</span>                                                            <span style=\"color: #7f7f7f; text-decoration-color: #7f7f7f\">               </span>\n",
       "</pre>\n"
      ],
      "text/plain": [
       "\u001b[2;36m                   \u001b[0m\u001b[2;36m \u001b[0m\u001b[34mINFO    \u001b[0m Defined global variable \u001b[32m'context'\u001b[0m, \u001b[32m'session'\u001b[0m, \u001b[32m'catalog'\u001b[0m and            \u001b]8;id=928077;file://c:\\Users\\01121272\\Desktop\\Projects\\gnn-mp-model\\.venv\\Lib\\site-packages\\kedro\\ipython\\__init__.py\u001b\\\u001b[2m__init__.py\u001b[0m\u001b]8;;\u001b\\\u001b[2m:\u001b[0m\u001b]8;id=562093;file://c:\\Users\\01121272\\Desktop\\Projects\\gnn-mp-model\\.venv\\Lib\\site-packages\\kedro\\ipython\\__init__.py#142\u001b\\\u001b[2m142\u001b[0m\u001b]8;;\u001b\\\n",
       "\u001b[2;36m                    \u001b[0m         \u001b[32m'pipelines'\u001b[0m                                                            \u001b[2m               \u001b[0m\n"
      ]
     },
     "metadata": {},
     "output_type": "display_data"
    },
    {
     "data": {
      "text/html": [
       "<pre style=\"white-space:pre;overflow-x:auto;line-height:normal;font-family:Menlo,'DejaVu Sans Mono',consolas,'Courier New',monospace\"><span style=\"color: #7fbfbf; text-decoration-color: #7fbfbf\">[07/22/24 13:10:15] </span><span style=\"color: #000080; text-decoration-color: #000080\">INFO    </span> Registered line magic <span style=\"color: #008000; text-decoration-color: #008000\">'run_viz'</span>                                        <a href=\"file://c:\\Users\\01121272\\Desktop\\Projects\\gnn-mp-model\\.venv\\Lib\\site-packages\\kedro\\ipython\\__init__.py\" target=\"_blank\"><span style=\"color: #7f7f7f; text-decoration-color: #7f7f7f\">__init__.py</span></a><span style=\"color: #7f7f7f; text-decoration-color: #7f7f7f\">:</span><a href=\"file://c:\\Users\\01121272\\Desktop\\Projects\\gnn-mp-model\\.venv\\Lib\\site-packages\\kedro\\ipython\\__init__.py#148\" target=\"_blank\"><span style=\"color: #7f7f7f; text-decoration-color: #7f7f7f\">148</span></a>\n",
       "</pre>\n"
      ],
      "text/plain": [
       "\u001b[2;36m[07/22/24 13:10:15]\u001b[0m\u001b[2;36m \u001b[0m\u001b[34mINFO    \u001b[0m Registered line magic \u001b[32m'run_viz'\u001b[0m                                        \u001b]8;id=787381;file://c:\\Users\\01121272\\Desktop\\Projects\\gnn-mp-model\\.venv\\Lib\\site-packages\\kedro\\ipython\\__init__.py\u001b\\\u001b[2m__init__.py\u001b[0m\u001b]8;;\u001b\\\u001b[2m:\u001b[0m\u001b]8;id=245592;file://c:\\Users\\01121272\\Desktop\\Projects\\gnn-mp-model\\.venv\\Lib\\site-packages\\kedro\\ipython\\__init__.py#148\u001b\\\u001b[2m148\u001b[0m\u001b]8;;\u001b\\\n"
      ]
     },
     "metadata": {},
     "output_type": "display_data"
    }
   ],
   "source": [
    "%load_ext kedro.ipython"
   ]
  },
  {
   "cell_type": "code",
   "execution_count": 3,
   "metadata": {},
   "outputs": [
    {
     "data": {
      "text/html": [
       "<pre style=\"white-space:pre;overflow-x:auto;line-height:normal;font-family:Menlo,'DejaVu Sans Mono',consolas,'Courier New',monospace\"><span style=\"color: #7fbfbf; text-decoration-color: #7fbfbf\">                    </span><span style=\"color: #000080; text-decoration-color: #000080\">INFO    </span> Loading data from <span style=\"color: #ff8700; text-decoration-color: #ff8700\">kp_clean_database</span> <span style=\"font-weight: bold\">(</span>CSVDataset<span style=\"font-weight: bold\">)</span><span style=\"color: #808000; text-decoration-color: #808000\">...</span>                <a href=\"file://c:\\Users\\01121272\\Desktop\\Projects\\gnn-mp-model\\.venv\\Lib\\site-packages\\kedro\\io\\data_catalog.py\" target=\"_blank\"><span style=\"color: #7f7f7f; text-decoration-color: #7f7f7f\">data_catalog.py</span></a><span style=\"color: #7f7f7f; text-decoration-color: #7f7f7f\">:</span><a href=\"file://c:\\Users\\01121272\\Desktop\\Projects\\gnn-mp-model\\.venv\\Lib\\site-packages\\kedro\\io\\data_catalog.py#508\" target=\"_blank\"><span style=\"color: #7f7f7f; text-decoration-color: #7f7f7f\">508</span></a>\n",
       "</pre>\n"
      ],
      "text/plain": [
       "\u001b[2;36m                   \u001b[0m\u001b[2;36m \u001b[0m\u001b[34mINFO    \u001b[0m Loading data from \u001b[38;5;208mkp_clean_database\u001b[0m \u001b[1m(\u001b[0mCSVDataset\u001b[1m)\u001b[0m\u001b[33m...\u001b[0m                \u001b]8;id=108367;file://c:\\Users\\01121272\\Desktop\\Projects\\gnn-mp-model\\.venv\\Lib\\site-packages\\kedro\\io\\data_catalog.py\u001b\\\u001b[2mdata_catalog.py\u001b[0m\u001b]8;;\u001b\\\u001b[2m:\u001b[0m\u001b]8;id=99498;file://c:\\Users\\01121272\\Desktop\\Projects\\gnn-mp-model\\.venv\\Lib\\site-packages\\kedro\\io\\data_catalog.py#508\u001b\\\u001b[2m508\u001b[0m\u001b]8;;\u001b\\\n"
      ]
     },
     "metadata": {},
     "output_type": "display_data"
    }
   ],
   "source": [
    "kp_df = catalog.load(\"kp_clean_database\")\n"
   ]
  },
  {
   "cell_type": "code",
   "execution_count": 4,
   "metadata": {},
   "outputs": [
    {
     "data": {
      "text/html": [
       "<pre style=\"white-space:pre;overflow-x:auto;line-height:normal;font-family:Menlo,'DejaVu Sans Mono',consolas,'Courier New',monospace\"></pre>\n"
      ],
      "text/plain": []
     },
     "metadata": {},
     "output_type": "display_data"
    },
    {
     "data": {
      "text/html": [
       "<div>\n",
       "<style scoped>\n",
       "    .dataframe tbody tr th:only-of-type {\n",
       "        vertical-align: middle;\n",
       "    }\n",
       "\n",
       "    .dataframe tbody tr th {\n",
       "        vertical-align: top;\n",
       "    }\n",
       "\n",
       "    .dataframe thead th {\n",
       "        text-align: right;\n",
       "    }\n",
       "</style>\n",
       "<table border=\"1\" class=\"dataframe\">\n",
       "  <thead>\n",
       "    <tr style=\"text-align: right;\">\n",
       "      <th></th>\n",
       "      <th>Unnamed: 0</th>\n",
       "      <th>MP</th>\n",
       "      <th>smiles</th>\n",
       "    </tr>\n",
       "  </thead>\n",
       "  <tbody>\n",
       "    <tr>\n",
       "      <th>0</th>\n",
       "      <td>0</td>\n",
       "      <td>0.252916</td>\n",
       "      <td>CCCCCCCCCCCCCC[N+](C)(C)Cc1ccccc1.COc1cc(ccc1O...</td>\n",
       "    </tr>\n",
       "    <tr>\n",
       "      <th>1</th>\n",
       "      <td>1</td>\n",
       "      <td>0.106805</td>\n",
       "      <td>C[N+](C)(C)C.CC(C)[C@H](N)C([O-])=O</td>\n",
       "    </tr>\n",
       "    <tr>\n",
       "      <th>2</th>\n",
       "      <td>2</td>\n",
       "      <td>-0.193424</td>\n",
       "      <td>CCCC[N+](CCCC)(CCCC)CCCC.CC(C)[C@H](N)C([O-])=O</td>\n",
       "    </tr>\n",
       "    <tr>\n",
       "      <th>3</th>\n",
       "      <td>3</td>\n",
       "      <td>-0.179413</td>\n",
       "      <td>CCCC[P+](CCCC)(CCCC)CCCC.CC(C)[C@H](N)C([O-])=O</td>\n",
       "    </tr>\n",
       "    <tr>\n",
       "      <th>4</th>\n",
       "      <td>4</td>\n",
       "      <td>-0.373561</td>\n",
       "      <td>CCCCC[N+](CCCCC)(CCCCC)CCCCC.FC(F)(F)C(=O)[N-]...</td>\n",
       "    </tr>\n",
       "    <tr>\n",
       "      <th>...</th>\n",
       "      <td>...</td>\n",
       "      <td>...</td>\n",
       "      <td>...</td>\n",
       "    </tr>\n",
       "    <tr>\n",
       "      <th>894</th>\n",
       "      <td>948</td>\n",
       "      <td>-0.994034</td>\n",
       "      <td>CCCC[NH3+].CCCCCCCC([O-])=O</td>\n",
       "    </tr>\n",
       "    <tr>\n",
       "      <th>895</th>\n",
       "      <td>949</td>\n",
       "      <td>-0.033302</td>\n",
       "      <td>[NH3+]CCO.CCCCCCCC([O-])=O</td>\n",
       "    </tr>\n",
       "    <tr>\n",
       "      <th>896</th>\n",
       "      <td>950</td>\n",
       "      <td>-1.494415</td>\n",
       "      <td>C1CC[NH2+]C1.CCCCCCCC([O-])=O</td>\n",
       "    </tr>\n",
       "    <tr>\n",
       "      <th>897</th>\n",
       "      <td>951</td>\n",
       "      <td>0.817346</td>\n",
       "      <td>[NH3+]CCO.CCCCCCCCCCCCCCCCCC([O-])=O</td>\n",
       "    </tr>\n",
       "    <tr>\n",
       "      <th>898</th>\n",
       "      <td>952</td>\n",
       "      <td>0.477087</td>\n",
       "      <td>OCC[NH2+]CCO.CCCCCCCCCCCCCCCCCC([O-])=O</td>\n",
       "    </tr>\n",
       "  </tbody>\n",
       "</table>\n",
       "<p>899 rows × 3 columns</p>\n",
       "</div>"
      ],
      "text/plain": [
       "\n",
       "     Unnamed: \u001b[1;36m0\u001b[0m        MP                                             smiles\n",
       "\u001b[1;36m0\u001b[0m             \u001b[1;36m0\u001b[0m  \u001b[1;36m0.252916\u001b[0m  CCCCCCCCCCCCCC\u001b[1m[\u001b[0mN+\u001b[1m]\u001b[0m\u001b[1m(\u001b[0mC\u001b[1m)\u001b[0m\u001b[1m(\u001b[0mC\u001b[1m)\u001b[0m\u001b[1;35mCc1ccccc1.COc1cc\u001b[0m\u001b[1m(\u001b[0mccc1O\u001b[33m...\u001b[0m\n",
       "\u001b[1;36m1\u001b[0m             \u001b[1;36m1\u001b[0m  \u001b[1;36m0.106805\u001b[0m                C\u001b[1m[\u001b[0mN+\u001b[1m]\u001b[0m\u001b[1m(\u001b[0mC\u001b[1m)\u001b[0m\u001b[1m(\u001b[0mC\u001b[1m)\u001b[0m\u001b[1;35mC.CC\u001b[0m\u001b[1m(\u001b[0mC\u001b[1m)\u001b[0m\u001b[1m[\u001b[0mC@H\u001b[1m]\u001b[0m\u001b[1m(\u001b[0mN\u001b[1m)\u001b[0m\u001b[1;35mC\u001b[0m\u001b[1m(\u001b[0m\u001b[1m[\u001b[0mO-\u001b[1m]\u001b[0m\u001b[1m)\u001b[0m=O\n",
       "\u001b[1;36m2\u001b[0m             \u001b[1;36m2\u001b[0m \u001b[1;36m-0.193424\u001b[0m    CCCC\u001b[1m[\u001b[0mN+\u001b[1m]\u001b[0m\u001b[1m(\u001b[0mCCCC\u001b[1m)\u001b[0m\u001b[1m(\u001b[0mCCCC\u001b[1m)\u001b[0m\u001b[1;35mCCCC.CC\u001b[0m\u001b[1m(\u001b[0mC\u001b[1m)\u001b[0m\u001b[1m[\u001b[0mC@H\u001b[1m]\u001b[0m\u001b[1m(\u001b[0mN\u001b[1m)\u001b[0m\u001b[1;35mC\u001b[0m\u001b[1m(\u001b[0m\u001b[1m[\u001b[0mO-\u001b[1m]\u001b[0m\u001b[1m)\u001b[0m=O\n",
       "\u001b[1;36m3\u001b[0m             \u001b[1;36m3\u001b[0m \u001b[1;36m-0.179413\u001b[0m    CCCC\u001b[1m[\u001b[0mP+\u001b[1m]\u001b[0m\u001b[1m(\u001b[0mCCCC\u001b[1m)\u001b[0m\u001b[1m(\u001b[0mCCCC\u001b[1m)\u001b[0m\u001b[1;35mCCCC.CC\u001b[0m\u001b[1m(\u001b[0mC\u001b[1m)\u001b[0m\u001b[1m[\u001b[0mC@H\u001b[1m]\u001b[0m\u001b[1m(\u001b[0mN\u001b[1m)\u001b[0m\u001b[1;35mC\u001b[0m\u001b[1m(\u001b[0m\u001b[1m[\u001b[0mO-\u001b[1m]\u001b[0m\u001b[1m)\u001b[0m=O\n",
       "\u001b[1;36m4\u001b[0m             \u001b[1;36m4\u001b[0m \u001b[1;36m-0.373561\u001b[0m  CCCCC\u001b[1m[\u001b[0mN+\u001b[1m]\u001b[0m\u001b[1m(\u001b[0mCCCCC\u001b[1m)\u001b[0m\u001b[1m(\u001b[0mCCCCC\u001b[1m)\u001b[0m\u001b[1;35mCCCCC.FC\u001b[0m\u001b[1m(\u001b[0mF\u001b[1m)\u001b[0m\u001b[1m(\u001b[0mF\u001b[1m)\u001b[0m\u001b[1;35mC\u001b[0m\u001b[1m(\u001b[0m=O\u001b[1m)\u001b[0m\u001b[1m[\u001b[0mN-\u001b[1m]\u001b[0m\u001b[33m...\u001b[0m\n",
       "..          \u001b[33m...\u001b[0m       \u001b[33m...\u001b[0m                                                \u001b[33m...\u001b[0m\n",
       "\u001b[1;36m894\u001b[0m         \u001b[1;36m948\u001b[0m \u001b[1;36m-0.994034\u001b[0m                        CCCC\u001b[1m[\u001b[0mNH3+\u001b[1m]\u001b[0m\u001b[1;35m.CCCCCCCC\u001b[0m\u001b[1m(\u001b[0m\u001b[1m[\u001b[0mO-\u001b[1m]\u001b[0m\u001b[1m)\u001b[0m=O\n",
       "\u001b[1;36m895\u001b[0m         \u001b[1;36m949\u001b[0m \u001b[1;36m-0.033302\u001b[0m                         \u001b[1m[\u001b[0mNH3+\u001b[1m]\u001b[0m\u001b[1;35mCCO.CCCCCCCC\u001b[0m\u001b[1m(\u001b[0m\u001b[1m[\u001b[0mO-\u001b[1m]\u001b[0m\u001b[1m)\u001b[0m=O\n",
       "\u001b[1;36m896\u001b[0m         \u001b[1;36m950\u001b[0m \u001b[1;36m-1.494415\u001b[0m                      C1CC\u001b[1m[\u001b[0mNH2+\u001b[1m]\u001b[0m\u001b[1;35mC1.CCCCCCCC\u001b[0m\u001b[1m(\u001b[0m\u001b[1m[\u001b[0mO-\u001b[1m]\u001b[0m\u001b[1m)\u001b[0m=O\n",
       "\u001b[1;36m897\u001b[0m         \u001b[1;36m951\u001b[0m  \u001b[1;36m0.817346\u001b[0m               \u001b[1m[\u001b[0mNH3+\u001b[1m]\u001b[0m\u001b[1;35mCCO.CCCCCCCCCCCCCCCCCC\u001b[0m\u001b[1m(\u001b[0m\u001b[1m[\u001b[0mO-\u001b[1m]\u001b[0m\u001b[1m)\u001b[0m=O\n",
       "\u001b[1;36m898\u001b[0m         \u001b[1;36m952\u001b[0m  \u001b[1;36m0.477087\u001b[0m            OCC\u001b[1m[\u001b[0mNH2+\u001b[1m]\u001b[0m\u001b[1;35mCCO.CCCCCCCCCCCCCCCCCC\u001b[0m\u001b[1m(\u001b[0m\u001b[1m[\u001b[0mO-\u001b[1m]\u001b[0m\u001b[1m)\u001b[0m=O\n",
       "\n",
       "\u001b[1m[\u001b[0m\u001b[1;36m899\u001b[0m rows x \u001b[1;36m3\u001b[0m columns\u001b[1m]\u001b[0m"
      ]
     },
     "execution_count": 4,
     "metadata": {},
     "output_type": "execute_result"
    }
   ],
   "source": [
    "kp_df"
   ]
  },
  {
   "cell_type": "code",
   "execution_count": 5,
   "metadata": {},
   "outputs": [
    {
     "data": {
      "text/html": [
       "<pre style=\"white-space:pre;overflow-x:auto;line-height:normal;font-family:Menlo,'DejaVu Sans Mono',consolas,'Courier New',monospace\"><span style=\"color: #800000; text-decoration-color: #800000\">╭─────────────────────────────── </span><span style=\"color: #800000; text-decoration-color: #800000; font-weight: bold\">Traceback </span><span style=\"color: #bf7f7f; text-decoration-color: #bf7f7f; font-weight: bold\">(most recent call last)</span><span style=\"color: #800000; text-decoration-color: #800000\"> ────────────────────────────────╮</span>\n",
       "<span style=\"color: #800000; text-decoration-color: #800000\">│</span> in <span style=\"color: #00ff00; text-decoration-color: #00ff00\">&lt;module&gt;</span>:<span style=\"color: #0000ff; text-decoration-color: #0000ff\">1</span>                                                                                    <span style=\"color: #800000; text-decoration-color: #800000\">│</span>\n",
       "<span style=\"color: #800000; text-decoration-color: #800000\">│</span>                                                                                                  <span style=\"color: #800000; text-decoration-color: #800000\">│</span>\n",
       "<span style=\"color: #800000; text-decoration-color: #800000\">│</span> <span style=\"color: #800000; text-decoration-color: #800000\">❱ </span>1 codes                                                                                        <span style=\"color: #800000; text-decoration-color: #800000\">│</span>\n",
       "<span style=\"color: #800000; text-decoration-color: #800000\">│</span>   <span style=\"color: #7f7f7f; text-decoration-color: #7f7f7f\">2 </span>                                                                                             <span style=\"color: #800000; text-decoration-color: #800000\">│</span>\n",
       "<span style=\"color: #800000; text-decoration-color: #800000\">╰──────────────────────────────────────────────────────────────────────────────────────────────────╯</span>\n",
       "<span style=\"color: #ff0000; text-decoration-color: #ff0000; font-weight: bold\">NameError: </span>name <span style=\"color: #008000; text-decoration-color: #008000\">'codes'</span> is not defined\n",
       "</pre>\n"
      ],
      "text/plain": [
       "\u001b[31m╭─\u001b[0m\u001b[31m──────────────────────────────\u001b[0m\u001b[31m \u001b[0m\u001b[1;31mTraceback \u001b[0m\u001b[1;2;31m(most recent call last)\u001b[0m\u001b[31m \u001b[0m\u001b[31m───────────────────────────────\u001b[0m\u001b[31m─╮\u001b[0m\n",
       "\u001b[31m│\u001b[0m in \u001b[92m<module>\u001b[0m:\u001b[94m1\u001b[0m                                                                                    \u001b[31m│\u001b[0m\n",
       "\u001b[31m│\u001b[0m                                                                                                  \u001b[31m│\u001b[0m\n",
       "\u001b[31m│\u001b[0m \u001b[31m❱ \u001b[0m1 codes                                                                                        \u001b[31m│\u001b[0m\n",
       "\u001b[31m│\u001b[0m   \u001b[2m2 \u001b[0m                                                                                             \u001b[31m│\u001b[0m\n",
       "\u001b[31m╰──────────────────────────────────────────────────────────────────────────────────────────────────╯\u001b[0m\n",
       "\u001b[1;91mNameError: \u001b[0mname \u001b[32m'codes'\u001b[0m is not defined\n"
      ]
     },
     "metadata": {},
     "output_type": "display_data"
    }
   ],
   "source": [
    "codes"
   ]
  },
  {
   "cell_type": "code",
   "execution_count": null,
   "metadata": {},
   "outputs": [],
   "source": [
    "merged = kp_df.merge(codes, left_on=\"cation\", right_on=\"code\")\n",
    "merged = merged.rename(columns = {\"SMILES\": \"cation_smiles\"})\n",
    "merged = merged.merge(codes, left_on=\"anion\", right_on=\"code\")\n",
    "merged = merged.rename(columns = {\"SMILES\": \"anion_smiles\"})"
   ]
  },
  {
   "cell_type": "code",
   "execution_count": null,
   "metadata": {},
   "outputs": [],
   "source": [
    "merged[\"smiles\"] = merged[\"cation_smiles\"] + \".\" + merged[\"anion_smiles\"]"
   ]
  },
  {
   "cell_type": "code",
   "execution_count": null,
   "metadata": {},
   "outputs": [],
   "source": [
    "merged = merged.where(merged[\"accepted\"])\n",
    "merged = merged.dropna()"
   ]
  },
  {
   "cell_type": "code",
   "execution_count": null,
   "metadata": {},
   "outputs": [],
   "source": [
    "merged.columns"
   ]
  },
  {
   "cell_type": "code",
   "execution_count": null,
   "metadata": {},
   "outputs": [],
   "source": [
    "merged = merged.loc[:, [\"MP\", \"smiles\"] ]\n"
   ]
  },
  {
   "cell_type": "code",
   "execution_count": null,
   "metadata": {},
   "outputs": [],
   "source": [
    "merged = merged.where(merged[\"MP\"]<450).dropna()"
   ]
  },
  {
   "cell_type": "code",
   "execution_count": null,
   "metadata": {},
   "outputs": [],
   "source": [
    "from sklearn.preprocessing import StandardScaler\n",
    "scaler = StandardScaler()\n",
    "scaler.fit(pd.DataFrame(merged[\"MP\"]))\n",
    "merged[\"MP\"] = scaler.transform(pd.DataFrame(merged[\"MP\"]))"
   ]
  },
  {
   "cell_type": "code",
   "execution_count": null,
   "metadata": {},
   "outputs": [],
   "source": [
    "scaler.mean_"
   ]
  },
  {
   "cell_type": "code",
   "execution_count": null,
   "metadata": {},
   "outputs": [],
   "source": [
    "scaler.var_"
   ]
  }
 ],
 "metadata": {
  "kernelspec": {
   "display_name": ".venv",
   "language": "python",
   "name": "python3"
  },
  "language_info": {
   "codemirror_mode": {
    "name": "ipython",
    "version": 3
   },
   "file_extension": ".py",
   "mimetype": "text/x-python",
   "name": "python",
   "nbconvert_exporter": "python",
   "pygments_lexer": "ipython3",
   "version": "3.11.9"
  }
 },
 "nbformat": 4,
 "nbformat_minor": 2
}
