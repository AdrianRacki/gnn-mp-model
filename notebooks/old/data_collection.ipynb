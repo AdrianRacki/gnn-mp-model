{
 "cells": [
  {
   "cell_type": "code",
   "execution_count": 88,
   "metadata": {},
   "outputs": [],
   "source": [
    "import pandas as pd\n",
    "import ilthermopy as ilt\n",
    "from rdkit import Chem"
   ]
  },
  {
   "cell_type": "code",
   "execution_count": 37,
   "metadata": {},
   "outputs": [],
   "source": [
    "def collect_data(start_year: int, end_year: int) -> tuple:\n",
    "    collector_df = pd.DataFrame(columns=[\"V1\", \"dV1\"])\n",
    "    smiles_list = []\n",
    "    for year in range(start_year, end_year+1, 1):\n",
    "        df = ilt.Search(n_compounds = 1, year = year, prop=\"Normal melting temperature\")\n",
    "        smiles_list.extend(df[\"cmp1_smiles\"])\n",
    "        data = [ilt.GetEntry(idx) for idx in df.id.iloc[:]]\n",
    "        print(f\"Collected data from {year}.\")  # noqa: T201\n",
    "        for entry in data:\n",
    "            collector_df = pd.concat([collector_df, entry.data])\n",
    "    return collector_df, smiles_list\n"
   ]
  },
  {
   "cell_type": "code",
   "execution_count": null,
   "metadata": {},
   "outputs": [],
   "source": [
    "def canonize_smiles(smiles:str) -> str:\n",
    "    canon_smiles = Chem.CanonSmiles(smiles)\n",
    "    return canon_smiles"
   ]
  },
  {
   "cell_type": "code",
   "execution_count": 39,
   "metadata": {},
   "outputs": [
    {
     "name": "stdout",
     "output_type": "stream",
     "text": [
      "Collected data from 2017.\n"
     ]
    },
    {
     "name": "stderr",
     "output_type": "stream",
     "text": [
      "C:\\Users\\01121272\\AppData\\Local\\Temp\\ipykernel_17708\\2297404490.py:10: FutureWarning: The behavior of DataFrame concatenation with empty or all-NA entries is deprecated. In a future version, this will no longer exclude empty or all-NA columns when determining the result dtypes. To retain the old behavior, exclude the relevant entries before the concat operation.\n",
      "  collector_df = pd.concat([collector_df, entry.data])\n"
     ]
    },
    {
     "name": "stdout",
     "output_type": "stream",
     "text": [
      "Collected data from 2018.\n",
      "Collected data from 2019.\n",
      "Collected data from 2020.\n",
      "Collected data from 2021.\n",
      "Collected data from 2022.\n",
      "Collected data from 2023.\n"
     ]
    }
   ],
   "source": [
    "collector_df, smiles_list = collect_data(2017, 2023)"
   ]
  },
  {
   "cell_type": "code",
   "execution_count": 56,
   "metadata": {},
   "outputs": [],
   "source": [
    "collector_df[\"smiles\"] = smiles_list"
   ]
  },
  {
   "cell_type": "code",
   "execution_count": 79,
   "metadata": {},
   "outputs": [],
   "source": [
    "collector_df = collector_df.dropna()"
   ]
  },
  {
   "cell_type": "code",
   "execution_count": 83,
   "metadata": {},
   "outputs": [],
   "source": [
    "collector_df = collector_df.reset_index()"
   ]
  },
  {
   "cell_type": "code",
   "execution_count": 96,
   "metadata": {},
   "outputs": [],
   "source": [
    "collector_df[\"smiles\"] = collector_df[\"smiles\"].apply(canonize_smiles)"
   ]
  },
  {
   "cell_type": "code",
   "execution_count": 100,
   "metadata": {},
   "outputs": [],
   "source": [
    "collector_df = collector_df.drop(['index'], axis=1)"
   ]
  },
  {
   "cell_type": "code",
   "execution_count": 102,
   "metadata": {},
   "outputs": [],
   "source": [
    "collector_df[\"V1\"] = collector_df[\"V1\"] - 273.15"
   ]
  },
  {
   "cell_type": "code",
   "execution_count": 105,
   "metadata": {},
   "outputs": [
    {
     "data": {
      "text/html": [
       "<div>\n",
       "<style scoped>\n",
       "    .dataframe tbody tr th:only-of-type {\n",
       "        vertical-align: middle;\n",
       "    }\n",
       "\n",
       "    .dataframe tbody tr th {\n",
       "        vertical-align: top;\n",
       "    }\n",
       "\n",
       "    .dataframe thead th {\n",
       "        text-align: right;\n",
       "    }\n",
       "</style>\n",
       "<table border=\"1\" class=\"dataframe\">\n",
       "  <thead>\n",
       "    <tr style=\"text-align: right;\">\n",
       "      <th></th>\n",
       "      <th>V1</th>\n",
       "      <th>dV1</th>\n",
       "      <th>smiles</th>\n",
       "    </tr>\n",
       "  </thead>\n",
       "  <tbody>\n",
       "    <tr>\n",
       "      <th>0</th>\n",
       "      <td>11.15</td>\n",
       "      <td>0.40</td>\n",
       "      <td>CCCCCCCC[P+](CCCCCCCC)(CCCCCCCC)CCCCCCCC.O=S(=...</td>\n",
       "    </tr>\n",
       "    <tr>\n",
       "      <th>1</th>\n",
       "      <td>-10.95</td>\n",
       "      <td>0.40</td>\n",
       "      <td>CCCC[N+]1(C)CCCC1.O=S(=O)([N-]S(=O)(=O)C(F)(F)...</td>\n",
       "    </tr>\n",
       "    <tr>\n",
       "      <th>2</th>\n",
       "      <td>4.05</td>\n",
       "      <td>0.40</td>\n",
       "      <td>CCCCCC[N+]1(C)CCCC1.O=S(=O)([N-]S(=O)(=O)C(F)(...</td>\n",
       "    </tr>\n",
       "    <tr>\n",
       "      <th>3</th>\n",
       "      <td>4.20</td>\n",
       "      <td>0.41</td>\n",
       "      <td>CCCCCC[N+]1(C)CCCC1.O=S(=O)([N-]S(=O)(=O)C(F)(...</td>\n",
       "    </tr>\n",
       "    <tr>\n",
       "      <th>4</th>\n",
       "      <td>-13.15</td>\n",
       "      <td>0.40</td>\n",
       "      <td>CCCC[N+]1(C)CCCC1.O=S(=O)([N-]S(=O)(=O)C(F)(F)...</td>\n",
       "    </tr>\n",
       "  </tbody>\n",
       "</table>\n",
       "</div>"
      ],
      "text/plain": [
       "      V1   dV1                                             smiles\n",
       "0  11.15  0.40  CCCCCCCC[P+](CCCCCCCC)(CCCCCCCC)CCCCCCCC.O=S(=...\n",
       "1 -10.95  0.40  CCCC[N+]1(C)CCCC1.O=S(=O)([N-]S(=O)(=O)C(F)(F)...\n",
       "2   4.05  0.40  CCCCCC[N+]1(C)CCCC1.O=S(=O)([N-]S(=O)(=O)C(F)(...\n",
       "3   4.20  0.41  CCCCCC[N+]1(C)CCCC1.O=S(=O)([N-]S(=O)(=O)C(F)(...\n",
       "4 -13.15  0.40  CCCC[N+]1(C)CCCC1.O=S(=O)([N-]S(=O)(=O)C(F)(F)..."
      ]
     },
     "execution_count": 105,
     "metadata": {},
     "output_type": "execute_result"
    }
   ],
   "source": [
    "collector_df.head()"
   ]
  },
  {
   "cell_type": "code",
   "execution_count": 108,
   "metadata": {},
   "outputs": [],
   "source": [
    "collector_df.rename(columns={\"V1\": \"MP\", \"dV1\": \"error\"}, inplace=True)"
   ]
  },
  {
   "cell_type": "code",
   "execution_count": null,
   "metadata": {},
   "outputs": [],
   "source": [
    "collector_df=collector_df.drop[\"error\", axis=1]"
   ]
  },
  {
   "cell_type": "code",
   "execution_count": 111,
   "metadata": {},
   "outputs": [],
   "source": [
    "collector_df.to_csv(\"ilthermo_mp_database.csv\")"
   ]
  }
 ],
 "metadata": {
  "kernelspec": {
   "display_name": ".venv",
   "language": "python",
   "name": "python3"
  },
  "language_info": {
   "codemirror_mode": {
    "name": "ipython",
    "version": 3
   },
   "file_extension": ".py",
   "mimetype": "text/x-python",
   "name": "python",
   "nbconvert_exporter": "python",
   "pygments_lexer": "ipython3",
   "version": "3.11.9"
  }
 },
 "nbformat": 4,
 "nbformat_minor": 2
}
