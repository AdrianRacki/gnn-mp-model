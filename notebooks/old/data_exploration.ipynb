{
 "cells": [
  {
   "cell_type": "code",
   "execution_count": 1,
   "metadata": {},
   "outputs": [],
   "source": [
    "import matplotlib.pyplot as plt\n",
    "import numpy as np\n",
    "import pandas as pd\n",
    "import torch\n",
    "import torch.nn.functional as F\n",
    "from lightning.pytorch.callbacks import (\n",
    "    EarlyStopping,\n",
    "    LearningRateMonitor,\n",
    "    ModelCheckpoint,\n",
    ")\n",
    "from lightning.pytorch.loggers import CSVLogger\n",
    "from pytorch_lightning.utilities.model_summary import ModelSummary\n",
    "from rdkit import Chem\n",
    "from rdkit.Chem import AllChem, Draw\n",
    "from rdkit.Chem.Draw import IPythonConsole\n",
    "from sklearn.metrics import r2_score as sklearn_r2\n",
    "from sklearn.metrics import root_mean_squared_error\n",
    "from sklearn.model_selection import train_test_split\n",
    "from sklearn.preprocessing import MinMaxScaler\n",
    "from torch.nn import BatchNorm1d, HuberLoss, L1Loss, Linear, ModuleList, MSELoss\n",
    "from torch.optim.lr_scheduler import ReduceLROnPlateau\n",
    "from torch_geometric.nn import (\n",
    "    GATv2Conv,\n",
    "    GCNConv,\n",
    "    GINConv,\n",
    "    GraphNorm,\n",
    "    PNAConv,\n",
    "    SAGPooling,\n",
    "    global_add_pool,\n",
    "    global_max_pool,\n",
    "    global_mean_pool,\n",
    ")\n",
    "from torcheval.metrics.functional import r2_score\n",
    "from twinning import twin\n"
   ]
  },
  {
   "cell_type": "code",
   "execution_count": 2,
   "metadata": {},
   "outputs": [
    {
     "data": {
      "text/html": [
       "<pre style=\"white-space:pre;overflow-x:auto;line-height:normal;font-family:Menlo,'DejaVu Sans Mono',consolas,'Courier New',monospace\"><span style=\"color: #7fbfbf; text-decoration-color: #7fbfbf\">[07/16/24 13:33:58] </span><span style=\"color: #000080; text-decoration-color: #000080\">INFO    </span> Registered line magic <span style=\"color: #008000; text-decoration-color: #008000\">'%reload_kedro'</span>                                   <a href=\"file://c:\\Users\\01121272\\Desktop\\Projects\\gnn-mp-model\\.venv\\Lib\\site-packages\\kedro\\ipython\\__init__.py\" target=\"_blank\"><span style=\"color: #7f7f7f; text-decoration-color: #7f7f7f\">__init__.py</span></a><span style=\"color: #7f7f7f; text-decoration-color: #7f7f7f\">:</span><a href=\"file://c:\\Users\\01121272\\Desktop\\Projects\\gnn-mp-model\\.venv\\Lib\\site-packages\\kedro\\ipython\\__init__.py#58\" target=\"_blank\"><span style=\"color: #7f7f7f; text-decoration-color: #7f7f7f\">58</span></a>\n",
       "</pre>\n"
      ],
      "text/plain": [
       "\u001b[2;36m[07/16/24 13:33:58]\u001b[0m\u001b[2;36m \u001b[0m\u001b[34mINFO    \u001b[0m Registered line magic \u001b[32m'%reload_kedro'\u001b[0m                                   \u001b]8;id=335307;file://c:\\Users\\01121272\\Desktop\\Projects\\gnn-mp-model\\.venv\\Lib\\site-packages\\kedro\\ipython\\__init__.py\u001b\\\u001b[2m__init__.py\u001b[0m\u001b]8;;\u001b\\\u001b[2m:\u001b[0m\u001b]8;id=977954;file://c:\\Users\\01121272\\Desktop\\Projects\\gnn-mp-model\\.venv\\Lib\\site-packages\\kedro\\ipython\\__init__.py#58\u001b\\\u001b[2m58\u001b[0m\u001b]8;;\u001b\\\n"
      ]
     },
     "metadata": {},
     "output_type": "display_data"
    },
    {
     "data": {
      "text/html": [
       "<pre style=\"white-space:pre;overflow-x:auto;line-height:normal;font-family:Menlo,'DejaVu Sans Mono',consolas,'Courier New',monospace\"><span style=\"color: #7fbfbf; text-decoration-color: #7fbfbf\">                    </span><span style=\"color: #000080; text-decoration-color: #000080\">INFO    </span> Registered line magic <span style=\"color: #008000; text-decoration-color: #008000\">'%load_node'</span>                                      <a href=\"file://c:\\Users\\01121272\\Desktop\\Projects\\gnn-mp-model\\.venv\\Lib\\site-packages\\kedro\\ipython\\__init__.py\" target=\"_blank\"><span style=\"color: #7f7f7f; text-decoration-color: #7f7f7f\">__init__.py</span></a><span style=\"color: #7f7f7f; text-decoration-color: #7f7f7f\">:</span><a href=\"file://c:\\Users\\01121272\\Desktop\\Projects\\gnn-mp-model\\.venv\\Lib\\site-packages\\kedro\\ipython\\__init__.py#60\" target=\"_blank\"><span style=\"color: #7f7f7f; text-decoration-color: #7f7f7f\">60</span></a>\n",
       "</pre>\n"
      ],
      "text/plain": [
       "\u001b[2;36m                   \u001b[0m\u001b[2;36m \u001b[0m\u001b[34mINFO    \u001b[0m Registered line magic \u001b[32m'%load_node'\u001b[0m                                      \u001b]8;id=190024;file://c:\\Users\\01121272\\Desktop\\Projects\\gnn-mp-model\\.venv\\Lib\\site-packages\\kedro\\ipython\\__init__.py\u001b\\\u001b[2m__init__.py\u001b[0m\u001b]8;;\u001b\\\u001b[2m:\u001b[0m\u001b]8;id=613418;file://c:\\Users\\01121272\\Desktop\\Projects\\gnn-mp-model\\.venv\\Lib\\site-packages\\kedro\\ipython\\__init__.py#60\u001b\\\u001b[2m60\u001b[0m\u001b]8;;\u001b\\\n"
      ]
     },
     "metadata": {},
     "output_type": "display_data"
    },
    {
     "data": {
      "text/html": [
       "<pre style=\"white-space:pre;overflow-x:auto;line-height:normal;font-family:Menlo,'DejaVu Sans Mono',consolas,'Courier New',monospace\"><span style=\"color: #7fbfbf; text-decoration-color: #7fbfbf\">                    </span><span style=\"color: #000080; text-decoration-color: #000080\">INFO    </span> Resolved project path as:                                              <a href=\"file://c:\\Users\\01121272\\Desktop\\Projects\\gnn-mp-model\\.venv\\Lib\\site-packages\\kedro\\ipython\\__init__.py\" target=\"_blank\"><span style=\"color: #7f7f7f; text-decoration-color: #7f7f7f\">__init__.py</span></a><span style=\"color: #7f7f7f; text-decoration-color: #7f7f7f\">:</span><a href=\"file://c:\\Users\\01121272\\Desktop\\Projects\\gnn-mp-model\\.venv\\Lib\\site-packages\\kedro\\ipython\\__init__.py#171\" target=\"_blank\"><span style=\"color: #7f7f7f; text-decoration-color: #7f7f7f\">171</span></a>\n",
       "<span style=\"color: #7fbfbf; text-decoration-color: #7fbfbf\">                    </span>         c:\\Users\\<span style=\"color: #008080; text-decoration-color: #008080; font-weight: bold\">01121272</span>\\Desktop\\Projects\\gnn-mp-model.                       <span style=\"color: #7f7f7f; text-decoration-color: #7f7f7f\">               </span>\n",
       "<span style=\"color: #7fbfbf; text-decoration-color: #7fbfbf\">                    </span>         To set a different path, run <span style=\"color: #008000; text-decoration-color: #008000\">'%reload_kedro &lt;project_root&gt;'</span>            <span style=\"color: #7f7f7f; text-decoration-color: #7f7f7f\">               </span>\n",
       "</pre>\n"
      ],
      "text/plain": [
       "\u001b[2;36m                   \u001b[0m\u001b[2;36m \u001b[0m\u001b[34mINFO    \u001b[0m Resolved project path as:                                              \u001b]8;id=357520;file://c:\\Users\\01121272\\Desktop\\Projects\\gnn-mp-model\\.venv\\Lib\\site-packages\\kedro\\ipython\\__init__.py\u001b\\\u001b[2m__init__.py\u001b[0m\u001b]8;;\u001b\\\u001b[2m:\u001b[0m\u001b]8;id=845587;file://c:\\Users\\01121272\\Desktop\\Projects\\gnn-mp-model\\.venv\\Lib\\site-packages\\kedro\\ipython\\__init__.py#171\u001b\\\u001b[2m171\u001b[0m\u001b]8;;\u001b\\\n",
       "\u001b[2;36m                    \u001b[0m         c:\\Users\\\u001b[1;36m01121272\u001b[0m\\Desktop\\Projects\\gnn-mp-model.                       \u001b[2m               \u001b[0m\n",
       "\u001b[2;36m                    \u001b[0m         To set a different path, run \u001b[32m'%reload_kedro \u001b[0m\u001b[32m<\u001b[0m\u001b[32mproject_root\u001b[0m\u001b[32m>\u001b[0m\u001b[32m'\u001b[0m            \u001b[2m               \u001b[0m\n"
      ]
     },
     "metadata": {},
     "output_type": "display_data"
    },
    {
     "data": {
      "text/html": [
       "<pre style=\"white-space:pre;overflow-x:auto;line-height:normal;font-family:Menlo,'DejaVu Sans Mono',consolas,'Courier New',monospace\"><span style=\"color: #7fbfbf; text-decoration-color: #7fbfbf\">[07/16/24 13:34:01] </span><span style=\"color: #000080; text-decoration-color: #000080\">INFO    </span> Registering new custom resolver: <span style=\"color: #008000; text-decoration-color: #008000\">'km.random_name'</span>                    <a href=\"file://c:\\Users\\01121272\\Desktop\\Projects\\gnn-mp-model\\.venv\\Lib\\site-packages\\kedro_mlflow\\framework\\hooks\\mlflow_hook.py\" target=\"_blank\"><span style=\"color: #7f7f7f; text-decoration-color: #7f7f7f\">mlflow_hook.py</span></a><span style=\"color: #7f7f7f; text-decoration-color: #7f7f7f\">:</span><a href=\"file://c:\\Users\\01121272\\Desktop\\Projects\\gnn-mp-model\\.venv\\Lib\\site-packages\\kedro_mlflow\\framework\\hooks\\mlflow_hook.py#65\" target=\"_blank\"><span style=\"color: #7f7f7f; text-decoration-color: #7f7f7f\">65</span></a>\n",
       "</pre>\n"
      ],
      "text/plain": [
       "\u001b[2;36m[07/16/24 13:34:01]\u001b[0m\u001b[2;36m \u001b[0m\u001b[34mINFO    \u001b[0m Registering new custom resolver: \u001b[32m'km.random_name'\u001b[0m                    \u001b]8;id=386170;file://c:\\Users\\01121272\\Desktop\\Projects\\gnn-mp-model\\.venv\\Lib\\site-packages\\kedro_mlflow\\framework\\hooks\\mlflow_hook.py\u001b\\\u001b[2mmlflow_hook.py\u001b[0m\u001b]8;;\u001b\\\u001b[2m:\u001b[0m\u001b]8;id=210336;file://c:\\Users\\01121272\\Desktop\\Projects\\gnn-mp-model\\.venv\\Lib\\site-packages\\kedro_mlflow\\framework\\hooks\\mlflow_hook.py#65\u001b\\\u001b[2m65\u001b[0m\u001b]8;;\u001b\\\n"
      ]
     },
     "metadata": {},
     "output_type": "display_data"
    },
    {
     "data": {
      "text/html": [
       "<pre style=\"white-space:pre;overflow-x:auto;line-height:normal;font-family:Menlo,'DejaVu Sans Mono',consolas,'Courier New',monospace\"><span style=\"color: #7fbfbf; text-decoration-color: #7fbfbf\">                    </span><span style=\"color: #000080; text-decoration-color: #000080\">INFO    </span> The <span style=\"color: #008000; text-decoration-color: #008000\">'tracking_uri'</span> key in mlflow.yml is relative            <a href=\"file://c:\\Users\\01121272\\Desktop\\Projects\\gnn-mp-model\\.venv\\Lib\\site-packages\\kedro_mlflow\\config\\kedro_mlflow_config.py\" target=\"_blank\"><span style=\"color: #7f7f7f; text-decoration-color: #7f7f7f\">kedro_mlflow_config.py</span></a><span style=\"color: #7f7f7f; text-decoration-color: #7f7f7f\">:</span><a href=\"file://c:\\Users\\01121272\\Desktop\\Projects\\gnn-mp-model\\.venv\\Lib\\site-packages\\kedro_mlflow\\config\\kedro_mlflow_config.py#260\" target=\"_blank\"><span style=\"color: #7f7f7f; text-decoration-color: #7f7f7f\">260</span></a>\n",
       "<span style=\"color: #7fbfbf; text-decoration-color: #7fbfbf\">                    </span>         <span style=\"font-weight: bold\">(</span><span style=\"color: #008000; text-decoration-color: #008000\">'server.mlflow_(tracking|registry)_uri = mlruns'</span><span style=\"font-weight: bold\">)</span>. It is   <span style=\"color: #7f7f7f; text-decoration-color: #7f7f7f\">                          </span>\n",
       "<span style=\"color: #7fbfbf; text-decoration-color: #7fbfbf\">                    </span>         converted to a valid uri:                                   <span style=\"color: #7f7f7f; text-decoration-color: #7f7f7f\">                          </span>\n",
       "<span style=\"color: #7fbfbf; text-decoration-color: #7fbfbf\">                    </span>         <span style=\"color: #008000; text-decoration-color: #008000\">'file:///C:/Users/01121272/Desktop/Projects/gnn-mp-model/ml</span> <span style=\"color: #7f7f7f; text-decoration-color: #7f7f7f\">                          </span>\n",
       "<span style=\"color: #7fbfbf; text-decoration-color: #7fbfbf\">                    </span>         <span style=\"color: #008000; text-decoration-color: #008000\">runs'</span>                                                       <span style=\"color: #7f7f7f; text-decoration-color: #7f7f7f\">                          </span>\n",
       "</pre>\n"
      ],
      "text/plain": [
       "\u001b[2;36m                   \u001b[0m\u001b[2;36m \u001b[0m\u001b[34mINFO    \u001b[0m The \u001b[32m'tracking_uri'\u001b[0m key in mlflow.yml is relative            \u001b]8;id=403081;file://c:\\Users\\01121272\\Desktop\\Projects\\gnn-mp-model\\.venv\\Lib\\site-packages\\kedro_mlflow\\config\\kedro_mlflow_config.py\u001b\\\u001b[2mkedro_mlflow_config.py\u001b[0m\u001b]8;;\u001b\\\u001b[2m:\u001b[0m\u001b]8;id=941701;file://c:\\Users\\01121272\\Desktop\\Projects\\gnn-mp-model\\.venv\\Lib\\site-packages\\kedro_mlflow\\config\\kedro_mlflow_config.py#260\u001b\\\u001b[2m260\u001b[0m\u001b]8;;\u001b\\\n",
       "\u001b[2;36m                    \u001b[0m         \u001b[1m(\u001b[0m\u001b[32m'server.mlflow_\u001b[0m\u001b[32m(\u001b[0m\u001b[32mtracking|registry\u001b[0m\u001b[32m)\u001b[0m\u001b[32m_uri = mlruns'\u001b[0m\u001b[1m)\u001b[0m. It is   \u001b[2m                          \u001b[0m\n",
       "\u001b[2;36m                    \u001b[0m         converted to a valid uri:                                   \u001b[2m                          \u001b[0m\n",
       "\u001b[2;36m                    \u001b[0m         \u001b[32m'file:///C:/Users/01121272/Desktop/Projects/gnn-mp-model/ml\u001b[0m \u001b[2m                          \u001b[0m\n",
       "\u001b[2;36m                    \u001b[0m         \u001b[32mruns'\u001b[0m                                                       \u001b[2m                          \u001b[0m\n"
      ]
     },
     "metadata": {},
     "output_type": "display_data"
    },
    {
     "data": {
      "text/html": [
       "<pre style=\"white-space:pre;overflow-x:auto;line-height:normal;font-family:Menlo,'DejaVu Sans Mono',consolas,'Courier New',monospace\"><span style=\"color: #7fbfbf; text-decoration-color: #7fbfbf\">                    </span><span style=\"color: #000080; text-decoration-color: #000080\">INFO    </span> Kedro project GNN_MP_model                                             <a href=\"file://c:\\Users\\01121272\\Desktop\\Projects\\gnn-mp-model\\.venv\\Lib\\site-packages\\kedro\\ipython\\__init__.py\" target=\"_blank\"><span style=\"color: #7f7f7f; text-decoration-color: #7f7f7f\">__init__.py</span></a><span style=\"color: #7f7f7f; text-decoration-color: #7f7f7f\">:</span><a href=\"file://c:\\Users\\01121272\\Desktop\\Projects\\gnn-mp-model\\.venv\\Lib\\site-packages\\kedro\\ipython\\__init__.py#141\" target=\"_blank\"><span style=\"color: #7f7f7f; text-decoration-color: #7f7f7f\">141</span></a>\n",
       "</pre>\n"
      ],
      "text/plain": [
       "\u001b[2;36m                   \u001b[0m\u001b[2;36m \u001b[0m\u001b[34mINFO    \u001b[0m Kedro project GNN_MP_model                                             \u001b]8;id=419539;file://c:\\Users\\01121272\\Desktop\\Projects\\gnn-mp-model\\.venv\\Lib\\site-packages\\kedro\\ipython\\__init__.py\u001b\\\u001b[2m__init__.py\u001b[0m\u001b]8;;\u001b\\\u001b[2m:\u001b[0m\u001b]8;id=545408;file://c:\\Users\\01121272\\Desktop\\Projects\\gnn-mp-model\\.venv\\Lib\\site-packages\\kedro\\ipython\\__init__.py#141\u001b\\\u001b[2m141\u001b[0m\u001b]8;;\u001b\\\n"
      ]
     },
     "metadata": {},
     "output_type": "display_data"
    },
    {
     "data": {
      "text/html": [
       "<pre style=\"white-space:pre;overflow-x:auto;line-height:normal;font-family:Menlo,'DejaVu Sans Mono',consolas,'Courier New',monospace\"><span style=\"color: #7fbfbf; text-decoration-color: #7fbfbf\">                    </span><span style=\"color: #000080; text-decoration-color: #000080\">INFO    </span> Defined global variable <span style=\"color: #008000; text-decoration-color: #008000\">'context'</span>, <span style=\"color: #008000; text-decoration-color: #008000\">'session'</span>, <span style=\"color: #008000; text-decoration-color: #008000\">'catalog'</span> and            <a href=\"file://c:\\Users\\01121272\\Desktop\\Projects\\gnn-mp-model\\.venv\\Lib\\site-packages\\kedro\\ipython\\__init__.py\" target=\"_blank\"><span style=\"color: #7f7f7f; text-decoration-color: #7f7f7f\">__init__.py</span></a><span style=\"color: #7f7f7f; text-decoration-color: #7f7f7f\">:</span><a href=\"file://c:\\Users\\01121272\\Desktop\\Projects\\gnn-mp-model\\.venv\\Lib\\site-packages\\kedro\\ipython\\__init__.py#142\" target=\"_blank\"><span style=\"color: #7f7f7f; text-decoration-color: #7f7f7f\">142</span></a>\n",
       "<span style=\"color: #7fbfbf; text-decoration-color: #7fbfbf\">                    </span>         <span style=\"color: #008000; text-decoration-color: #008000\">'pipelines'</span>                                                            <span style=\"color: #7f7f7f; text-decoration-color: #7f7f7f\">               </span>\n",
       "</pre>\n"
      ],
      "text/plain": [
       "\u001b[2;36m                   \u001b[0m\u001b[2;36m \u001b[0m\u001b[34mINFO    \u001b[0m Defined global variable \u001b[32m'context'\u001b[0m, \u001b[32m'session'\u001b[0m, \u001b[32m'catalog'\u001b[0m and            \u001b]8;id=357624;file://c:\\Users\\01121272\\Desktop\\Projects\\gnn-mp-model\\.venv\\Lib\\site-packages\\kedro\\ipython\\__init__.py\u001b\\\u001b[2m__init__.py\u001b[0m\u001b]8;;\u001b\\\u001b[2m:\u001b[0m\u001b]8;id=716977;file://c:\\Users\\01121272\\Desktop\\Projects\\gnn-mp-model\\.venv\\Lib\\site-packages\\kedro\\ipython\\__init__.py#142\u001b\\\u001b[2m142\u001b[0m\u001b]8;;\u001b\\\n",
       "\u001b[2;36m                    \u001b[0m         \u001b[32m'pipelines'\u001b[0m                                                            \u001b[2m               \u001b[0m\n"
      ]
     },
     "metadata": {},
     "output_type": "display_data"
    },
    {
     "data": {
      "text/html": [
       "<pre style=\"white-space:pre;overflow-x:auto;line-height:normal;font-family:Menlo,'DejaVu Sans Mono',consolas,'Courier New',monospace\"><span style=\"color: #7fbfbf; text-decoration-color: #7fbfbf\">[07/16/24 13:34:03] </span><span style=\"color: #000080; text-decoration-color: #000080\">INFO    </span> Registered line magic <span style=\"color: #008000; text-decoration-color: #008000\">'run_viz'</span>                                        <a href=\"file://c:\\Users\\01121272\\Desktop\\Projects\\gnn-mp-model\\.venv\\Lib\\site-packages\\kedro\\ipython\\__init__.py\" target=\"_blank\"><span style=\"color: #7f7f7f; text-decoration-color: #7f7f7f\">__init__.py</span></a><span style=\"color: #7f7f7f; text-decoration-color: #7f7f7f\">:</span><a href=\"file://c:\\Users\\01121272\\Desktop\\Projects\\gnn-mp-model\\.venv\\Lib\\site-packages\\kedro\\ipython\\__init__.py#148\" target=\"_blank\"><span style=\"color: #7f7f7f; text-decoration-color: #7f7f7f\">148</span></a>\n",
       "</pre>\n"
      ],
      "text/plain": [
       "\u001b[2;36m[07/16/24 13:34:03]\u001b[0m\u001b[2;36m \u001b[0m\u001b[34mINFO    \u001b[0m Registered line magic \u001b[32m'run_viz'\u001b[0m                                        \u001b]8;id=143885;file://c:\\Users\\01121272\\Desktop\\Projects\\gnn-mp-model\\.venv\\Lib\\site-packages\\kedro\\ipython\\__init__.py\u001b\\\u001b[2m__init__.py\u001b[0m\u001b]8;;\u001b\\\u001b[2m:\u001b[0m\u001b]8;id=314982;file://c:\\Users\\01121272\\Desktop\\Projects\\gnn-mp-model\\.venv\\Lib\\site-packages\\kedro\\ipython\\__init__.py#148\u001b\\\u001b[2m148\u001b[0m\u001b]8;;\u001b\\\n"
      ]
     },
     "metadata": {},
     "output_type": "display_data"
    }
   ],
   "source": [
    "%load_ext kedro.ipython"
   ]
  },
  {
   "cell_type": "code",
   "execution_count": 3,
   "metadata": {},
   "outputs": [
    {
     "data": {
      "text/html": [
       "<pre style=\"white-space:pre;overflow-x:auto;line-height:normal;font-family:Menlo,'DejaVu Sans Mono',consolas,'Courier New',monospace\"><span style=\"color: #7fbfbf; text-decoration-color: #7fbfbf\">                    </span><span style=\"color: #000080; text-decoration-color: #000080\">INFO    </span> Loading data from <span style=\"color: #ff8700; text-decoration-color: #ff8700\">merged_database</span> <span style=\"font-weight: bold\">(</span>CSVDataset<span style=\"font-weight: bold\">)</span><span style=\"color: #808000; text-decoration-color: #808000\">...</span>                  <a href=\"file://c:\\Users\\01121272\\Desktop\\Projects\\gnn-mp-model\\.venv\\Lib\\site-packages\\kedro\\io\\data_catalog.py\" target=\"_blank\"><span style=\"color: #7f7f7f; text-decoration-color: #7f7f7f\">data_catalog.py</span></a><span style=\"color: #7f7f7f; text-decoration-color: #7f7f7f\">:</span><a href=\"file://c:\\Users\\01121272\\Desktop\\Projects\\gnn-mp-model\\.venv\\Lib\\site-packages\\kedro\\io\\data_catalog.py#508\" target=\"_blank\"><span style=\"color: #7f7f7f; text-decoration-color: #7f7f7f\">508</span></a>\n",
       "</pre>\n"
      ],
      "text/plain": [
       "\u001b[2;36m                   \u001b[0m\u001b[2;36m \u001b[0m\u001b[34mINFO    \u001b[0m Loading data from \u001b[38;5;208mmerged_database\u001b[0m \u001b[1m(\u001b[0mCSVDataset\u001b[1m)\u001b[0m\u001b[33m...\u001b[0m                  \u001b]8;id=73318;file://c:\\Users\\01121272\\Desktop\\Projects\\gnn-mp-model\\.venv\\Lib\\site-packages\\kedro\\io\\data_catalog.py\u001b\\\u001b[2mdata_catalog.py\u001b[0m\u001b]8;;\u001b\\\u001b[2m:\u001b[0m\u001b]8;id=808558;file://c:\\Users\\01121272\\Desktop\\Projects\\gnn-mp-model\\.venv\\Lib\\site-packages\\kedro\\io\\data_catalog.py#508\u001b\\\u001b[2m508\u001b[0m\u001b]8;;\u001b\\\n"
      ]
     },
     "metadata": {},
     "output_type": "display_data"
    },
    {
     "data": {
      "text/html": [
       "<pre style=\"white-space:pre;overflow-x:auto;line-height:normal;font-family:Menlo,'DejaVu Sans Mono',consolas,'Courier New',monospace\"><span style=\"color: #7fbfbf; text-decoration-color: #7fbfbf\">                    </span><span style=\"color: #000080; text-decoration-color: #000080\">INFO    </span> Loading data from <span style=\"color: #ff8700; text-decoration-color: #ff8700\">sys_train_dataloader</span> <span style=\"font-weight: bold\">(</span>GraphDataset<span style=\"font-weight: bold\">)</span><span style=\"color: #808000; text-decoration-color: #808000\">...</span>           <a href=\"file://c:\\Users\\01121272\\Desktop\\Projects\\gnn-mp-model\\.venv\\Lib\\site-packages\\kedro\\io\\data_catalog.py\" target=\"_blank\"><span style=\"color: #7f7f7f; text-decoration-color: #7f7f7f\">data_catalog.py</span></a><span style=\"color: #7f7f7f; text-decoration-color: #7f7f7f\">:</span><a href=\"file://c:\\Users\\01121272\\Desktop\\Projects\\gnn-mp-model\\.venv\\Lib\\site-packages\\kedro\\io\\data_catalog.py#508\" target=\"_blank\"><span style=\"color: #7f7f7f; text-decoration-color: #7f7f7f\">508</span></a>\n",
       "</pre>\n"
      ],
      "text/plain": [
       "\u001b[2;36m                   \u001b[0m\u001b[2;36m \u001b[0m\u001b[34mINFO    \u001b[0m Loading data from \u001b[38;5;208msys_train_dataloader\u001b[0m \u001b[1m(\u001b[0mGraphDataset\u001b[1m)\u001b[0m\u001b[33m...\u001b[0m           \u001b]8;id=37668;file://c:\\Users\\01121272\\Desktop\\Projects\\gnn-mp-model\\.venv\\Lib\\site-packages\\kedro\\io\\data_catalog.py\u001b\\\u001b[2mdata_catalog.py\u001b[0m\u001b]8;;\u001b\\\u001b[2m:\u001b[0m\u001b]8;id=191989;file://c:\\Users\\01121272\\Desktop\\Projects\\gnn-mp-model\\.venv\\Lib\\site-packages\\kedro\\io\\data_catalog.py#508\u001b\\\u001b[2m508\u001b[0m\u001b]8;;\u001b\\\n"
      ]
     },
     "metadata": {},
     "output_type": "display_data"
    },
    {
     "data": {
      "text/html": [
       "<pre style=\"white-space:pre;overflow-x:auto;line-height:normal;font-family:Menlo,'DejaVu Sans Mono',consolas,'Courier New',monospace\"><span style=\"color: #7fbfbf; text-decoration-color: #7fbfbf\">[07/16/24 13:34:04] </span><span style=\"color: #000080; text-decoration-color: #000080\">INFO    </span> Loading data from <span style=\"color: #ff8700; text-decoration-color: #ff8700\">sys_test_dataloader</span> <span style=\"font-weight: bold\">(</span>GraphDataset<span style=\"font-weight: bold\">)</span><span style=\"color: #808000; text-decoration-color: #808000\">...</span>            <a href=\"file://c:\\Users\\01121272\\Desktop\\Projects\\gnn-mp-model\\.venv\\Lib\\site-packages\\kedro\\io\\data_catalog.py\" target=\"_blank\"><span style=\"color: #7f7f7f; text-decoration-color: #7f7f7f\">data_catalog.py</span></a><span style=\"color: #7f7f7f; text-decoration-color: #7f7f7f\">:</span><a href=\"file://c:\\Users\\01121272\\Desktop\\Projects\\gnn-mp-model\\.venv\\Lib\\site-packages\\kedro\\io\\data_catalog.py#508\" target=\"_blank\"><span style=\"color: #7f7f7f; text-decoration-color: #7f7f7f\">508</span></a>\n",
       "</pre>\n"
      ],
      "text/plain": [
       "\u001b[2;36m[07/16/24 13:34:04]\u001b[0m\u001b[2;36m \u001b[0m\u001b[34mINFO    \u001b[0m Loading data from \u001b[38;5;208msys_test_dataloader\u001b[0m \u001b[1m(\u001b[0mGraphDataset\u001b[1m)\u001b[0m\u001b[33m...\u001b[0m            \u001b]8;id=928922;file://c:\\Users\\01121272\\Desktop\\Projects\\gnn-mp-model\\.venv\\Lib\\site-packages\\kedro\\io\\data_catalog.py\u001b\\\u001b[2mdata_catalog.py\u001b[0m\u001b]8;;\u001b\\\u001b[2m:\u001b[0m\u001b]8;id=802657;file://c:\\Users\\01121272\\Desktop\\Projects\\gnn-mp-model\\.venv\\Lib\\site-packages\\kedro\\io\\data_catalog.py#508\u001b\\\u001b[2m508\u001b[0m\u001b]8;;\u001b\\\n"
      ]
     },
     "metadata": {},
     "output_type": "display_data"
    }
   ],
   "source": [
    "df = catalog.load(\"merged_database\")\n",
    "train_dataloader = catalog.load(\"sys_train_dataloader\")\n",
    "test_dataloader = catalog.load(\"sys_test_dataloader\")"
   ]
  },
  {
   "cell_type": "code",
   "execution_count": 4,
   "metadata": {},
   "outputs": [],
   "source": [
    "# Plot data split\n",
    "\n",
    "# fig, axs = plt.subplots(1,2,sharey=True, tight_layout=True)\n",
    "# n_bins = 30\n",
    "# axs[0].hist(df_strain[\"MP\"], bins=n_bins, color=\"b\")\n",
    "# axs[0].hist(df_stest[\"MP\"], bins=n_bins, color=\"r\")\n",
    "# axs[1].hist(df_train[\"MP\"], bins=n_bins, color=\"b\")\n",
    "# axs[1].hist(df_test[\"MP\"], bins=n_bins, color=\"r\")\n"
   ]
  },
  {
   "cell_type": "code",
   "execution_count": 5,
   "metadata": {},
   "outputs": [],
   "source": [
    "# Compute the maximum in-degree in the training data.\n",
    "from torch_geometric.utils import degree\n",
    "\n",
    "max_degree = -1\n",
    "for batch in train_dataloader:\n",
    "    for i in range(batch.batch_size):\n",
    "        data = batch[i]\n",
    "        d = degree(data.edge_index[1], num_nodes=data.num_nodes, dtype=torch.long)\n",
    "        max_degree = max(max_degree, int(d.max()))\n",
    "\n",
    "# Compute the in-degree histogram tensor\n",
    "deg = torch.zeros(max_degree + 1, dtype=torch.long)\n",
    "for batch in train_dataloader:\n",
    "    for i in range(batch.batch_size):\n",
    "        data = batch[i]\n",
    "        d = degree(data.edge_index[1], num_nodes=data.num_nodes, dtype=torch.long)\n",
    "        deg += torch.bincount(d, minlength=deg.numel())"
   ]
  },
  {
   "cell_type": "code",
   "execution_count": 6,
   "metadata": {},
   "outputs": [],
   "source": [
    "class GNN(torch.nn.Module):\n",
    "    def __init__(self, model_type: str, num_layers: int, pooling_method:str = \"add\"):\n",
    "        # Loading params\n",
    "        super().__init__()\n",
    "        self.pooling_method = pooling_method\n",
    "        self.model_type = model_type\n",
    "        self.num_layers = num_layers\n",
    "        node_dim = 31\n",
    "        edge_dim = 11\n",
    "        hidden_size = 32\n",
    "        dense_size = 16\n",
    "        # PNA\n",
    "        self.pan_list = ModuleList([])\n",
    "        self.gn_list = ModuleList([])\n",
    "        self.pan = PNAConv(\n",
    "                in_channels=node_dim,\n",
    "                out_channels = hidden_size,\n",
    "                edge_dim=edge_dim,\n",
    "                aggregators=[\"mean\", \"min\", \"max\", \"std\"],\n",
    "                scalers=[\"identity\", \"amplification\", \"attenuation\"],\n",
    "                deg=deg,\n",
    "                towers=1)\n",
    "        self.gn = GraphNorm(hidden_size)\n",
    "        self.pool = SAGPooling(hidden_size, 0.5)\n",
    "        for _ in range(self.num_layers):\n",
    "            self.pan_list.append(PNAConv(\n",
    "                in_channels=hidden_size,\n",
    "                out_channels = hidden_size,\n",
    "                edge_dim=edge_dim,\n",
    "                aggregators=[\"mean\", \"min\", \"max\", \"std\"],\n",
    "                scalers=[\"identity\", \"amplification\", \"attenuation\"],\n",
    "                deg=deg,\n",
    "                towers=1))\n",
    "            self.gn_list.append(GraphNorm(hidden_size))\n",
    "        # GAT\n",
    "        num_heads = 3\n",
    "        self.gat_list = ModuleList([])\n",
    "        self.gat = GATv2Conv(\n",
    "                in_channels=node_dim,\n",
    "                out_channels = hidden_size,\n",
    "                edge_dim=edge_dim,\n",
    "                heads = num_heads,\n",
    "                concat=False)\n",
    "        for _ in range(self.num_layers):\n",
    "            self.gat_list.append(GATv2Conv(\n",
    "                in_channels=hidden_size,\n",
    "                out_channels = hidden_size,\n",
    "                edge_dim=edge_dim,\n",
    "                heads = num_heads,\n",
    "                concat=False))\n",
    "        # GCN\n",
    "        self.gcn_list = ModuleList([])\n",
    "        self.gcn = GCNConv(in_channels=node_dim,\n",
    "                           out_channels=hidden_size,\n",
    "                           improved=True)\n",
    "        for _ in range(self.num_layers):\n",
    "            self.gcn_list.append(GCNConv(in_channels=hidden_size,\n",
    "                           out_channels=hidden_size,\n",
    "                           improved=True))\n",
    "        # GIN\n",
    "        self.gin_list = ModuleList([])\n",
    "        self.linear_gin1 = Linear(node_dim, hidden_size)\n",
    "        self.linear_gin2 = Linear(hidden_size, hidden_size)\n",
    "        self.gin = GINConv(nn=self.linear_gin1)\n",
    "        for _ in range(self.num_layers):\n",
    "            self.gin_list.append(GINConv(nn=self.linear_gin2))\n",
    "        # Linear layers\n",
    "        self.linear1 = Linear(hidden_size, dense_size)\n",
    "        self.linear2 = Linear(dense_size, int(dense_size / 2))\n",
    "        self.linear3 = Linear(int(dense_size / 2), 1)\n",
    "\n",
    "    def forward(self, x, edge_attr, edge_index, batch_index):\n",
    "        # PNA\n",
    "        if self.model_type == \"PNA\":\n",
    "            x = self.pan(x, edge_index, edge_attr)\n",
    "            x = self.gn(x, batch_index)\n",
    "            x, edge_index, edge_attr, batch_index, _, _ = self.pool(\n",
    "            x, edge_index, edge_attr, batch_index\n",
    "        )\n",
    "            for i in range(self.num_layers):\n",
    "                x = self.pan_list[i](x, edge_index, edge_attr)\n",
    "                x = self.gn_list[i](x, batch_index)\n",
    "        # GAT\n",
    "        if self.model_type == \"GAT\":\n",
    "            x = self.gat(x, edge_index, edge_attr)\n",
    "            x = self.gn(x, batch_index)\n",
    "            for i in range(self.num_layers):\n",
    "                x = self.gat_list[i](x, edge_index, edge_attr)\n",
    "                x = self.gn_list[i](x, batch_index)\n",
    "        # GCN\n",
    "        if self.model_type == \"GCN\":\n",
    "            x = self.gcn(x, edge_index)\n",
    "            x = self.gn(x, batch_index)\n",
    "            for i in range(self.num_layers):\n",
    "                x = self.gcn_list[i](x, edge_index)\n",
    "                x = self.gn_list[i](x, batch_index)\n",
    "        # GIN\n",
    "        if self.model_type == \"GIN\":\n",
    "            x = self.gin(x, edge_index)\n",
    "            x = self.gn(x, batch_index)\n",
    "            for i in range(self.num_layers):\n",
    "                x = self.gin_list[i](x, edge_index)\n",
    "                x = self.gn_list[i](x, batch_index)\n",
    "        # Output block\n",
    "        if self.pooling_method == \"add\":\n",
    "            x = global_add_pool(x, batch_index)\n",
    "        elif self.pooling_method ==\"mean\":\n",
    "            x = global_mean_pool(x, batch_index)\n",
    "        elif self.pooling_method ==\"max\":\n",
    "            x = global_max_pool(x, batch_index)\n",
    "        x = torch.relu(self.linear1(x))\n",
    "        x = F.dropout(x, p=0.2)\n",
    "        x = torch.relu(self.linear2(x))\n",
    "        x = self.linear3(x)\n",
    "        return x"
   ]
  },
  {
   "cell_type": "code",
   "execution_count": 7,
   "metadata": {},
   "outputs": [],
   "source": [
    "# model = GNN(\"PNA\", num_layers=0, pooling_method=\"max\")\n",
    "# model(batch.x, batch.edge_attr, batch.edge_index, batch.batch)"
   ]
  },
  {
   "cell_type": "code",
   "execution_count": 12,
   "metadata": {},
   "outputs": [],
   "source": [
    "import lightning as L\n",
    "\n",
    "\n",
    "class GNN_L(L.LightningModule):\n",
    "    def __init__(self, model):\n",
    "        super().__init__()\n",
    "        self.model = model\n",
    "        self.lr = 0.001\n",
    "        self.loss_fn = MSELoss()\n",
    "\n",
    "    def forward(self, x, edge_attr, edge_index, batch_index):\n",
    "        return self.model(\n",
    "            x.float(), edge_attr.float(), edge_index, batch_index\n",
    "        )\n",
    "\n",
    "    def training_step(self, batch, batch_nb):\n",
    "        preds = self(\n",
    "            batch.x.float(), batch.edge_attr.float(), batch.edge_index, batch.batch\n",
    "        ).squeeze()\n",
    "        target = batch.y.float()\n",
    "        loss = self.loss_fn(preds, target)\n",
    "        r2 = r2_score(preds, target)\n",
    "        rmse = root_mean_squared_error(target.numpy(), preds.detach().numpy())\n",
    "        self.log(\"r2\", r2)\n",
    "        self.log(\"rmse\", rmse)\n",
    "        self.log(\"loss\", loss)\n",
    "        return loss\n",
    "\n",
    "    def validation_step(self, batch, batch_nb):\n",
    "        preds = self(\n",
    "            batch.x.float(), batch.edge_attr.float(), batch.edge_index, batch.batch\n",
    "        ).squeeze()\n",
    "        target = batch.y.float()\n",
    "        val_r2 = r2_score(preds, target)\n",
    "        val_rmse = root_mean_squared_error(target.numpy(), preds.detach().numpy())\n",
    "        self.log(\"val_r2\", val_r2)\n",
    "        self.log(\"val_rmse\", val_rmse)\n",
    "    def configure_optimizers(self):\n",
    "        optimizer = torch.optim.Adam(\n",
    "            self.parameters(), lr=self.lr)\n",
    "        scheduler = torch.optim.lr_scheduler.ExponentialLR(\n",
    "            optimizer, gamma=0.98\n",
    "        )\n",
    "        return [optimizer], [{\"scheduler\": scheduler, \"interval\": \"epoch\"}]"
   ]
  },
  {
   "cell_type": "code",
   "execution_count": 13,
   "metadata": {},
   "outputs": [],
   "source": [
    "# Trainer\n",
    "def train_model(train_dataloader, test_dataloader, model_type, num_layers, pooling_method):\n",
    "    L.seed_everything(42)\n",
    "    model = GNN_L(GNN(model_type, num_layers=num_layers, pooling_method=pooling_method))\n",
    "    early_stopping = EarlyStopping(\"val_rmse\", patience=5)\n",
    "    lr_monitor = LearningRateMonitor(logging_interval=\"epoch\")\n",
    "    checkpoint_callback = ModelCheckpoint(filename=\"{epoch}-{loss:.2f}-{rmse:.2f}\",\n",
    "                                          monitor=\"val_rmse\",\n",
    "                                          save_top_k=2,\n",
    "                                          mode=\"min\")\n",
    "    logger = CSVLogger(save_dir=\"logs\", name=f\"{model_type}-{num_layers}-{pooling_method}\")\n",
    "    trainer = L.Trainer(\n",
    "        max_epochs=50,\n",
    "        callbacks=[early_stopping, lr_monitor, checkpoint_callback],\n",
    "        log_every_n_steps=5,\n",
    "        logger=logger,\n",
    "        deterministic=True,\n",
    "        accumulate_grad_batches=1,\n",
    "        enable_progress_bar= True\n",
    "    )\n",
    "    trainer.fit(model=model, train_dataloaders=train_dataloader, val_dataloaders=test_dataloader)\n",
    "    return model\n"
   ]
  },
  {
   "cell_type": "code",
   "execution_count": 14,
   "metadata": {},
   "outputs": [],
   "source": [
    "def mass_train():\n",
    "    model_list = [\"PNA\"]\n",
    "    layers_range = range(0,4,2)\n",
    "    pooling_list = [\"max\"]\n",
    "    for model_type in model_list:\n",
    "        for num_layers in layers_range:\n",
    "            for pooling_method in pooling_list:\n",
    "                train_model(train_dataloader=train_dataloader,\n",
    "                            test_dataloader = test_dataloader,\n",
    "                            model_type=model_type,\n",
    "                            num_layers=num_layers,\n",
    "                            pooling_method=pooling_method)\n"
   ]
  },
  {
   "cell_type": "code",
   "execution_count": 15,
   "metadata": {},
   "outputs": [
    {
     "name": "stderr",
     "output_type": "stream",
     "text": [
      "Seed set to 42\n",
      "GPU available: False, used: False\n",
      "TPU available: False, using: 0 TPU cores\n",
      "HPU available: False, using: 0 HPUs\n",
      "\n",
      "  | Name    | Type    | Params | Mode \n",
      "--------------------------------------------\n",
      "0 | model   | GNN     | 28.5 K | train\n",
      "1 | loss_fn | MSELoss | 0      | train\n",
      "--------------------------------------------\n",
      "28.5 K    Trainable params\n",
      "0         Non-trainable params\n",
      "28.5 K    Total params\n",
      "0.114     Total estimated model params size (MB)\n"
     ]
    },
    {
     "name": "stdout",
     "output_type": "stream",
     "text": [
      "Sanity Checking: |          | 0/? [00:00<?, ?it/s]"
     ]
    },
    {
     "data": {
      "text/html": [
       "<pre style=\"white-space:pre;overflow-x:auto;line-height:normal;font-family:Menlo,'DejaVu Sans Mono',consolas,'Courier New',monospace\"><span style=\"color: #7fbfbf; text-decoration-color: #7fbfbf\">[07/16/24 13:39:41] </span><span style=\"color: #800000; text-decoration-color: #800000\">WARNING </span> c:\\Users\\<span style=\"color: #008080; text-decoration-color: #008080; font-weight: bold\">01121272</span>\\Desktop\\Projects\\gnn-mp-model\\.venv\\Lib\\site-package <a href=\"file://C:\\Users\\01121272\\AppData\\Local\\Programs\\Python\\Python311\\Lib\\warnings.py\" target=\"_blank\"><span style=\"color: #7f7f7f; text-decoration-color: #7f7f7f\">warnings.py</span></a><span style=\"color: #7f7f7f; text-decoration-color: #7f7f7f\">:</span><a href=\"file://C:\\Users\\01121272\\AppData\\Local\\Programs\\Python\\Python311\\Lib\\warnings.py#110\" target=\"_blank\"><span style=\"color: #7f7f7f; text-decoration-color: #7f7f7f\">110</span></a>\n",
       "<span style=\"color: #7fbfbf; text-decoration-color: #7fbfbf\">                    </span>         s\\lightning\\pytorch\\trainer\\connectors\\data_connector.py:<span style=\"color: #008080; text-decoration-color: #008080; font-weight: bold\">475</span>: Your     <span style=\"color: #7f7f7f; text-decoration-color: #7f7f7f\">               </span>\n",
       "<span style=\"color: #7fbfbf; text-decoration-color: #7fbfbf\">                    </span>         `val_dataloader`'s sampler has shuffling enabled, it is strongly       <span style=\"color: #7f7f7f; text-decoration-color: #7f7f7f\">               </span>\n",
       "<span style=\"color: #7fbfbf; text-decoration-color: #7fbfbf\">                    </span>         recommended that you turn shuffling off for val/test dataloaders.      <span style=\"color: #7f7f7f; text-decoration-color: #7f7f7f\">               </span>\n",
       "<span style=\"color: #7fbfbf; text-decoration-color: #7fbfbf\">                    </span>                                                                                <span style=\"color: #7f7f7f; text-decoration-color: #7f7f7f\">               </span>\n",
       "</pre>\n"
      ],
      "text/plain": [
       "\u001b[2;36m[07/16/24 13:39:41]\u001b[0m\u001b[2;36m \u001b[0m\u001b[31mWARNING \u001b[0m c:\\Users\\\u001b[1;36m01121272\u001b[0m\\Desktop\\Projects\\gnn-mp-model\\.venv\\Lib\\site-package \u001b]8;id=288389;file://C:\\Users\\01121272\\AppData\\Local\\Programs\\Python\\Python311\\Lib\\warnings.py\u001b\\\u001b[2mwarnings.py\u001b[0m\u001b]8;;\u001b\\\u001b[2m:\u001b[0m\u001b]8;id=256787;file://C:\\Users\\01121272\\AppData\\Local\\Programs\\Python\\Python311\\Lib\\warnings.py#110\u001b\\\u001b[2m110\u001b[0m\u001b]8;;\u001b\\\n",
       "\u001b[2;36m                    \u001b[0m         s\\lightning\\pytorch\\trainer\\connectors\\data_connector.py:\u001b[1;36m475\u001b[0m: Your     \u001b[2m               \u001b[0m\n",
       "\u001b[2;36m                    \u001b[0m         `val_dataloader`'s sampler has shuffling enabled, it is strongly       \u001b[2m               \u001b[0m\n",
       "\u001b[2;36m                    \u001b[0m         recommended that you turn shuffling off for val/test dataloaders.      \u001b[2m               \u001b[0m\n",
       "\u001b[2;36m                    \u001b[0m                                                                                \u001b[2m               \u001b[0m\n"
      ]
     },
     "metadata": {},
     "output_type": "display_data"
    },
    {
     "data": {
      "text/html": [
       "<pre style=\"white-space:pre;overflow-x:auto;line-height:normal;font-family:Menlo,'DejaVu Sans Mono',consolas,'Courier New',monospace\"><span style=\"color: #7fbfbf; text-decoration-color: #7fbfbf\">                    </span><span style=\"color: #800000; text-decoration-color: #800000\">WARNING </span> c:\\Users\\<span style=\"color: #008080; text-decoration-color: #008080; font-weight: bold\">01121272</span>\\Desktop\\Projects\\gnn-mp-model\\.venv\\Lib\\site-package <a href=\"file://C:\\Users\\01121272\\AppData\\Local\\Programs\\Python\\Python311\\Lib\\warnings.py\" target=\"_blank\"><span style=\"color: #7f7f7f; text-decoration-color: #7f7f7f\">warnings.py</span></a><span style=\"color: #7f7f7f; text-decoration-color: #7f7f7f\">:</span><a href=\"file://C:\\Users\\01121272\\AppData\\Local\\Programs\\Python\\Python311\\Lib\\warnings.py#110\" target=\"_blank\"><span style=\"color: #7f7f7f; text-decoration-color: #7f7f7f\">110</span></a>\n",
       "<span style=\"color: #7fbfbf; text-decoration-color: #7fbfbf\">                    </span>         s\\lightning\\pytorch\\trainer\\connectors\\data_connector.py:<span style=\"color: #008080; text-decoration-color: #008080; font-weight: bold\">424</span>: The      <span style=\"color: #7f7f7f; text-decoration-color: #7f7f7f\">               </span>\n",
       "<span style=\"color: #7fbfbf; text-decoration-color: #7fbfbf\">                    </span>         <span style=\"color: #008000; text-decoration-color: #008000\">'val_dataloader'</span> does not have many workers which may be a bottleneck. <span style=\"color: #7f7f7f; text-decoration-color: #7f7f7f\">               </span>\n",
       "<span style=\"color: #7fbfbf; text-decoration-color: #7fbfbf\">                    </span>         Consider increasing the value of the `num_workers` argument` to        <span style=\"color: #7f7f7f; text-decoration-color: #7f7f7f\">               </span>\n",
       "<span style=\"color: #7fbfbf; text-decoration-color: #7fbfbf\">                    </span>         `<span style=\"color: #808000; text-decoration-color: #808000\">num_workers</span>=<span style=\"color: #008080; text-decoration-color: #008080; font-weight: bold\">7</span>` in the `DataLoader` to improve performance.            <span style=\"color: #7f7f7f; text-decoration-color: #7f7f7f\">               </span>\n",
       "<span style=\"color: #7fbfbf; text-decoration-color: #7fbfbf\">                    </span>                                                                                <span style=\"color: #7f7f7f; text-decoration-color: #7f7f7f\">               </span>\n",
       "</pre>\n"
      ],
      "text/plain": [
       "\u001b[2;36m                   \u001b[0m\u001b[2;36m \u001b[0m\u001b[31mWARNING \u001b[0m c:\\Users\\\u001b[1;36m01121272\u001b[0m\\Desktop\\Projects\\gnn-mp-model\\.venv\\Lib\\site-package \u001b]8;id=709570;file://C:\\Users\\01121272\\AppData\\Local\\Programs\\Python\\Python311\\Lib\\warnings.py\u001b\\\u001b[2mwarnings.py\u001b[0m\u001b]8;;\u001b\\\u001b[2m:\u001b[0m\u001b]8;id=776646;file://C:\\Users\\01121272\\AppData\\Local\\Programs\\Python\\Python311\\Lib\\warnings.py#110\u001b\\\u001b[2m110\u001b[0m\u001b]8;;\u001b\\\n",
       "\u001b[2;36m                    \u001b[0m         s\\lightning\\pytorch\\trainer\\connectors\\data_connector.py:\u001b[1;36m424\u001b[0m: The      \u001b[2m               \u001b[0m\n",
       "\u001b[2;36m                    \u001b[0m         \u001b[32m'val_dataloader'\u001b[0m does not have many workers which may be a bottleneck. \u001b[2m               \u001b[0m\n",
       "\u001b[2;36m                    \u001b[0m         Consider increasing the value of the `num_workers` argument` to        \u001b[2m               \u001b[0m\n",
       "\u001b[2;36m                    \u001b[0m         `\u001b[33mnum_workers\u001b[0m=\u001b[1;36m7\u001b[0m` in the `DataLoader` to improve performance.            \u001b[2m               \u001b[0m\n",
       "\u001b[2;36m                    \u001b[0m                                                                                \u001b[2m               \u001b[0m\n"
      ]
     },
     "metadata": {},
     "output_type": "display_data"
    },
    {
     "name": "stdout",
     "output_type": "stream",
     "text": [
      "                                                                           \r"
     ]
    },
    {
     "data": {
      "text/html": [
       "<pre style=\"white-space:pre;overflow-x:auto;line-height:normal;font-family:Menlo,'DejaVu Sans Mono',consolas,'Courier New',monospace\"><span style=\"color: #7fbfbf; text-decoration-color: #7fbfbf\">                    </span><span style=\"color: #800000; text-decoration-color: #800000\">WARNING </span> c:\\Users\\<span style=\"color: #008080; text-decoration-color: #008080; font-weight: bold\">01121272</span>\\Desktop\\Projects\\gnn-mp-model\\.venv\\Lib\\site-package <a href=\"file://C:\\Users\\01121272\\AppData\\Local\\Programs\\Python\\Python311\\Lib\\warnings.py\" target=\"_blank\"><span style=\"color: #7f7f7f; text-decoration-color: #7f7f7f\">warnings.py</span></a><span style=\"color: #7f7f7f; text-decoration-color: #7f7f7f\">:</span><a href=\"file://C:\\Users\\01121272\\AppData\\Local\\Programs\\Python\\Python311\\Lib\\warnings.py#110\" target=\"_blank\"><span style=\"color: #7f7f7f; text-decoration-color: #7f7f7f\">110</span></a>\n",
       "<span style=\"color: #7fbfbf; text-decoration-color: #7fbfbf\">                    </span>         s\\lightning\\pytorch\\trainer\\connectors\\data_connector.py:<span style=\"color: #008080; text-decoration-color: #008080; font-weight: bold\">424</span>: The      <span style=\"color: #7f7f7f; text-decoration-color: #7f7f7f\">               </span>\n",
       "<span style=\"color: #7fbfbf; text-decoration-color: #7fbfbf\">                    </span>         <span style=\"color: #008000; text-decoration-color: #008000\">'train_dataloader'</span> does not have many workers which may be a           <span style=\"color: #7f7f7f; text-decoration-color: #7f7f7f\">               </span>\n",
       "<span style=\"color: #7fbfbf; text-decoration-color: #7fbfbf\">                    </span>         bottleneck. Consider increasing the value of the `num_workers`         <span style=\"color: #7f7f7f; text-decoration-color: #7f7f7f\">               </span>\n",
       "<span style=\"color: #7fbfbf; text-decoration-color: #7fbfbf\">                    </span>         argument` to `<span style=\"color: #808000; text-decoration-color: #808000\">num_workers</span>=<span style=\"color: #008080; text-decoration-color: #008080; font-weight: bold\">7</span>` in the `DataLoader` to improve            <span style=\"color: #7f7f7f; text-decoration-color: #7f7f7f\">               </span>\n",
       "<span style=\"color: #7fbfbf; text-decoration-color: #7fbfbf\">                    </span>         performance.                                                           <span style=\"color: #7f7f7f; text-decoration-color: #7f7f7f\">               </span>\n",
       "<span style=\"color: #7fbfbf; text-decoration-color: #7fbfbf\">                    </span>                                                                                <span style=\"color: #7f7f7f; text-decoration-color: #7f7f7f\">               </span>\n",
       "</pre>\n"
      ],
      "text/plain": [
       "\u001b[2;36m                   \u001b[0m\u001b[2;36m \u001b[0m\u001b[31mWARNING \u001b[0m c:\\Users\\\u001b[1;36m01121272\u001b[0m\\Desktop\\Projects\\gnn-mp-model\\.venv\\Lib\\site-package \u001b]8;id=288389;file://C:\\Users\\01121272\\AppData\\Local\\Programs\\Python\\Python311\\Lib\\warnings.py\u001b\\\u001b[2mwarnings.py\u001b[0m\u001b]8;;\u001b\\\u001b[2m:\u001b[0m\u001b]8;id=256787;file://C:\\Users\\01121272\\AppData\\Local\\Programs\\Python\\Python311\\Lib\\warnings.py#110\u001b\\\u001b[2m110\u001b[0m\u001b]8;;\u001b\\\n",
       "\u001b[2;36m                    \u001b[0m         s\\lightning\\pytorch\\trainer\\connectors\\data_connector.py:\u001b[1;36m424\u001b[0m: The      \u001b[2m               \u001b[0m\n",
       "\u001b[2;36m                    \u001b[0m         \u001b[32m'train_dataloader'\u001b[0m does not have many workers which may be a           \u001b[2m               \u001b[0m\n",
       "\u001b[2;36m                    \u001b[0m         bottleneck. Consider increasing the value of the `num_workers`         \u001b[2m               \u001b[0m\n",
       "\u001b[2;36m                    \u001b[0m         argument` to `\u001b[33mnum_workers\u001b[0m=\u001b[1;36m7\u001b[0m` in the `DataLoader` to improve            \u001b[2m               \u001b[0m\n",
       "\u001b[2;36m                    \u001b[0m         performance.                                                           \u001b[2m               \u001b[0m\n",
       "\u001b[2;36m                    \u001b[0m                                                                                \u001b[2m               \u001b[0m\n"
      ]
     },
     "metadata": {},
     "output_type": "display_data"
    },
    {
     "name": "stdout",
     "output_type": "stream",
     "text": [
      "Epoch 16: 100%|██████████| 20/20 [00:01<00:00, 10.78it/s, v_num=5]"
     ]
    },
    {
     "name": "stderr",
     "output_type": "stream",
     "text": [
      "Seed set to 42\n"
     ]
    },
    {
     "name": "stdout",
     "output_type": "stream",
     "text": [
      "\n"
     ]
    },
    {
     "name": "stderr",
     "output_type": "stream",
     "text": [
      "GPU available: False, used: False\n",
      "TPU available: False, using: 0 TPU cores\n",
      "HPU available: False, using: 0 HPUs\n",
      "\n",
      "  | Name    | Type    | Params | Mode \n",
      "--------------------------------------------\n",
      "0 | model   | GNN     | 81.7 K | train\n",
      "1 | loss_fn | MSELoss | 0      | train\n",
      "--------------------------------------------\n",
      "81.7 K    Trainable params\n",
      "0         Non-trainable params\n",
      "81.7 K    Total params\n",
      "0.327     Total estimated model params size (MB)\n"
     ]
    },
    {
     "name": "stdout",
     "output_type": "stream",
     "text": [
      "Sanity Checking: |          | 0/? [00:00<?, ?it/s]"
     ]
    },
    {
     "data": {
      "text/html": [
       "<pre style=\"white-space:pre;overflow-x:auto;line-height:normal;font-family:Menlo,'DejaVu Sans Mono',consolas,'Courier New',monospace\"><span style=\"color: #7fbfbf; text-decoration-color: #7fbfbf\">[07/16/24 13:40:12] </span><span style=\"color: #800000; text-decoration-color: #800000\">WARNING </span> c:\\Users\\<span style=\"color: #008080; text-decoration-color: #008080; font-weight: bold\">01121272</span>\\Desktop\\Projects\\gnn-mp-model\\.venv\\Lib\\site-package <a href=\"file://C:\\Users\\01121272\\AppData\\Local\\Programs\\Python\\Python311\\Lib\\warnings.py\" target=\"_blank\"><span style=\"color: #7f7f7f; text-decoration-color: #7f7f7f\">warnings.py</span></a><span style=\"color: #7f7f7f; text-decoration-color: #7f7f7f\">:</span><a href=\"file://C:\\Users\\01121272\\AppData\\Local\\Programs\\Python\\Python311\\Lib\\warnings.py#110\" target=\"_blank\"><span style=\"color: #7f7f7f; text-decoration-color: #7f7f7f\">110</span></a>\n",
       "<span style=\"color: #7fbfbf; text-decoration-color: #7fbfbf\">                    </span>         s\\lightning\\pytorch\\trainer\\connectors\\data_connector.py:<span style=\"color: #008080; text-decoration-color: #008080; font-weight: bold\">475</span>: Your     <span style=\"color: #7f7f7f; text-decoration-color: #7f7f7f\">               </span>\n",
       "<span style=\"color: #7fbfbf; text-decoration-color: #7fbfbf\">                    </span>         `val_dataloader`'s sampler has shuffling enabled, it is strongly       <span style=\"color: #7f7f7f; text-decoration-color: #7f7f7f\">               </span>\n",
       "<span style=\"color: #7fbfbf; text-decoration-color: #7fbfbf\">                    </span>         recommended that you turn shuffling off for val/test dataloaders.      <span style=\"color: #7f7f7f; text-decoration-color: #7f7f7f\">               </span>\n",
       "<span style=\"color: #7fbfbf; text-decoration-color: #7fbfbf\">                    </span>                                                                                <span style=\"color: #7f7f7f; text-decoration-color: #7f7f7f\">               </span>\n",
       "</pre>\n"
      ],
      "text/plain": [
       "\u001b[2;36m[07/16/24 13:40:12]\u001b[0m\u001b[2;36m \u001b[0m\u001b[31mWARNING \u001b[0m c:\\Users\\\u001b[1;36m01121272\u001b[0m\\Desktop\\Projects\\gnn-mp-model\\.venv\\Lib\\site-package \u001b]8;id=288389;file://C:\\Users\\01121272\\AppData\\Local\\Programs\\Python\\Python311\\Lib\\warnings.py\u001b\\\u001b[2mwarnings.py\u001b[0m\u001b]8;;\u001b\\\u001b[2m:\u001b[0m\u001b]8;id=256787;file://C:\\Users\\01121272\\AppData\\Local\\Programs\\Python\\Python311\\Lib\\warnings.py#110\u001b\\\u001b[2m110\u001b[0m\u001b]8;;\u001b\\\n",
       "\u001b[2;36m                    \u001b[0m         s\\lightning\\pytorch\\trainer\\connectors\\data_connector.py:\u001b[1;36m475\u001b[0m: Your     \u001b[2m               \u001b[0m\n",
       "\u001b[2;36m                    \u001b[0m         `val_dataloader`'s sampler has shuffling enabled, it is strongly       \u001b[2m               \u001b[0m\n",
       "\u001b[2;36m                    \u001b[0m         recommended that you turn shuffling off for val/test dataloaders.      \u001b[2m               \u001b[0m\n",
       "\u001b[2;36m                    \u001b[0m                                                                                \u001b[2m               \u001b[0m\n"
      ]
     },
     "metadata": {},
     "output_type": "display_data"
    },
    {
     "data": {
      "text/html": [
       "<pre style=\"white-space:pre;overflow-x:auto;line-height:normal;font-family:Menlo,'DejaVu Sans Mono',consolas,'Courier New',monospace\"><span style=\"color: #7fbfbf; text-decoration-color: #7fbfbf\">                    </span><span style=\"color: #800000; text-decoration-color: #800000\">WARNING </span> c:\\Users\\<span style=\"color: #008080; text-decoration-color: #008080; font-weight: bold\">01121272</span>\\Desktop\\Projects\\gnn-mp-model\\.venv\\Lib\\site-package <a href=\"file://C:\\Users\\01121272\\AppData\\Local\\Programs\\Python\\Python311\\Lib\\warnings.py\" target=\"_blank\"><span style=\"color: #7f7f7f; text-decoration-color: #7f7f7f\">warnings.py</span></a><span style=\"color: #7f7f7f; text-decoration-color: #7f7f7f\">:</span><a href=\"file://C:\\Users\\01121272\\AppData\\Local\\Programs\\Python\\Python311\\Lib\\warnings.py#110\" target=\"_blank\"><span style=\"color: #7f7f7f; text-decoration-color: #7f7f7f\">110</span></a>\n",
       "<span style=\"color: #7fbfbf; text-decoration-color: #7fbfbf\">                    </span>         s\\lightning\\pytorch\\trainer\\connectors\\data_connector.py:<span style=\"color: #008080; text-decoration-color: #008080; font-weight: bold\">424</span>: The      <span style=\"color: #7f7f7f; text-decoration-color: #7f7f7f\">               </span>\n",
       "<span style=\"color: #7fbfbf; text-decoration-color: #7fbfbf\">                    </span>         <span style=\"color: #008000; text-decoration-color: #008000\">'val_dataloader'</span> does not have many workers which may be a bottleneck. <span style=\"color: #7f7f7f; text-decoration-color: #7f7f7f\">               </span>\n",
       "<span style=\"color: #7fbfbf; text-decoration-color: #7fbfbf\">                    </span>         Consider increasing the value of the `num_workers` argument` to        <span style=\"color: #7f7f7f; text-decoration-color: #7f7f7f\">               </span>\n",
       "<span style=\"color: #7fbfbf; text-decoration-color: #7fbfbf\">                    </span>         `<span style=\"color: #808000; text-decoration-color: #808000\">num_workers</span>=<span style=\"color: #008080; text-decoration-color: #008080; font-weight: bold\">7</span>` in the `DataLoader` to improve performance.            <span style=\"color: #7f7f7f; text-decoration-color: #7f7f7f\">               </span>\n",
       "<span style=\"color: #7fbfbf; text-decoration-color: #7fbfbf\">                    </span>                                                                                <span style=\"color: #7f7f7f; text-decoration-color: #7f7f7f\">               </span>\n",
       "</pre>\n"
      ],
      "text/plain": [
       "\u001b[2;36m                   \u001b[0m\u001b[2;36m \u001b[0m\u001b[31mWARNING \u001b[0m c:\\Users\\\u001b[1;36m01121272\u001b[0m\\Desktop\\Projects\\gnn-mp-model\\.venv\\Lib\\site-package \u001b]8;id=709570;file://C:\\Users\\01121272\\AppData\\Local\\Programs\\Python\\Python311\\Lib\\warnings.py\u001b\\\u001b[2mwarnings.py\u001b[0m\u001b]8;;\u001b\\\u001b[2m:\u001b[0m\u001b]8;id=776646;file://C:\\Users\\01121272\\AppData\\Local\\Programs\\Python\\Python311\\Lib\\warnings.py#110\u001b\\\u001b[2m110\u001b[0m\u001b]8;;\u001b\\\n",
       "\u001b[2;36m                    \u001b[0m         s\\lightning\\pytorch\\trainer\\connectors\\data_connector.py:\u001b[1;36m424\u001b[0m: The      \u001b[2m               \u001b[0m\n",
       "\u001b[2;36m                    \u001b[0m         \u001b[32m'val_dataloader'\u001b[0m does not have many workers which may be a bottleneck. \u001b[2m               \u001b[0m\n",
       "\u001b[2;36m                    \u001b[0m         Consider increasing the value of the `num_workers` argument` to        \u001b[2m               \u001b[0m\n",
       "\u001b[2;36m                    \u001b[0m         `\u001b[33mnum_workers\u001b[0m=\u001b[1;36m7\u001b[0m` in the `DataLoader` to improve performance.            \u001b[2m               \u001b[0m\n",
       "\u001b[2;36m                    \u001b[0m                                                                                \u001b[2m               \u001b[0m\n"
      ]
     },
     "metadata": {},
     "output_type": "display_data"
    },
    {
     "name": "stdout",
     "output_type": "stream",
     "text": [
      "                                                                           \r"
     ]
    },
    {
     "data": {
      "text/html": [
       "<pre style=\"white-space:pre;overflow-x:auto;line-height:normal;font-family:Menlo,'DejaVu Sans Mono',consolas,'Courier New',monospace\"><span style=\"color: #7fbfbf; text-decoration-color: #7fbfbf\">[07/16/24 13:40:13] </span><span style=\"color: #800000; text-decoration-color: #800000\">WARNING </span> c:\\Users\\<span style=\"color: #008080; text-decoration-color: #008080; font-weight: bold\">01121272</span>\\Desktop\\Projects\\gnn-mp-model\\.venv\\Lib\\site-package <a href=\"file://C:\\Users\\01121272\\AppData\\Local\\Programs\\Python\\Python311\\Lib\\warnings.py\" target=\"_blank\"><span style=\"color: #7f7f7f; text-decoration-color: #7f7f7f\">warnings.py</span></a><span style=\"color: #7f7f7f; text-decoration-color: #7f7f7f\">:</span><a href=\"file://C:\\Users\\01121272\\AppData\\Local\\Programs\\Python\\Python311\\Lib\\warnings.py#110\" target=\"_blank\"><span style=\"color: #7f7f7f; text-decoration-color: #7f7f7f\">110</span></a>\n",
       "<span style=\"color: #7fbfbf; text-decoration-color: #7fbfbf\">                    </span>         s\\lightning\\pytorch\\trainer\\connectors\\data_connector.py:<span style=\"color: #008080; text-decoration-color: #008080; font-weight: bold\">424</span>: The      <span style=\"color: #7f7f7f; text-decoration-color: #7f7f7f\">               </span>\n",
       "<span style=\"color: #7fbfbf; text-decoration-color: #7fbfbf\">                    </span>         <span style=\"color: #008000; text-decoration-color: #008000\">'train_dataloader'</span> does not have many workers which may be a           <span style=\"color: #7f7f7f; text-decoration-color: #7f7f7f\">               </span>\n",
       "<span style=\"color: #7fbfbf; text-decoration-color: #7fbfbf\">                    </span>         bottleneck. Consider increasing the value of the `num_workers`         <span style=\"color: #7f7f7f; text-decoration-color: #7f7f7f\">               </span>\n",
       "<span style=\"color: #7fbfbf; text-decoration-color: #7fbfbf\">                    </span>         argument` to `<span style=\"color: #808000; text-decoration-color: #808000\">num_workers</span>=<span style=\"color: #008080; text-decoration-color: #008080; font-weight: bold\">7</span>` in the `DataLoader` to improve            <span style=\"color: #7f7f7f; text-decoration-color: #7f7f7f\">               </span>\n",
       "<span style=\"color: #7fbfbf; text-decoration-color: #7fbfbf\">                    </span>         performance.                                                           <span style=\"color: #7f7f7f; text-decoration-color: #7f7f7f\">               </span>\n",
       "<span style=\"color: #7fbfbf; text-decoration-color: #7fbfbf\">                    </span>                                                                                <span style=\"color: #7f7f7f; text-decoration-color: #7f7f7f\">               </span>\n",
       "</pre>\n"
      ],
      "text/plain": [
       "\u001b[2;36m[07/16/24 13:40:13]\u001b[0m\u001b[2;36m \u001b[0m\u001b[31mWARNING \u001b[0m c:\\Users\\\u001b[1;36m01121272\u001b[0m\\Desktop\\Projects\\gnn-mp-model\\.venv\\Lib\\site-package \u001b]8;id=288389;file://C:\\Users\\01121272\\AppData\\Local\\Programs\\Python\\Python311\\Lib\\warnings.py\u001b\\\u001b[2mwarnings.py\u001b[0m\u001b]8;;\u001b\\\u001b[2m:\u001b[0m\u001b]8;id=256787;file://C:\\Users\\01121272\\AppData\\Local\\Programs\\Python\\Python311\\Lib\\warnings.py#110\u001b\\\u001b[2m110\u001b[0m\u001b]8;;\u001b\\\n",
       "\u001b[2;36m                    \u001b[0m         s\\lightning\\pytorch\\trainer\\connectors\\data_connector.py:\u001b[1;36m424\u001b[0m: The      \u001b[2m               \u001b[0m\n",
       "\u001b[2;36m                    \u001b[0m         \u001b[32m'train_dataloader'\u001b[0m does not have many workers which may be a           \u001b[2m               \u001b[0m\n",
       "\u001b[2;36m                    \u001b[0m         bottleneck. Consider increasing the value of the `num_workers`         \u001b[2m               \u001b[0m\n",
       "\u001b[2;36m                    \u001b[0m         argument` to `\u001b[33mnum_workers\u001b[0m=\u001b[1;36m7\u001b[0m` in the `DataLoader` to improve            \u001b[2m               \u001b[0m\n",
       "\u001b[2;36m                    \u001b[0m         performance.                                                           \u001b[2m               \u001b[0m\n",
       "\u001b[2;36m                    \u001b[0m                                                                                \u001b[2m               \u001b[0m\n"
      ]
     },
     "metadata": {},
     "output_type": "display_data"
    },
    {
     "name": "stdout",
     "output_type": "stream",
     "text": [
      "Epoch 19: 100%|██████████| 20/20 [00:02<00:00,  6.92it/s, v_num=5]\n"
     ]
    }
   ],
   "source": [
    "mass_train()"
   ]
  }
 ],
 "metadata": {
  "kernelspec": {
   "display_name": ".venv",
   "language": "python",
   "name": "python3"
  },
  "language_info": {
   "codemirror_mode": {
    "name": "ipython",
    "version": 3
   },
   "file_extension": ".py",
   "mimetype": "text/x-python",
   "name": "python",
   "nbconvert_exporter": "python",
   "pygments_lexer": "ipython3",
   "version": "3.11.9"
  }
 },
 "nbformat": 4,
 "nbformat_minor": 2
}
